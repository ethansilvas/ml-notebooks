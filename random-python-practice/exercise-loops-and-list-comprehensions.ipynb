{
 "cells": [
  {
   "cell_type": "markdown",
   "id": "a3ad8b3f",
   "metadata": {
    "papermill": {
     "duration": 0.019667,
     "end_time": "2021-10-16T01:17:22.930845",
     "exception": false,
     "start_time": "2021-10-16T01:17:22.911178",
     "status": "completed"
    },
    "tags": []
   },
   "source": [
    "**This notebook is an exercise in the [Python](https://www.kaggle.com/learn/python) course.  You can reference the tutorial at [this link](https://www.kaggle.com/colinmorris/loops-and-list-comprehensions).**\n",
    "\n",
    "---\n"
   ]
  },
  {
   "cell_type": "markdown",
   "id": "8699ab06",
   "metadata": {
    "papermill": {
     "duration": 0.014888,
     "end_time": "2021-10-16T01:17:22.963025",
     "exception": false,
     "start_time": "2021-10-16T01:17:22.948137",
     "status": "completed"
    },
    "tags": []
   },
   "source": [
    "With all you've learned, you can start writing much more interesting programs. See if you can solve the problems below.\n",
    "\n",
    "As always, run the setup code below before working on the questions."
   ]
  },
  {
   "cell_type": "code",
   "execution_count": 1,
   "id": "e0cd35c7",
   "metadata": {
    "execution": {
     "iopub.execute_input": "2021-10-16T01:17:23.006187Z",
     "iopub.status.busy": "2021-10-16T01:17:23.005544Z",
     "iopub.status.idle": "2021-10-16T01:17:23.053830Z",
     "shell.execute_reply": "2021-10-16T01:17:23.053121Z",
     "shell.execute_reply.started": "2021-10-16T00:41:36.24184Z"
    },
    "papermill": {
     "duration": 0.075417,
     "end_time": "2021-10-16T01:17:23.054002",
     "exception": false,
     "start_time": "2021-10-16T01:17:22.978585",
     "status": "completed"
    },
    "tags": []
   },
   "outputs": [
    {
     "name": "stdout",
     "output_type": "stream",
     "text": [
      "Setup complete.\n"
     ]
    }
   ],
   "source": [
    "from learntools.core import binder; binder.bind(globals())\n",
    "from learntools.python.ex5 import *\n",
    "print('Setup complete.')"
   ]
  },
  {
   "cell_type": "markdown",
   "id": "59562dd4",
   "metadata": {
    "papermill": {
     "duration": 0.015294,
     "end_time": "2021-10-16T01:17:23.085423",
     "exception": false,
     "start_time": "2021-10-16T01:17:23.070129",
     "status": "completed"
    },
    "tags": []
   },
   "source": [
    "# 1.\n",
    "\n",
    "Have you ever felt debugging involved a bit of luck? The following program has a bug. Try to identify the bug and fix it."
   ]
  },
  {
   "cell_type": "code",
   "execution_count": 2,
   "id": "d37fe1ad",
   "metadata": {
    "execution": {
     "iopub.execute_input": "2021-10-16T01:17:23.123299Z",
     "iopub.status.busy": "2021-10-16T01:17:23.122609Z",
     "iopub.status.idle": "2021-10-16T01:17:23.124324Z",
     "shell.execute_reply": "2021-10-16T01:17:23.124877Z",
     "shell.execute_reply.started": "2021-10-16T00:41:47.95277Z"
    },
    "papermill": {
     "duration": 0.02402,
     "end_time": "2021-10-16T01:17:23.125081",
     "exception": false,
     "start_time": "2021-10-16T01:17:23.101061",
     "status": "completed"
    },
    "tags": []
   },
   "outputs": [],
   "source": [
    "def has_lucky_number(nums):\n",
    "    \"\"\"Return whether the given list of numbers is lucky. A lucky list contains\n",
    "    at least one number divisible by 7.\n",
    "    \"\"\"\n",
    "    for num in nums:\n",
    "        if num % 7 == 0:\n",
    "            return True\n",
    "        else:\n",
    "            return False"
   ]
  },
  {
   "cell_type": "markdown",
   "id": "fc532b88",
   "metadata": {
    "papermill": {
     "duration": 0.016704,
     "end_time": "2021-10-16T01:17:23.157967",
     "exception": false,
     "start_time": "2021-10-16T01:17:23.141263",
     "status": "completed"
    },
    "tags": []
   },
   "source": [
    "Try to identify the bug and fix it in the cell below:"
   ]
  },
  {
   "cell_type": "code",
   "execution_count": 3,
   "id": "8b03bb69",
   "metadata": {
    "execution": {
     "iopub.execute_input": "2021-10-16T01:17:23.193965Z",
     "iopub.status.busy": "2021-10-16T01:17:23.193220Z",
     "iopub.status.idle": "2021-10-16T01:17:23.202514Z",
     "shell.execute_reply": "2021-10-16T01:17:23.203000Z",
     "shell.execute_reply.started": "2021-10-16T00:44:47.631721Z"
    },
    "papermill": {
     "duration": 0.028955,
     "end_time": "2021-10-16T01:17:23.203201",
     "exception": false,
     "start_time": "2021-10-16T01:17:23.174246",
     "status": "completed"
    },
    "tags": []
   },
   "outputs": [
    {
     "data": {
      "application/javascript": [
       "parent.postMessage({\"jupyterEvent\": \"custom.exercise_interaction\", \"data\": {\"outcomeType\": 1, \"valueTowardsCompletion\": 0.25, \"interactionType\": 1, \"questionType\": 2, \"questionId\": \"1_EarlyExitDebugging\", \"learnToolsVersion\": \"0.3.4\", \"failureMessage\": \"\", \"exceptionClass\": \"\", \"trace\": \"\"}}, \"*\")"
      ],
      "text/plain": [
       "<IPython.core.display.Javascript object>"
      ]
     },
     "metadata": {},
     "output_type": "display_data"
    },
    {
     "data": {
      "text/markdown": [
       "<span style=\"color:#33cc33\">Correct:</span> \n",
       "\n",
       "Remember that `return` causes a function to exit immediately. So our original implementation always ran for just one iteration. We can only return `False` if we've looked at every element of the list (and confirmed that none of them are lucky). Though we can return early if the answer is `True`:\n",
       "\n",
       "```python\n",
       "def has_lucky_number(nums):\n",
       "    for num in nums:\n",
       "        if num % 7 == 0:\n",
       "            return True\n",
       "    # We've exhausted the list without finding a lucky number\n",
       "    return False\n",
       "```\n",
       "\n",
       "Here's a one-line version using a list comprehension with Python's `any` function (you can read about what it does by calling `help(any)`):\n",
       "\n",
       "```python\n",
       "def has_lucky_number(nums):\n",
       "    return any([num % 7 == 0 for num in nums])\n",
       "```\n"
      ],
      "text/plain": [
       "Correct: \n",
       "\n",
       "Remember that `return` causes a function to exit immediately. So our original implementation always ran for just one iteration. We can only return `False` if we've looked at every element of the list (and confirmed that none of them are lucky). Though we can return early if the answer is `True`:\n",
       "\n",
       "```python\n",
       "def has_lucky_number(nums):\n",
       "    for num in nums:\n",
       "        if num % 7 == 0:\n",
       "            return True\n",
       "    # We've exhausted the list without finding a lucky number\n",
       "    return False\n",
       "```\n",
       "\n",
       "Here's a one-line version using a list comprehension with Python's `any` function (you can read about what it does by calling `help(any)`):\n",
       "\n",
       "```python\n",
       "def has_lucky_number(nums):\n",
       "    return any([num % 7 == 0 for num in nums])\n",
       "```"
      ]
     },
     "metadata": {},
     "output_type": "display_data"
    }
   ],
   "source": [
    "def has_lucky_number(nums):\n",
    "    \"\"\"Return whether the given list of numbers is lucky. A lucky list contains\n",
    "    at least one number divisible by 7.\n",
    "    \"\"\"\n",
    "    if len(nums) <= 0: return False\n",
    "    \n",
    "    for num in nums:\n",
    "        if num % 7 == 0:\n",
    "            return True\n",
    "        \n",
    "    return False\n",
    "\n",
    "# Check your answer\n",
    "q1.check()"
   ]
  },
  {
   "cell_type": "code",
   "execution_count": 4,
   "id": "134fe111",
   "metadata": {
    "execution": {
     "iopub.execute_input": "2021-10-16T01:17:23.240873Z",
     "iopub.status.busy": "2021-10-16T01:17:23.240235Z",
     "iopub.status.idle": "2021-10-16T01:17:23.242819Z",
     "shell.execute_reply": "2021-10-16T01:17:23.243481Z"
    },
    "papermill": {
     "duration": 0.023167,
     "end_time": "2021-10-16T01:17:23.243678",
     "exception": false,
     "start_time": "2021-10-16T01:17:23.220511",
     "status": "completed"
    },
    "tags": []
   },
   "outputs": [],
   "source": [
    "#q1.hint()\n",
    "#q1.solution()"
   ]
  },
  {
   "cell_type": "markdown",
   "id": "1430f247",
   "metadata": {
    "papermill": {
     "duration": 0.016929,
     "end_time": "2021-10-16T01:17:23.277978",
     "exception": false,
     "start_time": "2021-10-16T01:17:23.261049",
     "status": "completed"
    },
    "tags": []
   },
   "source": [
    "# 2.\n",
    "Look at the Python expression below. What do you think we'll get when we run it? When you've made your prediction, uncomment the code and run the cell to see if you were right."
   ]
  },
  {
   "cell_type": "code",
   "execution_count": 5,
   "id": "6dfc78aa",
   "metadata": {
    "execution": {
     "iopub.execute_input": "2021-10-16T01:17:23.316236Z",
     "iopub.status.busy": "2021-10-16T01:17:23.315479Z",
     "iopub.status.idle": "2021-10-16T01:17:23.385627Z",
     "shell.execute_reply": "2021-10-16T01:17:23.384627Z",
     "shell.execute_reply.started": "2021-10-16T00:47:40.310147Z"
    },
    "papermill": {
     "duration": 0.090602,
     "end_time": "2021-10-16T01:17:23.385970",
     "exception": true,
     "start_time": "2021-10-16T01:17:23.295368",
     "status": "failed"
    },
    "tags": []
   },
   "outputs": [
    {
     "ename": "TypeError",
     "evalue": "'>' not supported between instances of 'list' and 'int'",
     "output_type": "error",
     "traceback": [
      "\u001b[0;31m---------------------------------------------------------------------------\u001b[0m",
      "\u001b[0;31mTypeError\u001b[0m                                 Traceback (most recent call last)",
      "\u001b[0;32m/tmp/ipykernel_20/3401052631.py\u001b[0m in \u001b[0;36m<module>\u001b[0;34m\u001b[0m\n\u001b[0;32m----> 1\u001b[0;31m \u001b[0;34m[\u001b[0m\u001b[0;36m1\u001b[0m\u001b[0;34m,\u001b[0m \u001b[0;36m2\u001b[0m\u001b[0;34m,\u001b[0m \u001b[0;36m3\u001b[0m\u001b[0;34m,\u001b[0m \u001b[0;36m4\u001b[0m\u001b[0;34m]\u001b[0m \u001b[0;34m>\u001b[0m \u001b[0;36m2\u001b[0m\u001b[0;34m\u001b[0m\u001b[0;34m\u001b[0m\u001b[0m\n\u001b[0m",
      "\u001b[0;31mTypeError\u001b[0m: '>' not supported between instances of 'list' and 'int'"
     ]
    }
   ],
   "source": [
    "[1, 2, 3, 4] > 2"
   ]
  },
  {
   "cell_type": "markdown",
   "id": "1c351294",
   "metadata": {
    "papermill": {
     "duration": null,
     "end_time": null,
     "exception": null,
     "start_time": null,
     "status": "pending"
    },
    "tags": []
   },
   "source": [
    "R and Python have some libraries (like numpy and pandas) compare each element of the list to 2 (i.e. do an 'element-wise' comparison) and give us a list of booleans like `[False, False, True, True]`. \n",
    "\n",
    "Implement a function that reproduces this behaviour, returning a list of booleans corresponding to whether the corresponding element is greater than n."
   ]
  },
  {
   "cell_type": "code",
   "execution_count": null,
   "id": "df79cccc",
   "metadata": {
    "execution": {
     "iopub.execute_input": "2021-10-16T00:50:13.431247Z",
     "iopub.status.busy": "2021-10-16T00:50:13.430946Z",
     "iopub.status.idle": "2021-10-16T00:50:13.439451Z",
     "shell.execute_reply": "2021-10-16T00:50:13.438921Z",
     "shell.execute_reply.started": "2021-10-16T00:50:13.431217Z"
    },
    "papermill": {
     "duration": null,
     "end_time": null,
     "exception": null,
     "start_time": null,
     "status": "pending"
    },
    "tags": []
   },
   "outputs": [],
   "source": [
    "def elementwise_greater_than(L, thresh):\n",
    "    \"\"\"Return a list with the same length as L, where the value at index i is \n",
    "    True if L[i] is greater than thresh, and False otherwise.\n",
    "    \n",
    "    >>> elementwise_greater_than([1, 2, 3, 4], 2)\n",
    "    [False, False, True, True]\n",
    "    \"\"\"\n",
    "    return [num > thresh for num in L]\n",
    "\n",
    "# Check your answer\n",
    "q2.check()"
   ]
  },
  {
   "cell_type": "code",
   "execution_count": null,
   "id": "3075aa9c",
   "metadata": {
    "papermill": {
     "duration": null,
     "end_time": null,
     "exception": null,
     "start_time": null,
     "status": "pending"
    },
    "tags": []
   },
   "outputs": [],
   "source": [
    "#q2.solution()"
   ]
  },
  {
   "cell_type": "markdown",
   "id": "06d52b74",
   "metadata": {
    "papermill": {
     "duration": null,
     "end_time": null,
     "exception": null,
     "start_time": null,
     "status": "pending"
    },
    "tags": []
   },
   "source": [
    "# 3.\n",
    "\n",
    "Complete the body of the function below according to its docstring."
   ]
  },
  {
   "cell_type": "code",
   "execution_count": null,
   "id": "b0d0c422",
   "metadata": {
    "execution": {
     "iopub.execute_input": "2021-10-16T01:07:31.881813Z",
     "iopub.status.busy": "2021-10-16T01:07:31.881558Z",
     "iopub.status.idle": "2021-10-16T01:07:31.890178Z",
     "shell.execute_reply": "2021-10-16T01:07:31.889515Z",
     "shell.execute_reply.started": "2021-10-16T01:07:31.881785Z"
    },
    "papermill": {
     "duration": null,
     "end_time": null,
     "exception": null,
     "start_time": null,
     "status": "pending"
    },
    "tags": []
   },
   "outputs": [],
   "source": [
    "def menu_is_boring(meals):\n",
    "    \"\"\"Given a list of meals served over some period of time, return True if the\n",
    "    same meal has ever been served two days in a row, and False otherwise.\n",
    "    \"\"\"\n",
    "    for i in range(len(meals)): \n",
    "        if i > 0 and meals[i] == meals[i - 1]:\n",
    "            return True\n",
    "        \n",
    "    return False\n",
    "\n",
    "# Check your answer\n",
    "q3.check()"
   ]
  },
  {
   "cell_type": "code",
   "execution_count": null,
   "id": "354e4ffb",
   "metadata": {
    "papermill": {
     "duration": null,
     "end_time": null,
     "exception": null,
     "start_time": null,
     "status": "pending"
    },
    "tags": []
   },
   "outputs": [],
   "source": [
    "#q3.hint()\n",
    "#q3.solution()"
   ]
  },
  {
   "cell_type": "markdown",
   "id": "df7e15f7",
   "metadata": {
    "papermill": {
     "duration": null,
     "end_time": null,
     "exception": null,
     "start_time": null,
     "status": "pending"
    },
    "tags": []
   },
   "source": [
    "# 4. <span title=\"A bit spicy\" style=\"color: darkgreen \">🌶️</span>\n",
    "\n",
    "Next to the Blackjack table, the Python Challenge Casino has a slot machine. You can get a result from the slot machine by calling `play_slot_machine()`. The number it returns is your winnings in dollars. Usually it returns 0.  But sometimes you'll get lucky and get a big payday. Try running it below:"
   ]
  },
  {
   "cell_type": "code",
   "execution_count": null,
   "id": "adb66aad",
   "metadata": {
    "execution": {
     "iopub.execute_input": "2021-10-16T01:08:28.356941Z",
     "iopub.status.busy": "2021-10-16T01:08:28.356525Z",
     "iopub.status.idle": "2021-10-16T01:08:28.361176Z",
     "shell.execute_reply": "2021-10-16T01:08:28.360639Z",
     "shell.execute_reply.started": "2021-10-16T01:08:28.356912Z"
    },
    "papermill": {
     "duration": null,
     "end_time": null,
     "exception": null,
     "start_time": null,
     "status": "pending"
    },
    "tags": []
   },
   "outputs": [],
   "source": [
    "play_slot_machine()"
   ]
  },
  {
   "cell_type": "markdown",
   "id": "0d43c2a2",
   "metadata": {
    "papermill": {
     "duration": null,
     "end_time": null,
     "exception": null,
     "start_time": null,
     "status": "pending"
    },
    "tags": []
   },
   "source": [
    "By the way, did we mention that each play costs $1? Don't worry, we'll send you the bill later.\n",
    "\n",
    "On average, how much money can you expect to gain (or lose) every time you play the machine?  The casino keeps it a secret, but you can estimate the average value of each pull using a technique called the **Monte Carlo method**. To estimate the average outcome, we simulate the scenario many times, and return the average result.\n",
    "\n",
    "Complete the following function to calculate the average value per play of the slot machine."
   ]
  },
  {
   "cell_type": "code",
   "execution_count": null,
   "id": "2420585b",
   "metadata": {
    "execution": {
     "iopub.execute_input": "2021-10-16T01:14:35.722416Z",
     "iopub.status.busy": "2021-10-16T01:14:35.72212Z",
     "iopub.status.idle": "2021-10-16T01:14:35.727585Z",
     "shell.execute_reply": "2021-10-16T01:14:35.726809Z",
     "shell.execute_reply.started": "2021-10-16T01:14:35.722388Z"
    },
    "papermill": {
     "duration": null,
     "end_time": null,
     "exception": null,
     "start_time": null,
     "status": "pending"
    },
    "tags": []
   },
   "outputs": [],
   "source": [
    "def estimate_average_slot_payout(n_runs):\n",
    "    \"\"\"Run the slot machine n_runs times and return the average net profit per run.\n",
    "    Example calls (note that return value is nondeterministic!):\n",
    "    >>> estimate_average_slot_payout(1)\n",
    "    -1\n",
    "    >>> estimate_average_slot_payout(1)\n",
    "    0.5\n",
    "    \"\"\"\n",
    "    sum = 0\n",
    "    \n",
    "    for i in range(n_runs): \n",
    "        sum += play_slot_machine() - 1\n",
    "        \n",
    "    return sum / n_runs"
   ]
  },
  {
   "cell_type": "markdown",
   "id": "d0a2acd5",
   "metadata": {
    "papermill": {
     "duration": null,
     "end_time": null,
     "exception": null,
     "start_time": null,
     "status": "pending"
    },
    "tags": []
   },
   "source": [
    "When you think you know the expected value per spin, run the code cell below to view the solution and get credit for answering the question."
   ]
  },
  {
   "cell_type": "code",
   "execution_count": null,
   "id": "73271488",
   "metadata": {
    "execution": {
     "iopub.execute_input": "2021-10-16T01:15:38.81085Z",
     "iopub.status.busy": "2021-10-16T01:15:38.810094Z",
     "iopub.status.idle": "2021-10-16T01:15:43.536155Z",
     "shell.execute_reply": "2021-10-16T01:15:43.535328Z",
     "shell.execute_reply.started": "2021-10-16T01:15:38.810804Z"
    },
    "papermill": {
     "duration": null,
     "end_time": null,
     "exception": null,
     "start_time": null,
     "status": "pending"
    },
    "tags": []
   },
   "outputs": [],
   "source": [
    "# Check your answer (Run this code cell to receive credit!)\n",
    "print(estimate_average_slot_payout(10000000))\n",
    "q4.solution()"
   ]
  },
  {
   "cell_type": "markdown",
   "id": "0ee74750",
   "metadata": {
    "papermill": {
     "duration": null,
     "end_time": null,
     "exception": null,
     "start_time": null,
     "status": "pending"
    },
    "tags": []
   },
   "source": [
    "# Keep Going\n",
    "\n",
    "Many programmers report that dictionaries are their favorite data structure. You'll get to **[learn about them](https://www.kaggle.com/colinmorris/strings-and-dictionaries)** (as well as strings) in the next lesson."
   ]
  }
 ],
 "metadata": {
  "kernelspec": {
   "display_name": "Python 3",
   "language": "python",
   "name": "python3"
  },
  "language_info": {
   "codemirror_mode": {
    "name": "ipython",
    "version": 3
   },
   "file_extension": ".py",
   "mimetype": "text/x-python",
   "name": "python",
   "nbconvert_exporter": "python",
   "pygments_lexer": "ipython3",
   "version": "3.7.10"
  },
  "papermill": {
   "default_parameters": {},
   "duration": 10.95432,
   "end_time": "2021-10-16T01:17:24.116330",
   "environment_variables": {},
   "exception": true,
   "input_path": "__notebook__.ipynb",
   "output_path": "__notebook__.ipynb",
   "parameters": {},
   "start_time": "2021-10-16T01:17:13.162010",
   "version": "2.3.3"
  }
 },
 "nbformat": 4,
 "nbformat_minor": 5
}
