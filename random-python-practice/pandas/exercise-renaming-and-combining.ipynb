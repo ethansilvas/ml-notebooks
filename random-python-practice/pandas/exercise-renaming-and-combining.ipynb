{
 "cells": [
  {
   "cell_type": "markdown",
   "id": "de84efee",
   "metadata": {
    "papermill": {
     "duration": 0.016032,
     "end_time": "2021-11-08T04:53:26.331565",
     "exception": false,
     "start_time": "2021-11-08T04:53:26.315533",
     "status": "completed"
    },
    "tags": []
   },
   "source": [
    "**This notebook is an exercise in the [Pandas](https://www.kaggle.com/learn/pandas) course.  You can reference the tutorial at [this link](https://www.kaggle.com/residentmario/renaming-and-combining).**\n",
    "\n",
    "---\n"
   ]
  },
  {
   "cell_type": "markdown",
   "id": "4632f2c7",
   "metadata": {
    "papermill": {
     "duration": 0.014449,
     "end_time": "2021-11-08T04:53:26.361371",
     "exception": false,
     "start_time": "2021-11-08T04:53:26.346922",
     "status": "completed"
    },
    "tags": []
   },
   "source": [
    "# Introduction\n",
    "\n",
    "Run the following cell to load your data and some utility functions."
   ]
  },
  {
   "cell_type": "code",
   "execution_count": 1,
   "id": "d877982d",
   "metadata": {
    "execution": {
     "iopub.execute_input": "2021-11-08T04:53:26.399246Z",
     "iopub.status.busy": "2021-11-08T04:53:26.397445Z",
     "iopub.status.idle": "2021-11-08T04:53:30.525585Z",
     "shell.execute_reply": "2021-11-08T04:53:30.526421Z",
     "shell.execute_reply.started": "2021-11-08T04:41:39.071905Z"
    },
    "papermill": {
     "duration": 4.148434,
     "end_time": "2021-11-08T04:53:30.526736",
     "exception": false,
     "start_time": "2021-11-08T04:53:26.378302",
     "status": "completed"
    },
    "tags": []
   },
   "outputs": [
    {
     "name": "stdout",
     "output_type": "stream",
     "text": [
      "Setup complete.\n"
     ]
    }
   ],
   "source": [
    "import pandas as pd\n",
    "\n",
    "reviews = pd.read_csv(\"../input/wine-reviews/winemag-data-130k-v2.csv\", index_col=0)\n",
    "\n",
    "from learntools.core import binder; binder.bind(globals())\n",
    "from learntools.pandas.renaming_and_combining import *\n",
    "print(\"Setup complete.\")"
   ]
  },
  {
   "cell_type": "markdown",
   "id": "a6cc4459",
   "metadata": {
    "papermill": {
     "duration": 0.028108,
     "end_time": "2021-11-08T04:53:30.574601",
     "exception": false,
     "start_time": "2021-11-08T04:53:30.546493",
     "status": "completed"
    },
    "tags": []
   },
   "source": [
    "# Exercises\n",
    "\n",
    "View the first several lines of your data by running the cell below:"
   ]
  },
  {
   "cell_type": "code",
   "execution_count": 2,
   "id": "727796f2",
   "metadata": {
    "execution": {
     "iopub.execute_input": "2021-11-08T04:53:30.624643Z",
     "iopub.status.busy": "2021-11-08T04:53:30.623864Z",
     "iopub.status.idle": "2021-11-08T04:53:30.647686Z",
     "shell.execute_reply": "2021-11-08T04:53:30.648212Z",
     "shell.execute_reply.started": "2021-11-08T04:41:47.126443Z"
    },
    "papermill": {
     "duration": 0.052422,
     "end_time": "2021-11-08T04:53:30.648390",
     "exception": false,
     "start_time": "2021-11-08T04:53:30.595968",
     "status": "completed"
    },
    "tags": []
   },
   "outputs": [
    {
     "data": {
      "text/html": [
       "<div>\n",
       "<style scoped>\n",
       "    .dataframe tbody tr th:only-of-type {\n",
       "        vertical-align: middle;\n",
       "    }\n",
       "\n",
       "    .dataframe tbody tr th {\n",
       "        vertical-align: top;\n",
       "    }\n",
       "\n",
       "    .dataframe thead th {\n",
       "        text-align: right;\n",
       "    }\n",
       "</style>\n",
       "<table border=\"1\" class=\"dataframe\">\n",
       "  <thead>\n",
       "    <tr style=\"text-align: right;\">\n",
       "      <th></th>\n",
       "      <th>country</th>\n",
       "      <th>description</th>\n",
       "      <th>designation</th>\n",
       "      <th>points</th>\n",
       "      <th>price</th>\n",
       "      <th>province</th>\n",
       "      <th>region_1</th>\n",
       "      <th>region_2</th>\n",
       "      <th>taster_name</th>\n",
       "      <th>taster_twitter_handle</th>\n",
       "      <th>title</th>\n",
       "      <th>variety</th>\n",
       "      <th>winery</th>\n",
       "    </tr>\n",
       "  </thead>\n",
       "  <tbody>\n",
       "    <tr>\n",
       "      <th>0</th>\n",
       "      <td>Italy</td>\n",
       "      <td>Aromas include tropical fruit, broom, brimston...</td>\n",
       "      <td>Vulkà Bianco</td>\n",
       "      <td>87</td>\n",
       "      <td>NaN</td>\n",
       "      <td>Sicily &amp; Sardinia</td>\n",
       "      <td>Etna</td>\n",
       "      <td>NaN</td>\n",
       "      <td>Kerin O’Keefe</td>\n",
       "      <td>@kerinokeefe</td>\n",
       "      <td>Nicosia 2013 Vulkà Bianco  (Etna)</td>\n",
       "      <td>White Blend</td>\n",
       "      <td>Nicosia</td>\n",
       "    </tr>\n",
       "    <tr>\n",
       "      <th>1</th>\n",
       "      <td>Portugal</td>\n",
       "      <td>This is ripe and fruity, a wine that is smooth...</td>\n",
       "      <td>Avidagos</td>\n",
       "      <td>87</td>\n",
       "      <td>15.0</td>\n",
       "      <td>Douro</td>\n",
       "      <td>NaN</td>\n",
       "      <td>NaN</td>\n",
       "      <td>Roger Voss</td>\n",
       "      <td>@vossroger</td>\n",
       "      <td>Quinta dos Avidagos 2011 Avidagos Red (Douro)</td>\n",
       "      <td>Portuguese Red</td>\n",
       "      <td>Quinta dos Avidagos</td>\n",
       "    </tr>\n",
       "    <tr>\n",
       "      <th>2</th>\n",
       "      <td>US</td>\n",
       "      <td>Tart and snappy, the flavors of lime flesh and...</td>\n",
       "      <td>NaN</td>\n",
       "      <td>87</td>\n",
       "      <td>14.0</td>\n",
       "      <td>Oregon</td>\n",
       "      <td>Willamette Valley</td>\n",
       "      <td>Willamette Valley</td>\n",
       "      <td>Paul Gregutt</td>\n",
       "      <td>@paulgwine</td>\n",
       "      <td>Rainstorm 2013 Pinot Gris (Willamette Valley)</td>\n",
       "      <td>Pinot Gris</td>\n",
       "      <td>Rainstorm</td>\n",
       "    </tr>\n",
       "    <tr>\n",
       "      <th>3</th>\n",
       "      <td>US</td>\n",
       "      <td>Pineapple rind, lemon pith and orange blossom ...</td>\n",
       "      <td>Reserve Late Harvest</td>\n",
       "      <td>87</td>\n",
       "      <td>13.0</td>\n",
       "      <td>Michigan</td>\n",
       "      <td>Lake Michigan Shore</td>\n",
       "      <td>NaN</td>\n",
       "      <td>Alexander Peartree</td>\n",
       "      <td>NaN</td>\n",
       "      <td>St. Julian 2013 Reserve Late Harvest Riesling ...</td>\n",
       "      <td>Riesling</td>\n",
       "      <td>St. Julian</td>\n",
       "    </tr>\n",
       "    <tr>\n",
       "      <th>4</th>\n",
       "      <td>US</td>\n",
       "      <td>Much like the regular bottling from 2012, this...</td>\n",
       "      <td>Vintner's Reserve Wild Child Block</td>\n",
       "      <td>87</td>\n",
       "      <td>65.0</td>\n",
       "      <td>Oregon</td>\n",
       "      <td>Willamette Valley</td>\n",
       "      <td>Willamette Valley</td>\n",
       "      <td>Paul Gregutt</td>\n",
       "      <td>@paulgwine</td>\n",
       "      <td>Sweet Cheeks 2012 Vintner's Reserve Wild Child...</td>\n",
       "      <td>Pinot Noir</td>\n",
       "      <td>Sweet Cheeks</td>\n",
       "    </tr>\n",
       "  </tbody>\n",
       "</table>\n",
       "</div>"
      ],
      "text/plain": [
       "    country                                        description  \\\n",
       "0     Italy  Aromas include tropical fruit, broom, brimston...   \n",
       "1  Portugal  This is ripe and fruity, a wine that is smooth...   \n",
       "2        US  Tart and snappy, the flavors of lime flesh and...   \n",
       "3        US  Pineapple rind, lemon pith and orange blossom ...   \n",
       "4        US  Much like the regular bottling from 2012, this...   \n",
       "\n",
       "                          designation  points  price           province  \\\n",
       "0                        Vulkà Bianco      87    NaN  Sicily & Sardinia   \n",
       "1                            Avidagos      87   15.0              Douro   \n",
       "2                                 NaN      87   14.0             Oregon   \n",
       "3                Reserve Late Harvest      87   13.0           Michigan   \n",
       "4  Vintner's Reserve Wild Child Block      87   65.0             Oregon   \n",
       "\n",
       "              region_1           region_2         taster_name  \\\n",
       "0                 Etna                NaN       Kerin O’Keefe   \n",
       "1                  NaN                NaN          Roger Voss   \n",
       "2    Willamette Valley  Willamette Valley        Paul Gregutt   \n",
       "3  Lake Michigan Shore                NaN  Alexander Peartree   \n",
       "4    Willamette Valley  Willamette Valley        Paul Gregutt   \n",
       "\n",
       "  taster_twitter_handle                                              title  \\\n",
       "0          @kerinokeefe                  Nicosia 2013 Vulkà Bianco  (Etna)   \n",
       "1            @vossroger      Quinta dos Avidagos 2011 Avidagos Red (Douro)   \n",
       "2           @paulgwine       Rainstorm 2013 Pinot Gris (Willamette Valley)   \n",
       "3                   NaN  St. Julian 2013 Reserve Late Harvest Riesling ...   \n",
       "4           @paulgwine   Sweet Cheeks 2012 Vintner's Reserve Wild Child...   \n",
       "\n",
       "          variety               winery  \n",
       "0     White Blend              Nicosia  \n",
       "1  Portuguese Red  Quinta dos Avidagos  \n",
       "2      Pinot Gris            Rainstorm  \n",
       "3        Riesling           St. Julian  \n",
       "4      Pinot Noir         Sweet Cheeks  "
      ]
     },
     "execution_count": 2,
     "metadata": {},
     "output_type": "execute_result"
    }
   ],
   "source": [
    "reviews.head()"
   ]
  },
  {
   "cell_type": "markdown",
   "id": "3eaf0ed9",
   "metadata": {
    "papermill": {
     "duration": 0.016794,
     "end_time": "2021-11-08T04:53:30.682125",
     "exception": false,
     "start_time": "2021-11-08T04:53:30.665331",
     "status": "completed"
    },
    "tags": []
   },
   "source": [
    "## 1.\n",
    "`region_1` and `region_2` are pretty uninformative names for locale columns in the dataset. Create a copy of `reviews` with these columns renamed to `region` and `locale`, respectively."
   ]
  },
  {
   "cell_type": "code",
   "execution_count": 3,
   "id": "e12d4a35",
   "metadata": {
    "execution": {
     "iopub.execute_input": "2021-11-08T04:53:30.753819Z",
     "iopub.status.busy": "2021-11-08T04:53:30.731723Z",
     "iopub.status.idle": "2021-11-08T04:53:30.762899Z",
     "shell.execute_reply": "2021-11-08T04:53:30.762322Z",
     "shell.execute_reply.started": "2021-11-08T04:42:37.740144Z"
    },
    "papermill": {
     "duration": 0.057454,
     "end_time": "2021-11-08T04:53:30.763046",
     "exception": false,
     "start_time": "2021-11-08T04:53:30.705592",
     "status": "completed"
    },
    "tags": []
   },
   "outputs": [
    {
     "data": {
      "application/javascript": [
       "parent.postMessage({\"jupyterEvent\": \"custom.exercise_interaction\", \"data\": {\"outcomeType\": 1, \"valueTowardsCompletion\": 0.25, \"interactionType\": 1, \"questionType\": 1, \"questionId\": \"1_RenameCols\", \"learnToolsVersion\": \"0.3.4\", \"failureMessage\": \"\", \"exceptionClass\": \"\", \"trace\": \"\"}}, \"*\")"
      ],
      "text/plain": [
       "<IPython.core.display.Javascript object>"
      ]
     },
     "metadata": {},
     "output_type": "display_data"
    },
    {
     "data": {
      "text/markdown": [
       "<span style=\"color:#33cc33\">Correct</span>"
      ],
      "text/plain": [
       "Correct"
      ]
     },
     "metadata": {},
     "output_type": "display_data"
    }
   ],
   "source": [
    "# Your code here\n",
    "renamed = reviews.rename(columns={'region_1': 'region', 'region_2': 'locale'})\n",
    "\n",
    "# Check your answer\n",
    "q1.check()"
   ]
  },
  {
   "cell_type": "code",
   "execution_count": 4,
   "id": "9b08b353",
   "metadata": {
    "execution": {
     "iopub.execute_input": "2021-11-08T04:53:30.805843Z",
     "iopub.status.busy": "2021-11-08T04:53:30.804847Z",
     "iopub.status.idle": "2021-11-08T04:53:30.808003Z",
     "shell.execute_reply": "2021-11-08T04:53:30.807447Z"
    },
    "papermill": {
     "duration": 0.027943,
     "end_time": "2021-11-08T04:53:30.808143",
     "exception": false,
     "start_time": "2021-11-08T04:53:30.780200",
     "status": "completed"
    },
    "tags": []
   },
   "outputs": [],
   "source": [
    "#q1.hint()\n",
    "#q1.solution()"
   ]
  },
  {
   "cell_type": "markdown",
   "id": "cf37ab38",
   "metadata": {
    "papermill": {
     "duration": 0.017602,
     "end_time": "2021-11-08T04:53:30.847987",
     "exception": false,
     "start_time": "2021-11-08T04:53:30.830385",
     "status": "completed"
    },
    "tags": []
   },
   "source": [
    "## 2.\n",
    "Set the index name in the dataset to `wines`."
   ]
  },
  {
   "cell_type": "code",
   "execution_count": 5,
   "id": "66e2e6a5",
   "metadata": {
    "execution": {
     "iopub.execute_input": "2021-11-08T04:53:30.910371Z",
     "iopub.status.busy": "2021-11-08T04:53:30.909296Z",
     "iopub.status.idle": "2021-11-08T04:53:30.916869Z",
     "shell.execute_reply": "2021-11-08T04:53:30.917363Z",
     "shell.execute_reply.started": "2021-11-08T04:46:59.377042Z"
    },
    "papermill": {
     "duration": 0.052469,
     "end_time": "2021-11-08T04:53:30.917563",
     "exception": false,
     "start_time": "2021-11-08T04:53:30.865094",
     "status": "completed"
    },
    "tags": []
   },
   "outputs": [
    {
     "data": {
      "application/javascript": [
       "parent.postMessage({\"jupyterEvent\": \"custom.exercise_interaction\", \"data\": {\"outcomeType\": 1, \"valueTowardsCompletion\": 0.25, \"interactionType\": 1, \"questionType\": 1, \"questionId\": \"2_RenameIndex\", \"learnToolsVersion\": \"0.3.4\", \"failureMessage\": \"\", \"exceptionClass\": \"\", \"trace\": \"\"}}, \"*\")"
      ],
      "text/plain": [
       "<IPython.core.display.Javascript object>"
      ]
     },
     "metadata": {},
     "output_type": "display_data"
    },
    {
     "data": {
      "text/markdown": [
       "<span style=\"color:#33cc33\">Correct</span>"
      ],
      "text/plain": [
       "Correct"
      ]
     },
     "metadata": {},
     "output_type": "display_data"
    }
   ],
   "source": [
    "reindexed = reviews.rename_axis('wines', axis='rows')\n",
    "\n",
    "# Check your answer\n",
    "q2.check()"
   ]
  },
  {
   "cell_type": "code",
   "execution_count": 6,
   "id": "41024c90",
   "metadata": {
    "execution": {
     "iopub.execute_input": "2021-11-08T04:53:30.958054Z",
     "iopub.status.busy": "2021-11-08T04:53:30.957162Z",
     "iopub.status.idle": "2021-11-08T04:53:30.960005Z",
     "shell.execute_reply": "2021-11-08T04:53:30.960621Z"
    },
    "papermill": {
     "duration": 0.025052,
     "end_time": "2021-11-08T04:53:30.960800",
     "exception": false,
     "start_time": "2021-11-08T04:53:30.935748",
     "status": "completed"
    },
    "tags": []
   },
   "outputs": [],
   "source": [
    "#q2.hint()\n",
    "#q2.solution()"
   ]
  },
  {
   "cell_type": "markdown",
   "id": "ed930a5b",
   "metadata": {
    "papermill": {
     "duration": 0.017979,
     "end_time": "2021-11-08T04:53:30.997159",
     "exception": false,
     "start_time": "2021-11-08T04:53:30.979180",
     "status": "completed"
    },
    "tags": []
   },
   "source": [
    "## 3.\n",
    "The [Things on Reddit](https://www.kaggle.com/residentmario/things-on-reddit/data) dataset includes product links from a selection of top-ranked forums (\"subreddits\") on reddit.com. Run the cell below to load a dataframe of products mentioned on the */r/gaming* subreddit and another dataframe for products mentioned on the *r//movies* subreddit."
   ]
  },
  {
   "cell_type": "code",
   "execution_count": 7,
   "id": "c44d02ee",
   "metadata": {
    "execution": {
     "iopub.execute_input": "2021-11-08T04:53:31.040188Z",
     "iopub.status.busy": "2021-11-08T04:53:31.038885Z",
     "iopub.status.idle": "2021-11-08T04:53:31.051430Z",
     "shell.execute_reply": "2021-11-08T04:53:31.052000Z",
     "shell.execute_reply.started": "2021-11-08T04:48:26.332633Z"
    },
    "papermill": {
     "duration": 0.03666,
     "end_time": "2021-11-08T04:53:31.052175",
     "exception": false,
     "start_time": "2021-11-08T04:53:31.015515",
     "status": "completed"
    },
    "tags": []
   },
   "outputs": [],
   "source": [
    "gaming_products = pd.read_csv(\"../input/things-on-reddit/top-things/top-things/reddits/g/gaming.csv\")\n",
    "gaming_products['subreddit'] = \"r/gaming\"\n",
    "movie_products = pd.read_csv(\"../input/things-on-reddit/top-things/top-things/reddits/m/movies.csv\")\n",
    "movie_products['subreddit'] = \"r/movies\""
   ]
  },
  {
   "cell_type": "markdown",
   "id": "44c0f49b",
   "metadata": {
    "papermill": {
     "duration": 0.017904,
     "end_time": "2021-11-08T04:53:31.088694",
     "exception": false,
     "start_time": "2021-11-08T04:53:31.070790",
     "status": "completed"
    },
    "tags": []
   },
   "source": [
    "Create a `DataFrame` of products mentioned on *either* subreddit."
   ]
  },
  {
   "cell_type": "code",
   "execution_count": 8,
   "id": "88d40aba",
   "metadata": {
    "execution": {
     "iopub.execute_input": "2021-11-08T04:53:31.129173Z",
     "iopub.status.busy": "2021-11-08T04:53:31.128194Z",
     "iopub.status.idle": "2021-11-08T04:53:31.140816Z",
     "shell.execute_reply": "2021-11-08T04:53:31.141435Z",
     "shell.execute_reply.started": "2021-11-08T04:48:57.631794Z"
    },
    "papermill": {
     "duration": 0.034555,
     "end_time": "2021-11-08T04:53:31.141616",
     "exception": false,
     "start_time": "2021-11-08T04:53:31.107061",
     "status": "completed"
    },
    "tags": []
   },
   "outputs": [
    {
     "data": {
      "application/javascript": [
       "parent.postMessage({\"jupyterEvent\": \"custom.exercise_interaction\", \"data\": {\"outcomeType\": 1, \"valueTowardsCompletion\": 0.25, \"interactionType\": 1, \"questionType\": 2, \"questionId\": \"3_ConcatReddit\", \"learnToolsVersion\": \"0.3.4\", \"failureMessage\": \"\", \"exceptionClass\": \"\", \"trace\": \"\"}}, \"*\")"
      ],
      "text/plain": [
       "<IPython.core.display.Javascript object>"
      ]
     },
     "metadata": {},
     "output_type": "display_data"
    },
    {
     "data": {
      "text/markdown": [
       "<span style=\"color:#33cc33\">Correct</span>"
      ],
      "text/plain": [
       "Correct"
      ]
     },
     "metadata": {},
     "output_type": "display_data"
    }
   ],
   "source": [
    "combined_products = pd.concat([gaming_products, movie_products])\n",
    "\n",
    "# Check your answer\n",
    "q3.check()"
   ]
  },
  {
   "cell_type": "code",
   "execution_count": 9,
   "id": "b215efdd",
   "metadata": {
    "execution": {
     "iopub.execute_input": "2021-11-08T04:53:31.183843Z",
     "iopub.status.busy": "2021-11-08T04:53:31.182897Z",
     "iopub.status.idle": "2021-11-08T04:53:31.186149Z",
     "shell.execute_reply": "2021-11-08T04:53:31.186795Z"
    },
    "papermill": {
     "duration": 0.026198,
     "end_time": "2021-11-08T04:53:31.186972",
     "exception": false,
     "start_time": "2021-11-08T04:53:31.160774",
     "status": "completed"
    },
    "tags": []
   },
   "outputs": [],
   "source": [
    "#q3.hint()\n",
    "#q3.solution()"
   ]
  },
  {
   "cell_type": "markdown",
   "id": "37e6bc08",
   "metadata": {
    "papermill": {
     "duration": 0.019037,
     "end_time": "2021-11-08T04:53:31.225499",
     "exception": false,
     "start_time": "2021-11-08T04:53:31.206462",
     "status": "completed"
    },
    "tags": []
   },
   "source": [
    "## 4.\n",
    "The [Powerlifting Database](https://www.kaggle.com/open-powerlifting/powerlifting-database) dataset on Kaggle includes one CSV table for powerlifting meets and a separate one for powerlifting competitors. Run the cell below to load these datasets into dataframes:"
   ]
  },
  {
   "cell_type": "code",
   "execution_count": 10,
   "id": "5ca1d53d",
   "metadata": {
    "execution": {
     "iopub.execute_input": "2021-11-08T04:53:31.272348Z",
     "iopub.status.busy": "2021-11-08T04:53:31.271342Z",
     "iopub.status.idle": "2021-11-08T04:53:32.117336Z",
     "shell.execute_reply": "2021-11-08T04:53:32.116727Z",
     "shell.execute_reply.started": "2021-11-08T04:49:17.896678Z"
    },
    "papermill": {
     "duration": 0.872652,
     "end_time": "2021-11-08T04:53:32.117520",
     "exception": false,
     "start_time": "2021-11-08T04:53:31.244868",
     "status": "completed"
    },
    "tags": []
   },
   "outputs": [],
   "source": [
    "powerlifting_meets = pd.read_csv(\"../input/powerlifting-database/meets.csv\")\n",
    "powerlifting_competitors = pd.read_csv(\"../input/powerlifting-database/openpowerlifting.csv\")"
   ]
  },
  {
   "cell_type": "markdown",
   "id": "61ffb4ad",
   "metadata": {
    "papermill": {
     "duration": 0.019969,
     "end_time": "2021-11-08T04:53:32.157308",
     "exception": false,
     "start_time": "2021-11-08T04:53:32.137339",
     "status": "completed"
    },
    "tags": []
   },
   "source": [
    "Both tables include references to a `MeetID`, a unique key for each meet (competition) included in the database. Using this, generate a dataset combining the two tables into one."
   ]
  },
  {
   "cell_type": "code",
   "execution_count": 11,
   "id": "34d3237f",
   "metadata": {
    "execution": {
     "iopub.execute_input": "2021-11-08T04:53:32.200289Z",
     "iopub.status.busy": "2021-11-08T04:53:32.199288Z",
     "iopub.status.idle": "2021-11-08T04:53:33.340610Z",
     "shell.execute_reply": "2021-11-08T04:53:33.341104Z",
     "shell.execute_reply.started": "2021-11-08T04:51:55.187581Z"
    },
    "papermill": {
     "duration": 1.164296,
     "end_time": "2021-11-08T04:53:33.341268",
     "exception": false,
     "start_time": "2021-11-08T04:53:32.176972",
     "status": "completed"
    },
    "tags": []
   },
   "outputs": [
    {
     "data": {
      "application/javascript": [
       "parent.postMessage({\"jupyterEvent\": \"custom.exercise_interaction\", \"data\": {\"outcomeType\": 1, \"valueTowardsCompletion\": 0.25, \"interactionType\": 1, \"questionType\": 2, \"questionId\": \"4_JoinLifting\", \"learnToolsVersion\": \"0.3.4\", \"failureMessage\": \"\", \"exceptionClass\": \"\", \"trace\": \"\"}}, \"*\")"
      ],
      "text/plain": [
       "<IPython.core.display.Javascript object>"
      ]
     },
     "metadata": {},
     "output_type": "display_data"
    },
    {
     "data": {
      "text/markdown": [
       "<span style=\"color:#33cc33\">Correct</span>"
      ],
      "text/plain": [
       "Correct"
      ]
     },
     "metadata": {},
     "output_type": "display_data"
    }
   ],
   "source": [
    "left = powerlifting_meets.set_index(['MeetID'])\n",
    "right = powerlifting_competitors.set_index(['MeetID'])\n",
    "powerlifting_combined = left.join(right)\n",
    "\n",
    "# Check your answer\n",
    "q4.check()"
   ]
  },
  {
   "cell_type": "code",
   "execution_count": 12,
   "id": "32f1d610",
   "metadata": {
    "execution": {
     "iopub.execute_input": "2021-11-08T04:53:33.385161Z",
     "iopub.status.busy": "2021-11-08T04:53:33.384225Z",
     "iopub.status.idle": "2021-11-08T04:53:33.387209Z",
     "shell.execute_reply": "2021-11-08T04:53:33.387814Z"
    },
    "papermill": {
     "duration": 0.026764,
     "end_time": "2021-11-08T04:53:33.387977",
     "exception": false,
     "start_time": "2021-11-08T04:53:33.361213",
     "status": "completed"
    },
    "tags": []
   },
   "outputs": [],
   "source": [
    "#q4.hint()\n",
    "#q4.solution()"
   ]
  },
  {
   "cell_type": "markdown",
   "id": "22bf6891",
   "metadata": {
    "papermill": {
     "duration": 0.020208,
     "end_time": "2021-11-08T04:53:33.429028",
     "exception": false,
     "start_time": "2021-11-08T04:53:33.408820",
     "status": "completed"
    },
    "tags": []
   },
   "source": [
    "# Congratulations!\n",
    "\n",
    "You've finished the Pandas micro-course.  Many data scientists feel efficiency with Pandas is the most useful and practical skill they have, because it allows you to progress quickly in any project you have.\n",
    "\n",
    "If you'd like to apply your new skills to examining geospatial data, you're encouraged to check out our **[Geospatial Analysis](https://www.kaggle.com/learn/geospatial-analysis)** micro-course.\n",
    "\n",
    "You can also take advantage of your Pandas skills by entering a **[Kaggle Competition](https://www.kaggle.com/competitions)** or by answering a question you find interesting using **[Kaggle Datasets](https://www.kaggle.com/datasets)**."
   ]
  }
 ],
 "metadata": {
  "kernelspec": {
   "display_name": "Python 3",
   "language": "python",
   "name": "python3"
  },
  "language_info": {
   "codemirror_mode": {
    "name": "ipython",
    "version": 3
   },
   "file_extension": ".py",
   "mimetype": "text/x-python",
   "name": "python",
   "nbconvert_exporter": "python",
   "pygments_lexer": "ipython3",
   "version": "3.7.10"
  },
  "papermill": {
   "default_parameters": {},
   "duration": 17.64365,
   "end_time": "2021-11-08T04:53:34.160438",
   "environment_variables": {},
   "exception": null,
   "input_path": "__notebook__.ipynb",
   "output_path": "__notebook__.ipynb",
   "parameters": {},
   "start_time": "2021-11-08T04:53:16.516788",
   "version": "2.3.3"
  }
 },
 "nbformat": 4,
 "nbformat_minor": 5
}
