{
 "cells": [
  {
   "cell_type": "markdown",
   "id": "e228fc12",
   "metadata": {
    "papermill": {
     "duration": 0.025686,
     "end_time": "2021-11-01T00:44:35.686896",
     "exception": false,
     "start_time": "2021-11-01T00:44:35.661210",
     "status": "completed"
    },
    "tags": []
   },
   "source": [
    "**This notebook is an exercise in the [Pandas](https://www.kaggle.com/learn/pandas) course.  You can reference the tutorial at [this link](https://www.kaggle.com/residentmario/summary-functions-and-maps).**\n",
    "\n",
    "---\n"
   ]
  },
  {
   "cell_type": "markdown",
   "id": "12c81262",
   "metadata": {
    "papermill": {
     "duration": 0.023157,
     "end_time": "2021-11-01T00:44:35.734428",
     "exception": false,
     "start_time": "2021-11-01T00:44:35.711271",
     "status": "completed"
    },
    "tags": []
   },
   "source": [
    "# Introduction\n",
    "\n",
    "Now you are ready to get a deeper understanding of your data.\n",
    "\n",
    "Run the following cell to load your data and some utility functions (including code to check your answers)."
   ]
  },
  {
   "cell_type": "code",
   "execution_count": 1,
   "id": "d42a324b",
   "metadata": {
    "execution": {
     "iopub.execute_input": "2021-11-01T00:44:35.776817Z",
     "iopub.status.busy": "2021-11-01T00:44:35.775568Z",
     "iopub.status.idle": "2021-11-01T00:44:43.670539Z",
     "shell.execute_reply": "2021-11-01T00:44:43.671050Z",
     "shell.execute_reply.started": "2021-11-01T00:35:21.271871Z"
    },
    "papermill": {
     "duration": 7.917842,
     "end_time": "2021-11-01T00:44:43.671337",
     "exception": false,
     "start_time": "2021-11-01T00:44:35.753495",
     "status": "completed"
    },
    "tags": []
   },
   "outputs": [
    {
     "name": "stdout",
     "output_type": "stream",
     "text": [
      "Setup complete.\n"
     ]
    },
    {
     "data": {
      "text/html": [
       "<div>\n",
       "<style scoped>\n",
       "    .dataframe tbody tr th:only-of-type {\n",
       "        vertical-align: middle;\n",
       "    }\n",
       "\n",
       "    .dataframe tbody tr th {\n",
       "        vertical-align: top;\n",
       "    }\n",
       "\n",
       "    .dataframe thead th {\n",
       "        text-align: right;\n",
       "    }\n",
       "</style>\n",
       "<table border=\"1\" class=\"dataframe\">\n",
       "  <thead>\n",
       "    <tr style=\"text-align: right;\">\n",
       "      <th></th>\n",
       "      <th>country</th>\n",
       "      <th>description</th>\n",
       "      <th>designation</th>\n",
       "      <th>points</th>\n",
       "      <th>price</th>\n",
       "      <th>province</th>\n",
       "      <th>region_1</th>\n",
       "      <th>region_2</th>\n",
       "      <th>taster_name</th>\n",
       "      <th>taster_twitter_handle</th>\n",
       "      <th>title</th>\n",
       "      <th>variety</th>\n",
       "      <th>winery</th>\n",
       "    </tr>\n",
       "  </thead>\n",
       "  <tbody>\n",
       "    <tr>\n",
       "      <th>0</th>\n",
       "      <td>Italy</td>\n",
       "      <td>Aromas include tropical fruit, broom, brimston...</td>\n",
       "      <td>Vulkà Bianco</td>\n",
       "      <td>87</td>\n",
       "      <td>NaN</td>\n",
       "      <td>Sicily &amp; Sardinia</td>\n",
       "      <td>Etna</td>\n",
       "      <td>NaN</td>\n",
       "      <td>Kerin O’Keefe</td>\n",
       "      <td>@kerinokeefe</td>\n",
       "      <td>Nicosia 2013 Vulkà Bianco  (Etna)</td>\n",
       "      <td>White Blend</td>\n",
       "      <td>Nicosia</td>\n",
       "    </tr>\n",
       "    <tr>\n",
       "      <th>1</th>\n",
       "      <td>Portugal</td>\n",
       "      <td>This is ripe and fruity, a wine that is smooth...</td>\n",
       "      <td>Avidagos</td>\n",
       "      <td>87</td>\n",
       "      <td>15.0</td>\n",
       "      <td>Douro</td>\n",
       "      <td>NaN</td>\n",
       "      <td>NaN</td>\n",
       "      <td>Roger Voss</td>\n",
       "      <td>@vossroger</td>\n",
       "      <td>Quinta dos Avidagos 2011 Avidagos Red (Douro)</td>\n",
       "      <td>Portuguese Red</td>\n",
       "      <td>Quinta dos Avidagos</td>\n",
       "    </tr>\n",
       "    <tr>\n",
       "      <th>2</th>\n",
       "      <td>US</td>\n",
       "      <td>Tart and snappy, the flavors of lime flesh and...</td>\n",
       "      <td>NaN</td>\n",
       "      <td>87</td>\n",
       "      <td>14.0</td>\n",
       "      <td>Oregon</td>\n",
       "      <td>Willamette Valley</td>\n",
       "      <td>Willamette Valley</td>\n",
       "      <td>Paul Gregutt</td>\n",
       "      <td>@paulgwine</td>\n",
       "      <td>Rainstorm 2013 Pinot Gris (Willamette Valley)</td>\n",
       "      <td>Pinot Gris</td>\n",
       "      <td>Rainstorm</td>\n",
       "    </tr>\n",
       "    <tr>\n",
       "      <th>3</th>\n",
       "      <td>US</td>\n",
       "      <td>Pineapple rind, lemon pith and orange blossom ...</td>\n",
       "      <td>Reserve Late Harvest</td>\n",
       "      <td>87</td>\n",
       "      <td>13.0</td>\n",
       "      <td>Michigan</td>\n",
       "      <td>Lake Michigan Shore</td>\n",
       "      <td>NaN</td>\n",
       "      <td>Alexander Peartree</td>\n",
       "      <td>NaN</td>\n",
       "      <td>St. Julian 2013 Reserve Late Harvest Riesling ...</td>\n",
       "      <td>Riesling</td>\n",
       "      <td>St. Julian</td>\n",
       "    </tr>\n",
       "    <tr>\n",
       "      <th>4</th>\n",
       "      <td>US</td>\n",
       "      <td>Much like the regular bottling from 2012, this...</td>\n",
       "      <td>Vintner's Reserve Wild Child Block</td>\n",
       "      <td>87</td>\n",
       "      <td>65.0</td>\n",
       "      <td>Oregon</td>\n",
       "      <td>Willamette Valley</td>\n",
       "      <td>Willamette Valley</td>\n",
       "      <td>Paul Gregutt</td>\n",
       "      <td>@paulgwine</td>\n",
       "      <td>Sweet Cheeks 2012 Vintner's Reserve Wild Child...</td>\n",
       "      <td>Pinot Noir</td>\n",
       "      <td>Sweet Cheeks</td>\n",
       "    </tr>\n",
       "  </tbody>\n",
       "</table>\n",
       "</div>"
      ],
      "text/plain": [
       "    country                                        description  \\\n",
       "0     Italy  Aromas include tropical fruit, broom, brimston...   \n",
       "1  Portugal  This is ripe and fruity, a wine that is smooth...   \n",
       "2        US  Tart and snappy, the flavors of lime flesh and...   \n",
       "3        US  Pineapple rind, lemon pith and orange blossom ...   \n",
       "4        US  Much like the regular bottling from 2012, this...   \n",
       "\n",
       "                          designation  points  price           province  \\\n",
       "0                        Vulkà Bianco      87    NaN  Sicily & Sardinia   \n",
       "1                            Avidagos      87   15.0              Douro   \n",
       "2                                 NaN      87   14.0             Oregon   \n",
       "3                Reserve Late Harvest      87   13.0           Michigan   \n",
       "4  Vintner's Reserve Wild Child Block      87   65.0             Oregon   \n",
       "\n",
       "              region_1           region_2         taster_name  \\\n",
       "0                 Etna                NaN       Kerin O’Keefe   \n",
       "1                  NaN                NaN          Roger Voss   \n",
       "2    Willamette Valley  Willamette Valley        Paul Gregutt   \n",
       "3  Lake Michigan Shore                NaN  Alexander Peartree   \n",
       "4    Willamette Valley  Willamette Valley        Paul Gregutt   \n",
       "\n",
       "  taster_twitter_handle                                              title  \\\n",
       "0          @kerinokeefe                  Nicosia 2013 Vulkà Bianco  (Etna)   \n",
       "1            @vossroger      Quinta dos Avidagos 2011 Avidagos Red (Douro)   \n",
       "2           @paulgwine       Rainstorm 2013 Pinot Gris (Willamette Valley)   \n",
       "3                   NaN  St. Julian 2013 Reserve Late Harvest Riesling ...   \n",
       "4           @paulgwine   Sweet Cheeks 2012 Vintner's Reserve Wild Child...   \n",
       "\n",
       "          variety               winery  \n",
       "0     White Blend              Nicosia  \n",
       "1  Portuguese Red  Quinta dos Avidagos  \n",
       "2      Pinot Gris            Rainstorm  \n",
       "3        Riesling           St. Julian  \n",
       "4      Pinot Noir         Sweet Cheeks  "
      ]
     },
     "execution_count": 1,
     "metadata": {},
     "output_type": "execute_result"
    }
   ],
   "source": [
    "import pandas as pd\n",
    "pd.set_option(\"display.max_rows\", 5)\n",
    "reviews = pd.read_csv(\"../input/wine-reviews/winemag-data-130k-v2.csv\", index_col=0)\n",
    "\n",
    "from learntools.core import binder; binder.bind(globals())\n",
    "from learntools.pandas.summary_functions_and_maps import *\n",
    "print(\"Setup complete.\")\n",
    "\n",
    "reviews.head()"
   ]
  },
  {
   "cell_type": "markdown",
   "id": "8ab822de",
   "metadata": {
    "papermill": {
     "duration": 0.019127,
     "end_time": "2021-11-01T00:44:43.709683",
     "exception": false,
     "start_time": "2021-11-01T00:44:43.690556",
     "status": "completed"
    },
    "tags": []
   },
   "source": [
    "# Exercises"
   ]
  },
  {
   "cell_type": "markdown",
   "id": "5cbfac4e",
   "metadata": {
    "papermill": {
     "duration": 0.019716,
     "end_time": "2021-11-01T00:44:43.749172",
     "exception": false,
     "start_time": "2021-11-01T00:44:43.729456",
     "status": "completed"
    },
    "tags": []
   },
   "source": [
    "## 1.\n",
    "\n",
    "What is the median of the `points` column in the `reviews` DataFrame?"
   ]
  },
  {
   "cell_type": "code",
   "execution_count": 2,
   "id": "745c5bf8",
   "metadata": {
    "execution": {
     "iopub.execute_input": "2021-11-01T00:44:43.794558Z",
     "iopub.status.busy": "2021-11-01T00:44:43.793795Z",
     "iopub.status.idle": "2021-11-01T00:44:43.798989Z",
     "shell.execute_reply": "2021-11-01T00:44:43.799590Z",
     "shell.execute_reply.started": "2021-11-01T00:35:22.462507Z"
    },
    "papermill": {
     "duration": 0.030849,
     "end_time": "2021-11-01T00:44:43.799753",
     "exception": false,
     "start_time": "2021-11-01T00:44:43.768904",
     "status": "completed"
    },
    "tags": []
   },
   "outputs": [
    {
     "data": {
      "application/javascript": [
       "parent.postMessage({\"jupyterEvent\": \"custom.exercise_interaction\", \"data\": {\"outcomeType\": 1, \"valueTowardsCompletion\": 0.14285714285714285, \"interactionType\": 1, \"questionType\": 1, \"questionId\": \"1_MedianPoints\", \"learnToolsVersion\": \"0.3.4\", \"failureMessage\": \"\", \"exceptionClass\": \"\", \"trace\": \"\"}}, \"*\")"
      ],
      "text/plain": [
       "<IPython.core.display.Javascript object>"
      ]
     },
     "metadata": {},
     "output_type": "display_data"
    },
    {
     "data": {
      "text/markdown": [
       "<span style=\"color:#33cc33\">Correct</span>"
      ],
      "text/plain": [
       "Correct"
      ]
     },
     "metadata": {},
     "output_type": "display_data"
    }
   ],
   "source": [
    "median_points = reviews.points.median()\n",
    "\n",
    "# Check your answer\n",
    "q1.check()"
   ]
  },
  {
   "cell_type": "code",
   "execution_count": 3,
   "id": "7759e458",
   "metadata": {
    "execution": {
     "iopub.execute_input": "2021-11-01T00:44:43.843319Z",
     "iopub.status.busy": "2021-11-01T00:44:43.842349Z",
     "iopub.status.idle": "2021-11-01T00:44:43.845510Z",
     "shell.execute_reply": "2021-11-01T00:44:43.846075Z",
     "shell.execute_reply.started": "2021-11-01T00:35:22.473877Z"
    },
    "papermill": {
     "duration": 0.026507,
     "end_time": "2021-11-01T00:44:43.846236",
     "exception": false,
     "start_time": "2021-11-01T00:44:43.819729",
     "status": "completed"
    },
    "tags": []
   },
   "outputs": [],
   "source": [
    "#q1.hint()\n",
    "#q1.solution()"
   ]
  },
  {
   "cell_type": "markdown",
   "id": "5f7c6bc1",
   "metadata": {
    "papermill": {
     "duration": 0.019744,
     "end_time": "2021-11-01T00:44:43.885869",
     "exception": false,
     "start_time": "2021-11-01T00:44:43.866125",
     "status": "completed"
    },
    "tags": []
   },
   "source": [
    "## 2. \n",
    "What countries are represented in the dataset? (Your answer should not include any duplicates.)"
   ]
  },
  {
   "cell_type": "code",
   "execution_count": 4,
   "id": "bec1de2e",
   "metadata": {
    "execution": {
     "iopub.execute_input": "2021-11-01T00:44:43.930423Z",
     "iopub.status.busy": "2021-11-01T00:44:43.929472Z",
     "iopub.status.idle": "2021-11-01T00:44:43.949401Z",
     "shell.execute_reply": "2021-11-01T00:44:43.950060Z",
     "shell.execute_reply.started": "2021-11-01T00:35:22.484720Z"
    },
    "papermill": {
     "duration": 0.044324,
     "end_time": "2021-11-01T00:44:43.950226",
     "exception": false,
     "start_time": "2021-11-01T00:44:43.905902",
     "status": "completed"
    },
    "tags": []
   },
   "outputs": [
    {
     "data": {
      "application/javascript": [
       "parent.postMessage({\"jupyterEvent\": \"custom.exercise_interaction\", \"data\": {\"outcomeType\": 1, \"valueTowardsCompletion\": 0.14285714285714285, \"interactionType\": 1, \"questionType\": 2, \"questionId\": \"2_UniqueCountries\", \"learnToolsVersion\": \"0.3.4\", \"failureMessage\": \"\", \"exceptionClass\": \"\", \"trace\": \"\"}}, \"*\")"
      ],
      "text/plain": [
       "<IPython.core.display.Javascript object>"
      ]
     },
     "metadata": {},
     "output_type": "display_data"
    },
    {
     "data": {
      "text/markdown": [
       "<span style=\"color:#33cc33\">Correct</span>"
      ],
      "text/plain": [
       "Correct"
      ]
     },
     "metadata": {},
     "output_type": "display_data"
    }
   ],
   "source": [
    "countries = reviews.country.unique()\n",
    "\n",
    "# Check your answer\n",
    "q2.check()"
   ]
  },
  {
   "cell_type": "code",
   "execution_count": 5,
   "id": "9dfac7ef",
   "metadata": {
    "execution": {
     "iopub.execute_input": "2021-11-01T00:44:43.996489Z",
     "iopub.status.busy": "2021-11-01T00:44:43.995054Z",
     "iopub.status.idle": "2021-11-01T00:44:43.998220Z",
     "shell.execute_reply": "2021-11-01T00:44:43.998858Z",
     "shell.execute_reply.started": "2021-11-01T00:35:22.511294Z"
    },
    "papermill": {
     "duration": 0.027625,
     "end_time": "2021-11-01T00:44:43.999024",
     "exception": false,
     "start_time": "2021-11-01T00:44:43.971399",
     "status": "completed"
    },
    "tags": []
   },
   "outputs": [],
   "source": [
    "#q2.hint()\n",
    "#q2.solution()"
   ]
  },
  {
   "cell_type": "markdown",
   "id": "f1408d30",
   "metadata": {
    "papermill": {
     "duration": 0.020432,
     "end_time": "2021-11-01T00:44:44.040400",
     "exception": false,
     "start_time": "2021-11-01T00:44:44.019968",
     "status": "completed"
    },
    "tags": []
   },
   "source": [
    "## 3.\n",
    "How often does each country appear in the dataset? Create a Series `reviews_per_country` mapping countries to the count of reviews of wines from that country."
   ]
  },
  {
   "cell_type": "code",
   "execution_count": 6,
   "id": "3ed733a5",
   "metadata": {
    "execution": {
     "iopub.execute_input": "2021-11-01T00:44:44.085827Z",
     "iopub.status.busy": "2021-11-01T00:44:44.084849Z",
     "iopub.status.idle": "2021-11-01T00:44:44.111285Z",
     "shell.execute_reply": "2021-11-01T00:44:44.111792Z",
     "shell.execute_reply.started": "2021-11-01T00:35:22.523792Z"
    },
    "papermill": {
     "duration": 0.050768,
     "end_time": "2021-11-01T00:44:44.111973",
     "exception": false,
     "start_time": "2021-11-01T00:44:44.061205",
     "status": "completed"
    },
    "tags": []
   },
   "outputs": [
    {
     "data": {
      "application/javascript": [
       "parent.postMessage({\"jupyterEvent\": \"custom.exercise_interaction\", \"data\": {\"outcomeType\": 1, \"valueTowardsCompletion\": 0.14285714285714285, \"interactionType\": 1, \"questionType\": 1, \"questionId\": \"3_ReviewsPerCountry\", \"learnToolsVersion\": \"0.3.4\", \"failureMessage\": \"\", \"exceptionClass\": \"\", \"trace\": \"\"}}, \"*\")"
      ],
      "text/plain": [
       "<IPython.core.display.Javascript object>"
      ]
     },
     "metadata": {},
     "output_type": "display_data"
    },
    {
     "data": {
      "text/markdown": [
       "<span style=\"color:#33cc33\">Correct</span>"
      ],
      "text/plain": [
       "Correct"
      ]
     },
     "metadata": {},
     "output_type": "display_data"
    }
   ],
   "source": [
    "reviews_per_country = reviews.country.value_counts()\n",
    "\n",
    "# Check your answer\n",
    "q3.check()"
   ]
  },
  {
   "cell_type": "code",
   "execution_count": 7,
   "id": "fea8cd8a",
   "metadata": {
    "execution": {
     "iopub.execute_input": "2021-11-01T00:44:44.159209Z",
     "iopub.status.busy": "2021-11-01T00:44:44.158275Z",
     "iopub.status.idle": "2021-11-01T00:44:44.161387Z",
     "shell.execute_reply": "2021-11-01T00:44:44.161973Z",
     "shell.execute_reply.started": "2021-11-01T00:35:22.561574Z"
    },
    "papermill": {
     "duration": 0.028344,
     "end_time": "2021-11-01T00:44:44.162136",
     "exception": false,
     "start_time": "2021-11-01T00:44:44.133792",
     "status": "completed"
    },
    "tags": []
   },
   "outputs": [],
   "source": [
    "#q3.hint()\n",
    "#q3.solution()"
   ]
  },
  {
   "cell_type": "markdown",
   "id": "22ca71d2",
   "metadata": {
    "papermill": {
     "duration": 0.021535,
     "end_time": "2021-11-01T00:44:44.205927",
     "exception": false,
     "start_time": "2021-11-01T00:44:44.184392",
     "status": "completed"
    },
    "tags": []
   },
   "source": [
    "## 4.\n",
    "Create variable `centered_price` containing a version of the `price` column with the mean price subtracted.\n",
    "\n",
    "(Note: this 'centering' transformation is a common preprocessing step before applying various machine learning algorithms.) "
   ]
  },
  {
   "cell_type": "code",
   "execution_count": 8,
   "id": "082144c7",
   "metadata": {
    "execution": {
     "iopub.execute_input": "2021-11-01T00:44:44.255596Z",
     "iopub.status.busy": "2021-11-01T00:44:44.254601Z",
     "iopub.status.idle": "2021-11-01T00:44:44.317443Z",
     "shell.execute_reply": "2021-11-01T00:44:44.318009Z",
     "shell.execute_reply.started": "2021-11-01T00:35:22.567541Z"
    },
    "papermill": {
     "duration": 0.090502,
     "end_time": "2021-11-01T00:44:44.318199",
     "exception": false,
     "start_time": "2021-11-01T00:44:44.227697",
     "status": "completed"
    },
    "tags": []
   },
   "outputs": [
    {
     "data": {
      "application/javascript": [
       "parent.postMessage({\"jupyterEvent\": \"custom.exercise_interaction\", \"data\": {\"outcomeType\": 1, \"valueTowardsCompletion\": 0.14285714285714285, \"interactionType\": 1, \"questionType\": 1, \"questionId\": \"4_CenteredPrice\", \"learnToolsVersion\": \"0.3.4\", \"failureMessage\": \"\", \"exceptionClass\": \"\", \"trace\": \"\"}}, \"*\")"
      ],
      "text/plain": [
       "<IPython.core.display.Javascript object>"
      ]
     },
     "metadata": {},
     "output_type": "display_data"
    },
    {
     "data": {
      "text/markdown": [
       "<span style=\"color:#33cc33\">Correct</span>"
      ],
      "text/plain": [
       "Correct"
      ]
     },
     "metadata": {},
     "output_type": "display_data"
    }
   ],
   "source": [
    "price_mean = reviews.price.mean()\n",
    "centered_price = reviews.price.map(lambda x: x - price_mean)\n",
    "\n",
    "# Check your answer\n",
    "q4.check()"
   ]
  },
  {
   "cell_type": "code",
   "execution_count": 9,
   "id": "e2d1d1db",
   "metadata": {
    "execution": {
     "iopub.execute_input": "2021-11-01T00:44:44.368754Z",
     "iopub.status.busy": "2021-11-01T00:44:44.368049Z",
     "iopub.status.idle": "2021-11-01T00:44:44.370686Z",
     "shell.execute_reply": "2021-11-01T00:44:44.370130Z",
     "shell.execute_reply.started": "2021-11-01T00:35:22.642947Z"
    },
    "papermill": {
     "duration": 0.029736,
     "end_time": "2021-11-01T00:44:44.370825",
     "exception": false,
     "start_time": "2021-11-01T00:44:44.341089",
     "status": "completed"
    },
    "tags": []
   },
   "outputs": [],
   "source": [
    "#q4.hint()\n",
    "#q4.solution()"
   ]
  },
  {
   "cell_type": "markdown",
   "id": "8b22aae3",
   "metadata": {
    "papermill": {
     "duration": 0.022468,
     "end_time": "2021-11-01T00:44:44.416204",
     "exception": false,
     "start_time": "2021-11-01T00:44:44.393736",
     "status": "completed"
    },
    "tags": []
   },
   "source": [
    "## 5.\n",
    "I'm an economical wine buyer. Which wine is the \"best bargain\"? Create a variable `bargain_wine` with the title of the wine with the highest points-to-price ratio in the dataset."
   ]
  },
  {
   "cell_type": "code",
   "execution_count": 10,
   "id": "3cc0455e",
   "metadata": {
    "execution": {
     "iopub.execute_input": "2021-11-01T00:44:44.467086Z",
     "iopub.status.busy": "2021-11-01T00:44:44.466348Z",
     "iopub.status.idle": "2021-11-01T00:44:44.476475Z",
     "shell.execute_reply": "2021-11-01T00:44:44.477036Z",
     "shell.execute_reply.started": "2021-11-01T00:35:22.648062Z"
    },
    "papermill": {
     "duration": 0.038207,
     "end_time": "2021-11-01T00:44:44.477215",
     "exception": false,
     "start_time": "2021-11-01T00:44:44.439008",
     "status": "completed"
    },
    "tags": []
   },
   "outputs": [
    {
     "data": {
      "application/javascript": [
       "parent.postMessage({\"jupyterEvent\": \"custom.exercise_interaction\", \"data\": {\"outcomeType\": 1, \"valueTowardsCompletion\": 0.14285714285714285, \"interactionType\": 1, \"questionType\": 2, \"questionId\": \"5_BargainWine\", \"learnToolsVersion\": \"0.3.4\", \"failureMessage\": \"\", \"exceptionClass\": \"\", \"trace\": \"\"}}, \"*\")"
      ],
      "text/plain": [
       "<IPython.core.display.Javascript object>"
      ]
     },
     "metadata": {},
     "output_type": "display_data"
    },
    {
     "data": {
      "text/markdown": [
       "<span style=\"color:#33cc33\">Correct</span>"
      ],
      "text/plain": [
       "Correct"
      ]
     },
     "metadata": {},
     "output_type": "display_data"
    }
   ],
   "source": [
    "points_to_price = (reviews.points / reviews.price).idxmax()\n",
    "bargain_wine = reviews.loc[points_to_price, 'title']\n",
    "\n",
    "# Check your answer\n",
    "q5.check()"
   ]
  },
  {
   "cell_type": "code",
   "execution_count": 11,
   "id": "47d5f14b",
   "metadata": {
    "execution": {
     "iopub.execute_input": "2021-11-01T00:44:44.529871Z",
     "iopub.status.busy": "2021-11-01T00:44:44.528815Z",
     "iopub.status.idle": "2021-11-01T00:44:44.531073Z",
     "shell.execute_reply": "2021-11-01T00:44:44.531522Z",
     "shell.execute_reply.started": "2021-11-01T00:35:22.669899Z"
    },
    "papermill": {
     "duration": 0.030443,
     "end_time": "2021-11-01T00:44:44.531698",
     "exception": false,
     "start_time": "2021-11-01T00:44:44.501255",
     "status": "completed"
    },
    "tags": []
   },
   "outputs": [],
   "source": [
    "#q5.hint()\n",
    "#q5.solution()"
   ]
  },
  {
   "cell_type": "markdown",
   "id": "ebad08f2",
   "metadata": {
    "papermill": {
     "duration": 0.023765,
     "end_time": "2021-11-01T00:44:44.579326",
     "exception": false,
     "start_time": "2021-11-01T00:44:44.555561",
     "status": "completed"
    },
    "tags": []
   },
   "source": [
    "## 6.\n",
    "There are only so many words you can use when describing a bottle of wine. Is a wine more likely to be \"tropical\" or \"fruity\"? Create a Series `descriptor_counts` counting how many times each of these two words appears in the `description` column in the dataset."
   ]
  },
  {
   "cell_type": "code",
   "execution_count": 12,
   "id": "66179311",
   "metadata": {
    "execution": {
     "iopub.execute_input": "2021-11-01T00:44:44.634623Z",
     "iopub.status.busy": "2021-11-01T00:44:44.633601Z",
     "iopub.status.idle": "2021-11-01T00:44:44.789946Z",
     "shell.execute_reply": "2021-11-01T00:44:44.790436Z",
     "shell.execute_reply.started": "2021-11-01T00:35:22.675195Z"
    },
    "papermill": {
     "duration": 0.18756,
     "end_time": "2021-11-01T00:44:44.790626",
     "exception": false,
     "start_time": "2021-11-01T00:44:44.603066",
     "status": "completed"
    },
    "tags": []
   },
   "outputs": [
    {
     "data": {
      "application/javascript": [
       "parent.postMessage({\"jupyterEvent\": \"custom.exercise_interaction\", \"data\": {\"outcomeType\": 1, \"valueTowardsCompletion\": 0.14285714285714285, \"interactionType\": 1, \"questionType\": 1, \"questionId\": \"6_DescriptorCounts\", \"learnToolsVersion\": \"0.3.4\", \"failureMessage\": \"\", \"exceptionClass\": \"\", \"trace\": \"\"}}, \"*\")"
      ],
      "text/plain": [
       "<IPython.core.display.Javascript object>"
      ]
     },
     "metadata": {},
     "output_type": "display_data"
    },
    {
     "data": {
      "text/markdown": [
       "<span style=\"color:#33cc33\">Correct</span>"
      ],
      "text/plain": [
       "Correct"
      ]
     },
     "metadata": {},
     "output_type": "display_data"
    }
   ],
   "source": [
    "tropical_count = reviews.description.map(lambda description: 'tropical' in description).sum()\n",
    "fruity_count = reviews.description.map(lambda description: 'fruity' in description).sum()\n",
    "descriptor_counts = pd.Series([tropical_count, fruity_count], index=['tropical', 'fruity'])\n",
    "\n",
    "# Check your answer\n",
    "q6.check()"
   ]
  },
  {
   "cell_type": "code",
   "execution_count": 13,
   "id": "f8b1ae42",
   "metadata": {
    "execution": {
     "iopub.execute_input": "2021-11-01T00:44:44.844829Z",
     "iopub.status.busy": "2021-11-01T00:44:44.843897Z",
     "iopub.status.idle": "2021-11-01T00:44:44.847085Z",
     "shell.execute_reply": "2021-11-01T00:44:44.847645Z",
     "shell.execute_reply.started": "2021-11-01T00:35:22.844280Z"
    },
    "papermill": {
     "duration": 0.031865,
     "end_time": "2021-11-01T00:44:44.847807",
     "exception": false,
     "start_time": "2021-11-01T00:44:44.815942",
     "status": "completed"
    },
    "tags": []
   },
   "outputs": [],
   "source": [
    "#q6.hint()\n",
    "#q6.solution()"
   ]
  },
  {
   "cell_type": "markdown",
   "id": "b360dee5",
   "metadata": {
    "papermill": {
     "duration": 0.024393,
     "end_time": "2021-11-01T00:44:44.896996",
     "exception": false,
     "start_time": "2021-11-01T00:44:44.872603",
     "status": "completed"
    },
    "tags": []
   },
   "source": [
    "## 7.\n",
    "We'd like to host these wine reviews on our website, but a rating system ranging from 80 to 100 points is too hard to understand - we'd like to translate them into simple star ratings. A score of 95 or higher counts as 3 stars, a score of at least 85 but less than 95 is 2 stars. Any other score is 1 star.\n",
    "\n",
    "Also, the Canadian Vintners Association bought a lot of ads on the site, so any wines from Canada should automatically get 3 stars, regardless of points.\n",
    "\n",
    "Create a series `star_ratings` with the number of stars corresponding to each review in the dataset."
   ]
  },
  {
   "cell_type": "code",
   "execution_count": 14,
   "id": "9c2e5c02",
   "metadata": {
    "execution": {
     "iopub.execute_input": "2021-11-01T00:44:44.950076Z",
     "iopub.status.busy": "2021-11-01T00:44:44.949100Z",
     "iopub.status.idle": "2021-11-01T00:44:48.723131Z",
     "shell.execute_reply": "2021-11-01T00:44:48.723643Z",
     "shell.execute_reply.started": "2021-11-01T00:42:33.087430Z"
    },
    "papermill": {
     "duration": 3.802159,
     "end_time": "2021-11-01T00:44:48.723811",
     "exception": false,
     "start_time": "2021-11-01T00:44:44.921652",
     "status": "completed"
    },
    "tags": []
   },
   "outputs": [
    {
     "data": {
      "application/javascript": [
       "parent.postMessage({\"jupyterEvent\": \"custom.exercise_interaction\", \"data\": {\"outcomeType\": 1, \"valueTowardsCompletion\": 0.14285714285714285, \"interactionType\": 1, \"questionType\": 1, \"questionId\": \"7_StarRatings\", \"learnToolsVersion\": \"0.3.4\", \"failureMessage\": \"\", \"exceptionClass\": \"\", \"trace\": \"\"}}, \"*\")"
      ],
      "text/plain": [
       "<IPython.core.display.Javascript object>"
      ]
     },
     "metadata": {},
     "output_type": "display_data"
    },
    {
     "data": {
      "text/markdown": [
       "<span style=\"color:#33cc33\">Correct</span>"
      ],
      "text/plain": [
       "Correct"
      ]
     },
     "metadata": {},
     "output_type": "display_data"
    }
   ],
   "source": [
    "def get_stars(row):\n",
    "    points = row.points\n",
    "    \n",
    "    if row.country == 'Canada' or points >= 95:\n",
    "        return 3\n",
    "    elif points >= 85:\n",
    "        return 2\n",
    "    else: \n",
    "        return 1\n",
    "\n",
    "star_ratings = reviews.apply(get_stars, axis='columns')\n",
    "\n",
    "# Check your answer\n",
    "q7.check()"
   ]
  },
  {
   "cell_type": "code",
   "execution_count": 15,
   "id": "35c224e3",
   "metadata": {
    "execution": {
     "iopub.execute_input": "2021-11-01T00:44:48.780044Z",
     "iopub.status.busy": "2021-11-01T00:44:48.779099Z",
     "iopub.status.idle": "2021-11-01T00:44:48.782201Z",
     "shell.execute_reply": "2021-11-01T00:44:48.782821Z",
     "shell.execute_reply.started": "2021-11-01T00:40:32.570380Z"
    },
    "papermill": {
     "duration": 0.033198,
     "end_time": "2021-11-01T00:44:48.782989",
     "exception": false,
     "start_time": "2021-11-01T00:44:48.749791",
     "status": "completed"
    },
    "tags": []
   },
   "outputs": [],
   "source": [
    "#q7.hint()\n",
    "#q7.solution()"
   ]
  },
  {
   "cell_type": "markdown",
   "id": "c5c1bd6a",
   "metadata": {
    "papermill": {
     "duration": 0.025444,
     "end_time": "2021-11-01T00:44:48.834287",
     "exception": false,
     "start_time": "2021-11-01T00:44:48.808843",
     "status": "completed"
    },
    "tags": []
   },
   "source": [
    "# Keep going\n",
    "Continue to **[grouping and sorting](https://www.kaggle.com/residentmario/grouping-and-sorting)**."
   ]
  }
 ],
 "metadata": {
  "kernelspec": {
   "display_name": "Python 3",
   "language": "python",
   "name": "python3"
  },
  "language_info": {
   "codemirror_mode": {
    "name": "ipython",
    "version": 3
   },
   "file_extension": ".py",
   "mimetype": "text/x-python",
   "name": "python",
   "nbconvert_exporter": "python",
   "pygments_lexer": "ipython3",
   "version": "3.7.10"
  },
  "papermill": {
   "default_parameters": {},
   "duration": 22.956221,
   "end_time": "2021-11-01T00:44:49.469133",
   "environment_variables": {},
   "exception": null,
   "input_path": "__notebook__.ipynb",
   "output_path": "__notebook__.ipynb",
   "parameters": {},
   "start_time": "2021-11-01T00:44:26.512912",
   "version": "2.3.3"
  }
 },
 "nbformat": 4,
 "nbformat_minor": 5
}
