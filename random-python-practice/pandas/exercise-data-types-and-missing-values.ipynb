{
 "cells": [
  {
   "cell_type": "markdown",
   "id": "ebeb9f5d",
   "metadata": {
    "papermill": {
     "duration": 0.013628,
     "end_time": "2021-11-06T21:43:34.437506",
     "exception": false,
     "start_time": "2021-11-06T21:43:34.423878",
     "status": "completed"
    },
    "tags": []
   },
   "source": [
    "**This notebook is an exercise in the [Pandas](https://www.kaggle.com/learn/pandas) course.  You can reference the tutorial at [this link](https://www.kaggle.com/residentmario/data-types-and-missing-values).**\n",
    "\n",
    "---\n"
   ]
  },
  {
   "cell_type": "markdown",
   "id": "17776ba7",
   "metadata": {
    "papermill": {
     "duration": 0.011579,
     "end_time": "2021-11-06T21:43:34.461958",
     "exception": false,
     "start_time": "2021-11-06T21:43:34.450379",
     "status": "completed"
    },
    "tags": []
   },
   "source": [
    "# Introduction\n",
    "\n",
    "Run the following cell to load your data and some utility functions."
   ]
  },
  {
   "cell_type": "code",
   "execution_count": 1,
   "id": "85bfd16e",
   "metadata": {
    "execution": {
     "iopub.execute_input": "2021-11-06T21:43:34.496190Z",
     "iopub.status.busy": "2021-11-06T21:43:34.495600Z",
     "iopub.status.idle": "2021-11-06T21:43:37.450645Z",
     "shell.execute_reply": "2021-11-06T21:43:37.449695Z",
     "shell.execute_reply.started": "2021-11-06T21:43:00.966630Z"
    },
    "papermill": {
     "duration": 2.977071,
     "end_time": "2021-11-06T21:43:37.450848",
     "exception": false,
     "start_time": "2021-11-06T21:43:34.473777",
     "status": "completed"
    },
    "tags": []
   },
   "outputs": [
    {
     "name": "stdout",
     "output_type": "stream",
     "text": [
      "Setup complete.\n"
     ]
    }
   ],
   "source": [
    "import pandas as pd\n",
    "\n",
    "reviews = pd.read_csv(\"../input/wine-reviews/winemag-data-130k-v2.csv\", index_col=0)\n",
    "\n",
    "from learntools.core import binder; binder.bind(globals())\n",
    "from learntools.pandas.data_types_and_missing_data import *\n",
    "print(\"Setup complete.\")"
   ]
  },
  {
   "cell_type": "markdown",
   "id": "52afa996",
   "metadata": {
    "papermill": {
     "duration": 0.012292,
     "end_time": "2021-11-06T21:43:37.476758",
     "exception": false,
     "start_time": "2021-11-06T21:43:37.464466",
     "status": "completed"
    },
    "tags": []
   },
   "source": [
    "# Exercises"
   ]
  },
  {
   "cell_type": "markdown",
   "id": "b493229f",
   "metadata": {
    "papermill": {
     "duration": 0.012241,
     "end_time": "2021-11-06T21:43:37.501445",
     "exception": false,
     "start_time": "2021-11-06T21:43:37.489204",
     "status": "completed"
    },
    "tags": []
   },
   "source": [
    "## 1. \n",
    "What is the data type of the `points` column in the dataset?"
   ]
  },
  {
   "cell_type": "code",
   "execution_count": 2,
   "id": "739b03b4",
   "metadata": {
    "execution": {
     "iopub.execute_input": "2021-11-06T21:43:37.534557Z",
     "iopub.status.busy": "2021-11-06T21:43:37.533857Z",
     "iopub.status.idle": "2021-11-06T21:43:37.537990Z",
     "shell.execute_reply": "2021-11-06T21:43:37.538484Z",
     "shell.execute_reply.started": "2021-11-06T21:43:01.952104Z"
    },
    "papermill": {
     "duration": 0.024776,
     "end_time": "2021-11-06T21:43:37.538648",
     "exception": false,
     "start_time": "2021-11-06T21:43:37.513872",
     "status": "completed"
    },
    "tags": []
   },
   "outputs": [
    {
     "data": {
      "application/javascript": [
       "parent.postMessage({\"jupyterEvent\": \"custom.exercise_interaction\", \"data\": {\"outcomeType\": 1, \"valueTowardsCompletion\": 0.25, \"interactionType\": 1, \"questionType\": 1, \"questionId\": \"1_PointsDtype\", \"learnToolsVersion\": \"0.3.4\", \"failureMessage\": \"\", \"exceptionClass\": \"\", \"trace\": \"\"}}, \"*\")"
      ],
      "text/plain": [
       "<IPython.core.display.Javascript object>"
      ]
     },
     "metadata": {},
     "output_type": "display_data"
    },
    {
     "data": {
      "text/markdown": [
       "<span style=\"color:#33cc33\">Correct</span>"
      ],
      "text/plain": [
       "Correct"
      ]
     },
     "metadata": {},
     "output_type": "display_data"
    }
   ],
   "source": [
    "# Your code here\n",
    "dtype = reviews.points.dtype\n",
    "\n",
    "# Check your answer\n",
    "q1.check()"
   ]
  },
  {
   "cell_type": "code",
   "execution_count": 3,
   "id": "e2bc0eb2",
   "metadata": {
    "execution": {
     "iopub.execute_input": "2021-11-06T21:43:37.568327Z",
     "iopub.status.busy": "2021-11-06T21:43:37.567672Z",
     "iopub.status.idle": "2021-11-06T21:43:37.570434Z",
     "shell.execute_reply": "2021-11-06T21:43:37.570903Z",
     "shell.execute_reply.started": "2021-11-06T21:43:01.961837Z"
    },
    "papermill": {
     "duration": 0.019201,
     "end_time": "2021-11-06T21:43:37.571057",
     "exception": false,
     "start_time": "2021-11-06T21:43:37.551856",
     "status": "completed"
    },
    "tags": []
   },
   "outputs": [],
   "source": [
    "#q1.hint()\n",
    "#q1.solution()"
   ]
  },
  {
   "cell_type": "markdown",
   "id": "7e01c9df",
   "metadata": {
    "papermill": {
     "duration": 0.013155,
     "end_time": "2021-11-06T21:43:37.597186",
     "exception": false,
     "start_time": "2021-11-06T21:43:37.584031",
     "status": "completed"
    },
    "tags": []
   },
   "source": [
    "## 2. \n",
    "Create a Series from entries in the `points` column, but convert the entries to strings. Hint: strings are `str` in native Python."
   ]
  },
  {
   "cell_type": "code",
   "execution_count": 4,
   "id": "5f67acf9",
   "metadata": {
    "execution": {
     "iopub.execute_input": "2021-11-06T21:43:37.789497Z",
     "iopub.status.busy": "2021-11-06T21:43:37.628701Z",
     "iopub.status.idle": "2021-11-06T21:43:37.795120Z",
     "shell.execute_reply": "2021-11-06T21:43:37.795611Z",
     "shell.execute_reply.started": "2021-11-06T21:43:01.971081Z"
    },
    "papermill": {
     "duration": 0.18498,
     "end_time": "2021-11-06T21:43:37.795781",
     "exception": false,
     "start_time": "2021-11-06T21:43:37.610801",
     "status": "completed"
    },
    "tags": []
   },
   "outputs": [
    {
     "data": {
      "application/javascript": [
       "parent.postMessage({\"jupyterEvent\": \"custom.exercise_interaction\", \"data\": {\"outcomeType\": 1, \"valueTowardsCompletion\": 0.25, \"interactionType\": 1, \"questionType\": 1, \"questionId\": \"2_StrPoints\", \"learnToolsVersion\": \"0.3.4\", \"failureMessage\": \"\", \"exceptionClass\": \"\", \"trace\": \"\"}}, \"*\")"
      ],
      "text/plain": [
       "<IPython.core.display.Javascript object>"
      ]
     },
     "metadata": {},
     "output_type": "display_data"
    },
    {
     "data": {
      "text/markdown": [
       "<span style=\"color:#33cc33\">Correct</span>"
      ],
      "text/plain": [
       "Correct"
      ]
     },
     "metadata": {},
     "output_type": "display_data"
    }
   ],
   "source": [
    "point_strings = reviews.points.astype(str)\n",
    "\n",
    "# Check your answer\n",
    "q2.check()"
   ]
  },
  {
   "cell_type": "code",
   "execution_count": 5,
   "id": "b867a95a",
   "metadata": {
    "execution": {
     "iopub.execute_input": "2021-11-06T21:43:37.828969Z",
     "iopub.status.busy": "2021-11-06T21:43:37.828193Z",
     "iopub.status.idle": "2021-11-06T21:43:37.831023Z",
     "shell.execute_reply": "2021-11-06T21:43:37.830488Z",
     "shell.execute_reply.started": "2021-11-06T21:43:02.073817Z"
    },
    "papermill": {
     "duration": 0.021033,
     "end_time": "2021-11-06T21:43:37.831165",
     "exception": false,
     "start_time": "2021-11-06T21:43:37.810132",
     "status": "completed"
    },
    "tags": []
   },
   "outputs": [],
   "source": [
    "#q2.hint()\n",
    "#q2.solution()"
   ]
  },
  {
   "cell_type": "markdown",
   "id": "fb862335",
   "metadata": {
    "papermill": {
     "duration": 0.013999,
     "end_time": "2021-11-06T21:43:37.859573",
     "exception": false,
     "start_time": "2021-11-06T21:43:37.845574",
     "status": "completed"
    },
    "tags": []
   },
   "source": [
    "## 3.\n",
    "Sometimes the price column is null. How many reviews in the dataset are missing a price?"
   ]
  },
  {
   "cell_type": "code",
   "execution_count": 6,
   "id": "e81db5fc",
   "metadata": {
    "execution": {
     "iopub.execute_input": "2021-11-06T21:43:37.893933Z",
     "iopub.status.busy": "2021-11-06T21:43:37.892869Z",
     "iopub.status.idle": "2021-11-06T21:43:37.899090Z",
     "shell.execute_reply": "2021-11-06T21:43:37.899626Z",
     "shell.execute_reply.started": "2021-11-06T21:43:02.078907Z"
    },
    "papermill": {
     "duration": 0.025968,
     "end_time": "2021-11-06T21:43:37.899793",
     "exception": false,
     "start_time": "2021-11-06T21:43:37.873825",
     "status": "completed"
    },
    "tags": []
   },
   "outputs": [
    {
     "data": {
      "application/javascript": [
       "parent.postMessage({\"jupyterEvent\": \"custom.exercise_interaction\", \"data\": {\"outcomeType\": 1, \"valueTowardsCompletion\": 0.25, \"interactionType\": 1, \"questionType\": 1, \"questionId\": \"3_CountMissingPrices\", \"learnToolsVersion\": \"0.3.4\", \"failureMessage\": \"\", \"exceptionClass\": \"\", \"trace\": \"\"}}, \"*\")"
      ],
      "text/plain": [
       "<IPython.core.display.Javascript object>"
      ]
     },
     "metadata": {},
     "output_type": "display_data"
    },
    {
     "data": {
      "text/markdown": [
       "<span style=\"color:#33cc33\">Correct</span>"
      ],
      "text/plain": [
       "Correct"
      ]
     },
     "metadata": {},
     "output_type": "display_data"
    }
   ],
   "source": [
    "n_missing_prices = reviews.price.isnull().sum()\n",
    "\n",
    "# Check your answer\n",
    "q3.check()"
   ]
  },
  {
   "cell_type": "code",
   "execution_count": 7,
   "id": "43acb3c3",
   "metadata": {
    "execution": {
     "iopub.execute_input": "2021-11-06T21:43:37.936017Z",
     "iopub.status.busy": "2021-11-06T21:43:37.935027Z",
     "iopub.status.idle": "2021-11-06T21:43:37.938096Z",
     "shell.execute_reply": "2021-11-06T21:43:37.937467Z",
     "shell.execute_reply.started": "2021-11-06T21:43:02.093918Z"
    },
    "papermill": {
     "duration": 0.022879,
     "end_time": "2021-11-06T21:43:37.938242",
     "exception": false,
     "start_time": "2021-11-06T21:43:37.915363",
     "status": "completed"
    },
    "tags": []
   },
   "outputs": [],
   "source": [
    "#q3.hint()\n",
    "#q3.solution()"
   ]
  },
  {
   "cell_type": "markdown",
   "id": "d0470f84",
   "metadata": {
    "papermill": {
     "duration": 0.016141,
     "end_time": "2021-11-06T21:43:37.969879",
     "exception": false,
     "start_time": "2021-11-06T21:43:37.953738",
     "status": "completed"
    },
    "tags": []
   },
   "source": [
    "## 4.\n",
    "What are the most common wine-producing regions? Create a Series counting the number of times each value occurs in the `region_1` field. This field is often missing data, so replace missing values with `Unknown`. Sort in descending order.  Your output should look something like this:\n",
    "\n",
    "```\n",
    "Unknown                    21247\n",
    "Napa Valley                 4480\n",
    "                           ...  \n",
    "Bardolino Superiore            1\n",
    "Primitivo del Tarantino        1\n",
    "Name: region_1, Length: 1230, dtype: int64\n",
    "```"
   ]
  },
  {
   "cell_type": "code",
   "execution_count": 8,
   "id": "d4a17f00",
   "metadata": {
    "execution": {
     "iopub.execute_input": "2021-11-06T21:43:38.021021Z",
     "iopub.status.busy": "2021-11-06T21:43:38.020047Z",
     "iopub.status.idle": "2021-11-06T21:43:38.080048Z",
     "shell.execute_reply": "2021-11-06T21:43:38.080658Z",
     "shell.execute_reply.started": "2021-11-06T21:43:02.099819Z"
    },
    "papermill": {
     "duration": 0.094555,
     "end_time": "2021-11-06T21:43:38.080827",
     "exception": false,
     "start_time": "2021-11-06T21:43:37.986272",
     "status": "completed"
    },
    "tags": []
   },
   "outputs": [
    {
     "data": {
      "application/javascript": [
       "parent.postMessage({\"jupyterEvent\": \"custom.exercise_interaction\", \"data\": {\"outcomeType\": 1, \"valueTowardsCompletion\": 0.25, \"interactionType\": 1, \"questionType\": 2, \"questionId\": \"4_ReviewsPerRegion\", \"learnToolsVersion\": \"0.3.4\", \"failureMessage\": \"\", \"exceptionClass\": \"\", \"trace\": \"\"}}, \"*\")"
      ],
      "text/plain": [
       "<IPython.core.display.Javascript object>"
      ]
     },
     "metadata": {},
     "output_type": "display_data"
    },
    {
     "data": {
      "text/markdown": [
       "<span style=\"color:#33cc33\">Correct</span>"
      ],
      "text/plain": [
       "Correct"
      ]
     },
     "metadata": {},
     "output_type": "display_data"
    }
   ],
   "source": [
    "reviews_per_region = reviews.region_1.fillna('Unknown').value_counts().sort_values(ascending=False)\n",
    "\n",
    "# Check your answer\n",
    "q4.check()"
   ]
  },
  {
   "cell_type": "code",
   "execution_count": 9,
   "id": "90ae5750",
   "metadata": {
    "execution": {
     "iopub.execute_input": "2021-11-06T21:43:38.117644Z",
     "iopub.status.busy": "2021-11-06T21:43:38.115956Z",
     "iopub.status.idle": "2021-11-06T21:43:38.120255Z",
     "shell.execute_reply": "2021-11-06T21:43:38.119744Z",
     "shell.execute_reply.started": "2021-11-06T21:43:02.147946Z"
    },
    "papermill": {
     "duration": 0.023377,
     "end_time": "2021-11-06T21:43:38.120407",
     "exception": false,
     "start_time": "2021-11-06T21:43:38.097030",
     "status": "completed"
    },
    "tags": []
   },
   "outputs": [],
   "source": [
    "#q4.hint()\n",
    "#q4.solution()"
   ]
  },
  {
   "cell_type": "markdown",
   "id": "4b1dde30",
   "metadata": {
    "papermill": {
     "duration": 0.016168,
     "end_time": "2021-11-06T21:43:38.153134",
     "exception": false,
     "start_time": "2021-11-06T21:43:38.136966",
     "status": "completed"
    },
    "tags": []
   },
   "source": [
    "# Keep going\n",
    "\n",
    "Move on to **[renaming and combining](https://www.kaggle.com/residentmario/renaming-and-combining)**."
   ]
  }
 ],
 "metadata": {
  "kernelspec": {
   "display_name": "Python 3",
   "language": "python",
   "name": "python3"
  },
  "language_info": {
   "codemirror_mode": {
    "name": "ipython",
    "version": 3
   },
   "file_extension": ".py",
   "mimetype": "text/x-python",
   "name": "python",
   "nbconvert_exporter": "python",
   "pygments_lexer": "ipython3",
   "version": "3.7.10"
  },
  "papermill": {
   "default_parameters": {},
   "duration": 13.328597,
   "end_time": "2021-11-06T21:43:38.778936",
   "environment_variables": {},
   "exception": null,
   "input_path": "__notebook__.ipynb",
   "output_path": "__notebook__.ipynb",
   "parameters": {},
   "start_time": "2021-11-06T21:43:25.450339",
   "version": "2.3.3"
  }
 },
 "nbformat": 4,
 "nbformat_minor": 5
}
