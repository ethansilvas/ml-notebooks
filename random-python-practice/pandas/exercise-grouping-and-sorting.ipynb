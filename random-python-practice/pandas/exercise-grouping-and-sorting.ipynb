{
 "cells": [
  {
   "cell_type": "markdown",
   "id": "93d42e7c",
   "metadata": {
    "papermill": {
     "duration": 0.01844,
     "end_time": "2021-11-04T03:02:56.051852",
     "exception": false,
     "start_time": "2021-11-04T03:02:56.033412",
     "status": "completed"
    },
    "tags": []
   },
   "source": [
    "**This notebook is an exercise in the [Pandas](https://www.kaggle.com/learn/pandas) course.  You can reference the tutorial at [this link](https://www.kaggle.com/residentmario/grouping-and-sorting).**\n",
    "\n",
    "---\n"
   ]
  },
  {
   "cell_type": "markdown",
   "id": "8afa5f74",
   "metadata": {
    "papermill": {
     "duration": 0.016969,
     "end_time": "2021-11-04T03:02:56.086606",
     "exception": false,
     "start_time": "2021-11-04T03:02:56.069637",
     "status": "completed"
    },
    "tags": []
   },
   "source": [
    "# Introduction\n",
    "\n",
    "In these exercises we'll apply groupwise analysis to our dataset.\n",
    "\n",
    "Run the code cell below to load the data before running the exercises."
   ]
  },
  {
   "cell_type": "code",
   "execution_count": 1,
   "id": "04e3400f",
   "metadata": {
    "execution": {
     "iopub.execute_input": "2021-11-04T03:02:56.127985Z",
     "iopub.status.busy": "2021-11-04T03:02:56.126805Z",
     "iopub.status.idle": "2021-11-04T03:02:59.082651Z",
     "shell.execute_reply": "2021-11-04T03:02:59.083318Z",
     "shell.execute_reply.started": "2021-11-04T02:57:03.628340Z"
    },
    "papermill": {
     "duration": 2.977407,
     "end_time": "2021-11-04T03:02:59.083826",
     "exception": false,
     "start_time": "2021-11-04T03:02:56.106419",
     "status": "completed"
    },
    "tags": []
   },
   "outputs": [
    {
     "name": "stdout",
     "output_type": "stream",
     "text": [
      "Setup complete.\n"
     ]
    }
   ],
   "source": [
    "import pandas as pd\n",
    "\n",
    "reviews = pd.read_csv(\"../input/wine-reviews/winemag-data-130k-v2.csv\", index_col=0)\n",
    "#pd.set_option(\"display.max_rows\", 5)\n",
    "\n",
    "from learntools.core import binder; binder.bind(globals())\n",
    "from learntools.pandas.grouping_and_sorting import *\n",
    "print(\"Setup complete.\")"
   ]
  },
  {
   "cell_type": "markdown",
   "id": "fc92ab7e",
   "metadata": {
    "papermill": {
     "duration": 0.018389,
     "end_time": "2021-11-04T03:02:59.122472",
     "exception": false,
     "start_time": "2021-11-04T03:02:59.104083",
     "status": "completed"
    },
    "tags": []
   },
   "source": [
    "# Exercises"
   ]
  },
  {
   "cell_type": "markdown",
   "id": "c3bbf884",
   "metadata": {
    "papermill": {
     "duration": 0.018336,
     "end_time": "2021-11-04T03:02:59.159398",
     "exception": false,
     "start_time": "2021-11-04T03:02:59.141062",
     "status": "completed"
    },
    "tags": []
   },
   "source": [
    "## 1.\n",
    "Who are the most common wine reviewers in the dataset? Create a `Series` whose index is the `taster_twitter_handle` category from the dataset, and whose values count how many reviews each person wrote."
   ]
  },
  {
   "cell_type": "code",
   "execution_count": 2,
   "id": "a659d70a",
   "metadata": {
    "execution": {
     "iopub.execute_input": "2021-11-04T03:02:59.218287Z",
     "iopub.status.busy": "2021-11-04T03:02:59.217375Z",
     "iopub.status.idle": "2021-11-04T03:02:59.240835Z",
     "shell.execute_reply": "2021-11-04T03:02:59.241466Z",
     "shell.execute_reply.started": "2021-11-04T02:57:06.777427Z"
    },
    "papermill": {
     "duration": 0.063442,
     "end_time": "2021-11-04T03:02:59.241640",
     "exception": false,
     "start_time": "2021-11-04T03:02:59.178198",
     "status": "completed"
    },
    "tags": []
   },
   "outputs": [
    {
     "data": {
      "application/javascript": [
       "parent.postMessage({\"jupyterEvent\": \"custom.exercise_interaction\", \"data\": {\"outcomeType\": 1, \"valueTowardsCompletion\": 0.16666666666666666, \"interactionType\": 1, \"questionType\": 1, \"questionId\": \"1_ReviewsWritten\", \"learnToolsVersion\": \"0.3.4\", \"failureMessage\": \"\", \"exceptionClass\": \"\", \"trace\": \"\"}}, \"*\")"
      ],
      "text/plain": [
       "<IPython.core.display.Javascript object>"
      ]
     },
     "metadata": {},
     "output_type": "display_data"
    },
    {
     "data": {
      "text/markdown": [
       "<span style=\"color:#33cc33\">Correct:</span> \n",
       "\n",
       "\n",
       "```python\n",
       "reviews_written = reviews.groupby('taster_twitter_handle').size()\n",
       "```\n",
       "or\n",
       "```python\n",
       "reviews_written = reviews.groupby('taster_twitter_handle').taster_twitter_handle.count()\n",
       "```\n"
      ],
      "text/plain": [
       "Correct: \n",
       "\n",
       "\n",
       "```python\n",
       "reviews_written = reviews.groupby('taster_twitter_handle').size()\n",
       "```\n",
       "or\n",
       "```python\n",
       "reviews_written = reviews.groupby('taster_twitter_handle').taster_twitter_handle.count()\n",
       "```"
      ]
     },
     "metadata": {},
     "output_type": "display_data"
    }
   ],
   "source": [
    "# Your code here\n",
    "reviews_written = reviews.groupby('taster_twitter_handle').taster_twitter_handle.count()\n",
    "\n",
    "# Check your answer\n",
    "q1.check()"
   ]
  },
  {
   "cell_type": "code",
   "execution_count": 3,
   "id": "bf8515a9",
   "metadata": {
    "execution": {
     "iopub.execute_input": "2021-11-04T03:02:59.282987Z",
     "iopub.status.busy": "2021-11-04T03:02:59.281966Z",
     "iopub.status.idle": "2021-11-04T03:02:59.285418Z",
     "shell.execute_reply": "2021-11-04T03:02:59.285940Z",
     "shell.execute_reply.started": "2021-11-04T02:57:06.821417Z"
    },
    "papermill": {
     "duration": 0.025666,
     "end_time": "2021-11-04T03:02:59.286247",
     "exception": false,
     "start_time": "2021-11-04T03:02:59.260581",
     "status": "completed"
    },
    "tags": []
   },
   "outputs": [],
   "source": [
    "#q1.hint()\n",
    "#q1.solution()"
   ]
  },
  {
   "cell_type": "markdown",
   "id": "842f7f8f",
   "metadata": {
    "papermill": {
     "duration": 0.018746,
     "end_time": "2021-11-04T03:02:59.323638",
     "exception": false,
     "start_time": "2021-11-04T03:02:59.304892",
     "status": "completed"
    },
    "tags": []
   },
   "source": [
    "## 2.\n",
    "What is the best wine I can buy for a given amount of money? Create a `Series` whose index is wine prices and whose values is the maximum number of points a wine costing that much was given in a review. Sort the values by price, ascending (so that `4.0` dollars is at the top and `3300.0` dollars is at the bottom)."
   ]
  },
  {
   "cell_type": "code",
   "execution_count": 4,
   "id": "73d5bf96",
   "metadata": {
    "execution": {
     "iopub.execute_input": "2021-11-04T03:02:59.363758Z",
     "iopub.status.busy": "2021-11-04T03:02:59.363117Z",
     "iopub.status.idle": "2021-11-04T03:02:59.373962Z",
     "shell.execute_reply": "2021-11-04T03:02:59.374651Z",
     "shell.execute_reply.started": "2021-11-04T02:57:06.826862Z"
    },
    "papermill": {
     "duration": 0.032667,
     "end_time": "2021-11-04T03:02:59.374881",
     "exception": false,
     "start_time": "2021-11-04T03:02:59.342214",
     "status": "completed"
    },
    "tags": []
   },
   "outputs": [
    {
     "data": {
      "application/javascript": [
       "parent.postMessage({\"jupyterEvent\": \"custom.exercise_interaction\", \"data\": {\"outcomeType\": 1, \"valueTowardsCompletion\": 0.16666666666666666, \"interactionType\": 1, \"questionType\": 1, \"questionId\": \"2_BestRatingPerPrice\", \"learnToolsVersion\": \"0.3.4\", \"failureMessage\": \"\", \"exceptionClass\": \"\", \"trace\": \"\"}}, \"*\")"
      ],
      "text/plain": [
       "<IPython.core.display.Javascript object>"
      ]
     },
     "metadata": {},
     "output_type": "display_data"
    },
    {
     "data": {
      "text/markdown": [
       "<span style=\"color:#33cc33\">Correct</span>"
      ],
      "text/plain": [
       "Correct"
      ]
     },
     "metadata": {},
     "output_type": "display_data"
    }
   ],
   "source": [
    "best_rating_per_price = reviews.groupby('price').points.max()\n",
    "\n",
    "# Check your answer\n",
    "q2.check()"
   ]
  },
  {
   "cell_type": "code",
   "execution_count": 5,
   "id": "b733217d",
   "metadata": {
    "execution": {
     "iopub.execute_input": "2021-11-04T03:02:59.419702Z",
     "iopub.status.busy": "2021-11-04T03:02:59.419011Z",
     "iopub.status.idle": "2021-11-04T03:02:59.422023Z",
     "shell.execute_reply": "2021-11-04T03:02:59.421530Z",
     "shell.execute_reply.started": "2021-11-04T02:57:06.848969Z"
    },
    "papermill": {
     "duration": 0.027015,
     "end_time": "2021-11-04T03:02:59.422164",
     "exception": false,
     "start_time": "2021-11-04T03:02:59.395149",
     "status": "completed"
    },
    "tags": []
   },
   "outputs": [],
   "source": [
    "#q2.hint()\n",
    "#q2.solution()"
   ]
  },
  {
   "cell_type": "markdown",
   "id": "bc2d6798",
   "metadata": {
    "papermill": {
     "duration": 0.020146,
     "end_time": "2021-11-04T03:02:59.462065",
     "exception": false,
     "start_time": "2021-11-04T03:02:59.441919",
     "status": "completed"
    },
    "tags": []
   },
   "source": [
    "## 3.\n",
    "What are the minimum and maximum prices for each `variety` of wine? Create a `DataFrame` whose index is the `variety` category from the dataset and whose values are the `min` and `max` values thereof."
   ]
  },
  {
   "cell_type": "code",
   "execution_count": 6,
   "id": "4d569dc7",
   "metadata": {
    "execution": {
     "iopub.execute_input": "2021-11-04T03:02:59.507634Z",
     "iopub.status.busy": "2021-11-04T03:02:59.506958Z",
     "iopub.status.idle": "2021-11-04T03:02:59.537171Z",
     "shell.execute_reply": "2021-11-04T03:02:59.536630Z",
     "shell.execute_reply.started": "2021-11-04T02:57:06.855088Z"
    },
    "papermill": {
     "duration": 0.054755,
     "end_time": "2021-11-04T03:02:59.537311",
     "exception": false,
     "start_time": "2021-11-04T03:02:59.482556",
     "status": "completed"
    },
    "tags": []
   },
   "outputs": [
    {
     "data": {
      "application/javascript": [
       "parent.postMessage({\"jupyterEvent\": \"custom.exercise_interaction\", \"data\": {\"outcomeType\": 1, \"valueTowardsCompletion\": 0.16666666666666666, \"interactionType\": 1, \"questionType\": 1, \"questionId\": \"3_PriceExtremes\", \"learnToolsVersion\": \"0.3.4\", \"failureMessage\": \"\", \"exceptionClass\": \"\", \"trace\": \"\"}}, \"*\")"
      ],
      "text/plain": [
       "<IPython.core.display.Javascript object>"
      ]
     },
     "metadata": {},
     "output_type": "display_data"
    },
    {
     "data": {
      "text/markdown": [
       "<span style=\"color:#33cc33\">Correct</span>"
      ],
      "text/plain": [
       "Correct"
      ]
     },
     "metadata": {},
     "output_type": "display_data"
    }
   ],
   "source": [
    "price_extremes = reviews.groupby('variety').price.agg([min, max])\n",
    "\n",
    "# Check your answer\n",
    "q3.check()"
   ]
  },
  {
   "cell_type": "code",
   "execution_count": 7,
   "id": "ed6674ea",
   "metadata": {
    "execution": {
     "iopub.execute_input": "2021-11-04T03:02:59.584652Z",
     "iopub.status.busy": "2021-11-04T03:02:59.583980Z",
     "iopub.status.idle": "2021-11-04T03:02:59.587235Z",
     "shell.execute_reply": "2021-11-04T03:02:59.587824Z",
     "shell.execute_reply.started": "2021-11-04T02:57:06.893097Z"
    },
    "papermill": {
     "duration": 0.02871,
     "end_time": "2021-11-04T03:02:59.588012",
     "exception": false,
     "start_time": "2021-11-04T03:02:59.559302",
     "status": "completed"
    },
    "tags": []
   },
   "outputs": [],
   "source": [
    "#q3.hint()\n",
    "#q3.solution()"
   ]
  },
  {
   "cell_type": "markdown",
   "id": "dc9055f4",
   "metadata": {
    "papermill": {
     "duration": 0.021425,
     "end_time": "2021-11-04T03:02:59.631559",
     "exception": false,
     "start_time": "2021-11-04T03:02:59.610134",
     "status": "completed"
    },
    "tags": []
   },
   "source": [
    "## 4.\n",
    "What are the most expensive wine varieties? Create a variable `sorted_varieties` containing a copy of the dataframe from the previous question where varieties are sorted in descending order based on minimum price, then on maximum price (to break ties)."
   ]
  },
  {
   "cell_type": "code",
   "execution_count": 8,
   "id": "6295388f",
   "metadata": {
    "execution": {
     "iopub.execute_input": "2021-11-04T03:02:59.678634Z",
     "iopub.status.busy": "2021-11-04T03:02:59.677653Z",
     "iopub.status.idle": "2021-11-04T03:02:59.688068Z",
     "shell.execute_reply": "2021-11-04T03:02:59.688663Z",
     "shell.execute_reply.started": "2021-11-04T02:57:06.899472Z"
    },
    "papermill": {
     "duration": 0.035663,
     "end_time": "2021-11-04T03:02:59.688829",
     "exception": false,
     "start_time": "2021-11-04T03:02:59.653166",
     "status": "completed"
    },
    "tags": []
   },
   "outputs": [
    {
     "data": {
      "application/javascript": [
       "parent.postMessage({\"jupyterEvent\": \"custom.exercise_interaction\", \"data\": {\"outcomeType\": 1, \"valueTowardsCompletion\": 0.16666666666666666, \"interactionType\": 1, \"questionType\": 1, \"questionId\": \"4_SortedVarieties\", \"learnToolsVersion\": \"0.3.4\", \"failureMessage\": \"\", \"exceptionClass\": \"\", \"trace\": \"\"}}, \"*\")"
      ],
      "text/plain": [
       "<IPython.core.display.Javascript object>"
      ]
     },
     "metadata": {},
     "output_type": "display_data"
    },
    {
     "data": {
      "text/markdown": [
       "<span style=\"color:#33cc33\">Correct</span>"
      ],
      "text/plain": [
       "Correct"
      ]
     },
     "metadata": {},
     "output_type": "display_data"
    }
   ],
   "source": [
    "sorted_varieties = price_extremes.sort_values(by=['min', 'max'], ascending=False)\n",
    "\n",
    "# Check your answer\n",
    "q4.check()"
   ]
  },
  {
   "cell_type": "code",
   "execution_count": 9,
   "id": "31394311",
   "metadata": {
    "execution": {
     "iopub.execute_input": "2021-11-04T03:02:59.736874Z",
     "iopub.status.busy": "2021-11-04T03:02:59.735954Z",
     "iopub.status.idle": "2021-11-04T03:02:59.738837Z",
     "shell.execute_reply": "2021-11-04T03:02:59.739416Z",
     "shell.execute_reply.started": "2021-11-04T02:57:06.916689Z"
    },
    "papermill": {
     "duration": 0.029395,
     "end_time": "2021-11-04T03:02:59.739626",
     "exception": false,
     "start_time": "2021-11-04T03:02:59.710231",
     "status": "completed"
    },
    "tags": []
   },
   "outputs": [],
   "source": [
    "#q4.hint()\n",
    "#q4.solution()"
   ]
  },
  {
   "cell_type": "markdown",
   "id": "fdcc3d5b",
   "metadata": {
    "papermill": {
     "duration": 0.022943,
     "end_time": "2021-11-04T03:02:59.787512",
     "exception": false,
     "start_time": "2021-11-04T03:02:59.764569",
     "status": "completed"
    },
    "tags": []
   },
   "source": [
    "## 5.\n",
    "Create a `Series` whose index is reviewers and whose values is the average review score given out by that reviewer. Hint: you will need the `taster_name` and `points` columns."
   ]
  },
  {
   "cell_type": "code",
   "execution_count": 10,
   "id": "b1d4c152",
   "metadata": {
    "execution": {
     "iopub.execute_input": "2021-11-04T03:02:59.844638Z",
     "iopub.status.busy": "2021-11-04T03:02:59.843674Z",
     "iopub.status.idle": "2021-11-04T03:02:59.909923Z",
     "shell.execute_reply": "2021-11-04T03:02:59.909367Z",
     "shell.execute_reply.started": "2021-11-04T02:57:06.925432Z"
    },
    "papermill": {
     "duration": 0.099427,
     "end_time": "2021-11-04T03:02:59.910060",
     "exception": false,
     "start_time": "2021-11-04T03:02:59.810633",
     "status": "completed"
    },
    "tags": []
   },
   "outputs": [
    {
     "data": {
      "application/javascript": [
       "parent.postMessage({\"jupyterEvent\": \"custom.exercise_interaction\", \"data\": {\"outcomeType\": 1, \"valueTowardsCompletion\": 0.16666666666666666, \"interactionType\": 1, \"questionType\": 1, \"questionId\": \"5_ReviewerMeanRatings\", \"learnToolsVersion\": \"0.3.4\", \"failureMessage\": \"\", \"exceptionClass\": \"\", \"trace\": \"\"}}, \"*\")"
      ],
      "text/plain": [
       "<IPython.core.display.Javascript object>"
      ]
     },
     "metadata": {},
     "output_type": "display_data"
    },
    {
     "data": {
      "text/markdown": [
       "<span style=\"color:#33cc33\">Correct</span>"
      ],
      "text/plain": [
       "Correct"
      ]
     },
     "metadata": {},
     "output_type": "display_data"
    }
   ],
   "source": [
    "reviewer_mean_ratings = reviews.groupby('taster_name').apply(lambda df: df.points.mean())\n",
    "\n",
    "# Check your answer\n",
    "q5.check()"
   ]
  },
  {
   "cell_type": "code",
   "execution_count": 11,
   "id": "504150c5",
   "metadata": {
    "execution": {
     "iopub.execute_input": "2021-11-04T03:02:59.960607Z",
     "iopub.status.busy": "2021-11-04T03:02:59.959883Z",
     "iopub.status.idle": "2021-11-04T03:02:59.962541Z",
     "shell.execute_reply": "2021-11-04T03:02:59.963079Z",
     "shell.execute_reply.started": "2021-11-04T02:57:07.005588Z"
    },
    "papermill": {
     "duration": 0.029692,
     "end_time": "2021-11-04T03:02:59.963249",
     "exception": false,
     "start_time": "2021-11-04T03:02:59.933557",
     "status": "completed"
    },
    "tags": []
   },
   "outputs": [],
   "source": [
    "#q5.hint()\n",
    "#q5.solution()"
   ]
  },
  {
   "cell_type": "markdown",
   "id": "456661d2",
   "metadata": {
    "papermill": {
     "duration": 0.023793,
     "end_time": "2021-11-04T03:03:00.010889",
     "exception": false,
     "start_time": "2021-11-04T03:02:59.987096",
     "status": "completed"
    },
    "tags": []
   },
   "source": [
    "Are there significant differences in the average scores assigned by the various reviewers? Run the cell below to use the `describe()` method to see a summary of the range of values.\n",
    "\n",
    "Answer: No, the standard deviation is only 1.24 so they are all very close together. "
   ]
  },
  {
   "cell_type": "code",
   "execution_count": 12,
   "id": "ba643aef",
   "metadata": {
    "execution": {
     "iopub.execute_input": "2021-11-04T03:03:00.065040Z",
     "iopub.status.busy": "2021-11-04T03:03:00.064344Z",
     "iopub.status.idle": "2021-11-04T03:03:00.070773Z",
     "shell.execute_reply": "2021-11-04T03:03:00.071314Z",
     "shell.execute_reply.started": "2021-11-04T02:57:07.011345Z"
    },
    "papermill": {
     "duration": 0.036823,
     "end_time": "2021-11-04T03:03:00.071534",
     "exception": false,
     "start_time": "2021-11-04T03:03:00.034711",
     "status": "completed"
    },
    "tags": []
   },
   "outputs": [
    {
     "data": {
      "text/plain": [
       "count    19.000000\n",
       "mean     88.233026\n",
       "std       1.243610\n",
       "min      85.855422\n",
       "25%      87.323501\n",
       "50%      88.536235\n",
       "75%      88.975256\n",
       "max      90.562551\n",
       "dtype: float64"
      ]
     },
     "execution_count": 12,
     "metadata": {},
     "output_type": "execute_result"
    }
   ],
   "source": [
    "reviewer_mean_ratings.describe()"
   ]
  },
  {
   "cell_type": "markdown",
   "id": "ed9dc84c",
   "metadata": {
    "papermill": {
     "duration": 0.023858,
     "end_time": "2021-11-04T03:03:00.119501",
     "exception": false,
     "start_time": "2021-11-04T03:03:00.095643",
     "status": "completed"
    },
    "tags": []
   },
   "source": [
    "## 6.\n",
    "What combination of countries and varieties are most common? Create a `Series` whose index is a `MultiIndex`of `{country, variety}` pairs. For example, a pinot noir produced in the US should map to `{\"US\", \"Pinot Noir\"}`. Sort the values in the `Series` in descending order based on wine count."
   ]
  },
  {
   "cell_type": "code",
   "execution_count": 13,
   "id": "e3720b47",
   "metadata": {
    "execution": {
     "iopub.execute_input": "2021-11-04T03:03:00.170649Z",
     "iopub.status.busy": "2021-11-04T03:03:00.169764Z",
     "iopub.status.idle": "2021-11-04T03:03:00.216313Z",
     "shell.execute_reply": "2021-11-04T03:03:00.216933Z",
     "shell.execute_reply.started": "2021-11-04T03:00:44.974456Z"
    },
    "papermill": {
     "duration": 0.073492,
     "end_time": "2021-11-04T03:03:00.217139",
     "exception": false,
     "start_time": "2021-11-04T03:03:00.143647",
     "status": "completed"
    },
    "tags": []
   },
   "outputs": [
    {
     "data": {
      "application/javascript": [
       "parent.postMessage({\"jupyterEvent\": \"custom.exercise_interaction\", \"data\": {\"outcomeType\": 1, \"valueTowardsCompletion\": 0.16666666666666666, \"interactionType\": 1, \"questionType\": 1, \"questionId\": \"6_GroupbyCountryVariety\", \"learnToolsVersion\": \"0.3.4\", \"failureMessage\": \"\", \"exceptionClass\": \"\", \"trace\": \"\"}}, \"*\")"
      ],
      "text/plain": [
       "<IPython.core.display.Javascript object>"
      ]
     },
     "metadata": {},
     "output_type": "display_data"
    },
    {
     "data": {
      "text/markdown": [
       "<span style=\"color:#33cc33\">Correct</span>"
      ],
      "text/plain": [
       "Correct"
      ]
     },
     "metadata": {},
     "output_type": "display_data"
    }
   ],
   "source": [
    "country_variety_counts = reviews.groupby(['country', 'variety']).size().sort_values(ascending=False)\n",
    "\n",
    "# Check your answer\n",
    "q6.check()"
   ]
  },
  {
   "cell_type": "code",
   "execution_count": 14,
   "id": "7af13d8a",
   "metadata": {
    "execution": {
     "iopub.execute_input": "2021-11-04T03:03:00.274747Z",
     "iopub.status.busy": "2021-11-04T03:03:00.274097Z",
     "iopub.status.idle": "2021-11-04T03:03:00.276304Z",
     "shell.execute_reply": "2021-11-04T03:03:00.276830Z",
     "shell.execute_reply.started": "2021-11-04T02:58:57.266274Z"
    },
    "papermill": {
     "duration": 0.032546,
     "end_time": "2021-11-04T03:03:00.277008",
     "exception": false,
     "start_time": "2021-11-04T03:03:00.244462",
     "status": "completed"
    },
    "tags": []
   },
   "outputs": [],
   "source": [
    "#q6.hint()\n",
    "#q6.solution()"
   ]
  },
  {
   "cell_type": "markdown",
   "id": "f59598e6",
   "metadata": {
    "papermill": {
     "duration": 0.024733,
     "end_time": "2021-11-04T03:03:00.326707",
     "exception": false,
     "start_time": "2021-11-04T03:03:00.301974",
     "status": "completed"
    },
    "tags": []
   },
   "source": [
    "# Keep going\n",
    "\n",
    "Move on to the [**data types and missing data**](https://www.kaggle.com/residentmario/data-types-and-missing-values)."
   ]
  }
 ],
 "metadata": {
  "kernelspec": {
   "display_name": "Python 3",
   "language": "python",
   "name": "python3"
  },
  "language_info": {
   "codemirror_mode": {
    "name": "ipython",
    "version": 3
   },
   "file_extension": ".py",
   "mimetype": "text/x-python",
   "name": "python",
   "nbconvert_exporter": "python",
   "pygments_lexer": "ipython3",
   "version": "3.7.10"
  },
  "papermill": {
   "default_parameters": {},
   "duration": 14.471084,
   "end_time": "2021-11-04T03:03:01.063212",
   "environment_variables": {},
   "exception": null,
   "input_path": "__notebook__.ipynb",
   "output_path": "__notebook__.ipynb",
   "parameters": {},
   "start_time": "2021-11-04T03:02:46.592128",
   "version": "2.3.3"
  }
 },
 "nbformat": 4,
 "nbformat_minor": 5
}
