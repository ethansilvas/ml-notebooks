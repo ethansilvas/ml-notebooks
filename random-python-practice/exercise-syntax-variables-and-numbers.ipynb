{
 "cells": [
  {
   "cell_type": "markdown",
   "id": "81e408ea",
   "metadata": {
    "papermill": {
     "duration": 0.023557,
     "end_time": "2021-10-13T23:48:40.769377",
     "exception": false,
     "start_time": "2021-10-13T23:48:40.745820",
     "status": "completed"
    },
    "tags": []
   },
   "source": [
    "**This notebook is an exercise in the [Python](https://www.kaggle.com/learn/python) course.  You can reference the tutorial at [this link](https://www.kaggle.com/colinmorris/hello-python).**\n",
    "\n",
    "---\n"
   ]
  },
  {
   "cell_type": "markdown",
   "id": "b28025d7",
   "metadata": {
    "papermill": {
     "duration": 0.022528,
     "end_time": "2021-10-13T23:48:40.815765",
     "exception": false,
     "start_time": "2021-10-13T23:48:40.793237",
     "status": "completed"
    },
    "tags": []
   },
   "source": [
    "Welcome to your first set of Python coding problems.  If this is your first time using Kaggle Notebooks, welcome! \n",
    "\n",
    "Notebooks are composed of blocks (called \"cells\") of text and code. Each of these is editable, though you'll mainly be editing the code cells to answer some questions.\n",
    "\n",
    "To get started, try running the code cell below (by pressing the ► button, or clicking on the cell and pressing ctrl+enter on your keyboard)."
   ]
  },
  {
   "cell_type": "code",
   "execution_count": 1,
   "id": "0d5b7f55",
   "metadata": {
    "execution": {
     "iopub.execute_input": "2021-10-13T23:48:40.874335Z",
     "iopub.status.busy": "2021-10-13T23:48:40.869741Z",
     "iopub.status.idle": "2021-10-13T23:48:40.881117Z",
     "shell.execute_reply": "2021-10-13T23:48:40.880262Z",
     "shell.execute_reply.started": "2021-10-13T22:02:16.32135Z"
    },
    "papermill": {
     "duration": 0.042959,
     "end_time": "2021-10-13T23:48:40.881565",
     "exception": false,
     "start_time": "2021-10-13T23:48:40.838606",
     "status": "completed"
    },
    "tags": []
   },
   "outputs": [
    {
     "name": "stdout",
     "output_type": "stream",
     "text": [
      "You've successfully run some Python code\n",
      "Congratulations!\n",
      "Wow cool!\n"
     ]
    }
   ],
   "source": [
    "print(\"You've successfully run some Python code\")\n",
    "print(\"Congratulations!\")\n",
    "print(\"Wow cool!\")"
   ]
  },
  {
   "cell_type": "markdown",
   "id": "511accdd",
   "metadata": {
    "papermill": {
     "duration": 0.02462,
     "end_time": "2021-10-13T23:48:40.929921",
     "exception": false,
     "start_time": "2021-10-13T23:48:40.905301",
     "status": "completed"
    },
    "tags": []
   },
   "source": [
    "Try adding another line of code in the cell above and re-running it. \n",
    "\n",
    "Now let's get a little fancier:  Add a new code cell by clicking on an existing code cell, hitting the escape key, and then hitting the `a` or `b` key.  The `a` key will add a cell above the current cell, and `b` adds a cell below.\n",
    "\n",
    "Great! Now you know how to use Notebooks.\n",
    "\n",
    "Each hands-on exercise starts by setting up our feedback and code checking mechanism. Run the code cell below to do that. Then you'll be ready to move on to question 0."
   ]
  },
  {
   "cell_type": "code",
   "execution_count": 2,
   "id": "23a18b4e",
   "metadata": {
    "execution": {
     "iopub.execute_input": "2021-10-13T23:48:40.984350Z",
     "iopub.status.busy": "2021-10-13T23:48:40.981775Z",
     "iopub.status.idle": "2021-10-13T23:48:40.989247Z",
     "shell.execute_reply": "2021-10-13T23:48:40.990068Z",
     "shell.execute_reply.started": "2021-10-13T22:03:01.938458Z"
    },
    "papermill": {
     "duration": 0.037275,
     "end_time": "2021-10-13T23:48:40.990333",
     "exception": false,
     "start_time": "2021-10-13T23:48:40.953058",
     "status": "completed"
    },
    "tags": []
   },
   "outputs": [
    {
     "name": "stdout",
     "output_type": "stream",
     "text": [
      "Code cell below!\n"
     ]
    }
   ],
   "source": [
    "print(\"Code cell below!\")"
   ]
  },
  {
   "cell_type": "code",
   "execution_count": 3,
   "id": "fe471ad9",
   "metadata": {
    "_kg_hide-input": true,
    "_kg_hide-output": true,
    "execution": {
     "iopub.execute_input": "2021-10-13T23:48:41.048661Z",
     "iopub.status.busy": "2021-10-13T23:48:41.047964Z",
     "iopub.status.idle": "2021-10-13T23:48:41.095200Z",
     "shell.execute_reply": "2021-10-13T23:48:41.095761Z",
     "shell.execute_reply.started": "2021-10-13T22:03:15.997087Z"
    },
    "papermill": {
     "duration": 0.080814,
     "end_time": "2021-10-13T23:48:41.095967",
     "exception": false,
     "start_time": "2021-10-13T23:48:41.015153",
     "status": "completed"
    },
    "tags": []
   },
   "outputs": [
    {
     "name": "stdout",
     "output_type": "stream",
     "text": [
      "Setup complete! You're ready to start question 0.\n"
     ]
    }
   ],
   "source": [
    "from learntools.core import binder; binder.bind(globals())\n",
    "from learntools.python.ex1 import *\n",
    "print(\"Setup complete! You're ready to start question 0.\")"
   ]
  },
  {
   "cell_type": "markdown",
   "id": "e3f42ccf",
   "metadata": {
    "papermill": {
     "duration": 0.024515,
     "end_time": "2021-10-13T23:48:41.145137",
     "exception": false,
     "start_time": "2021-10-13T23:48:41.120622",
     "status": "completed"
    },
    "tags": []
   },
   "source": [
    "# 0.\n",
    "\n",
    "*This is a silly question intended as an introduction to the format we use for hands-on exercises throughout all Kaggle courses.*\n",
    "\n",
    "**What is your favorite color? **\n",
    "\n",
    "To complete this question, create a variable called `color` in the cell below with an appropriate value. The function call `q0.check()` (which we've already provided in the cell below) will check your answer."
   ]
  },
  {
   "cell_type": "code",
   "execution_count": 4,
   "id": "4a265ea0",
   "metadata": {
    "execution": {
     "iopub.execute_input": "2021-10-13T23:48:41.206050Z",
     "iopub.status.busy": "2021-10-13T23:48:41.204980Z",
     "iopub.status.idle": "2021-10-13T23:48:41.213028Z",
     "shell.execute_reply": "2021-10-13T23:48:41.212389Z",
     "shell.execute_reply.started": "2021-10-13T22:03:48.714291Z"
    },
    "papermill": {
     "duration": 0.042515,
     "end_time": "2021-10-13T23:48:41.213412",
     "exception": false,
     "start_time": "2021-10-13T23:48:41.170897",
     "status": "completed"
    },
    "tags": []
   },
   "outputs": [
    {
     "data": {
      "application/javascript": [
       "parent.postMessage({\"jupyterEvent\": \"custom.exercise_interaction\", \"data\": {\"outcomeType\": 1, \"valueTowardsCompletion\": 0.25, \"interactionType\": 1, \"questionType\": 2, \"questionId\": \"0_ExerciseFormatTutorial\", \"learnToolsVersion\": \"0.3.4\", \"failureMessage\": \"\", \"exceptionClass\": \"\", \"trace\": \"\"}}, \"*\")"
      ],
      "text/plain": [
       "<IPython.core.display.Javascript object>"
      ]
     },
     "metadata": {},
     "output_type": "display_data"
    },
    {
     "data": {
      "text/markdown": [
       "<span style=\"color:#33cc33\">Correct:</span> What?! You got it right without needing a hint or anything? Drats. Well hey, you should still continue to the next step to get some practice asking for a hint and checking solutions. (Even though you obviously don't need any help here.)"
      ],
      "text/plain": [
       "Correct: What?! You got it right without needing a hint or anything? Drats. Well hey, you should still continue to the next step to get some practice asking for a hint and checking solutions. (Even though you obviously don't need any help here.)"
      ]
     },
     "metadata": {},
     "output_type": "display_data"
    }
   ],
   "source": [
    "# create a variable called color with an appropriate value on the line below\n",
    "# (Remember, strings in Python must be enclosed in 'single' or \"double\" quotes)\n",
    "color = \"blue\"\n",
    "\n",
    "# Check your answer\n",
    "q0.check()"
   ]
  },
  {
   "cell_type": "markdown",
   "id": "e0233aaa",
   "metadata": {
    "papermill": {
     "duration": 0.024722,
     "end_time": "2021-10-13T23:48:41.261576",
     "exception": false,
     "start_time": "2021-10-13T23:48:41.236854",
     "status": "completed"
    },
    "tags": []
   },
   "source": [
    "Didn't get the right answer? How do you not even know your own favorite color?!\n",
    "\n",
    "Delete the `#` in the line below to make one of the lines run. You can choose between getting a hint or the full answer by choosing which line to remove the `#` from. \n",
    "\n",
    "Removing the `#` is called uncommenting, because it changes that line from a \"comment\" which Python doesn't run to code, which Python does run."
   ]
  },
  {
   "cell_type": "code",
   "execution_count": 5,
   "id": "ae2adc69",
   "metadata": {
    "execution": {
     "iopub.execute_input": "2021-10-13T23:48:41.319420Z",
     "iopub.status.busy": "2021-10-13T23:48:41.318740Z",
     "iopub.status.idle": "2021-10-13T23:48:41.329034Z",
     "shell.execute_reply": "2021-10-13T23:48:41.329942Z",
     "shell.execute_reply.started": "2021-10-13T22:04:25.619919Z"
    },
    "papermill": {
     "duration": 0.043019,
     "end_time": "2021-10-13T23:48:41.330158",
     "exception": false,
     "start_time": "2021-10-13T23:48:41.287139",
     "status": "completed"
    },
    "tags": []
   },
   "outputs": [
    {
     "data": {
      "application/javascript": [
       "parent.postMessage({\"jupyterEvent\": \"custom.exercise_interaction\", \"data\": {\"interactionType\": 2, \"questionType\": 2, \"questionId\": \"0_ExerciseFormatTutorial\", \"learnToolsVersion\": \"0.3.4\", \"valueTowardsCompletion\": 0.0, \"failureMessage\": \"\", \"exceptionClass\": \"\", \"trace\": \"\", \"outcomeType\": 4}}, \"*\")"
      ],
      "text/plain": [
       "<IPython.core.display.Javascript object>"
      ]
     },
     "metadata": {},
     "output_type": "display_data"
    },
    {
     "data": {
      "text/markdown": [
       "<span style=\"color:#3366cc\">Hint:</span> Your favorite color rhymes with *glue*."
      ],
      "text/plain": [
       "Hint: Your favorite color rhymes with *glue*."
      ]
     },
     "metadata": {},
     "output_type": "display_data"
    },
    {
     "data": {
      "application/javascript": [
       "parent.postMessage({\"jupyterEvent\": \"custom.exercise_interaction\", \"data\": {\"interactionType\": 3, \"questionType\": 2, \"questionId\": \"0_ExerciseFormatTutorial\", \"learnToolsVersion\": \"0.3.4\", \"valueTowardsCompletion\": 0.0, \"failureMessage\": \"\", \"exceptionClass\": \"\", \"trace\": \"\", \"outcomeType\": 4}}, \"*\")"
      ],
      "text/plain": [
       "<IPython.core.display.Javascript object>"
      ]
     },
     "metadata": {},
     "output_type": "display_data"
    },
    {
     "data": {
      "text/markdown": [
       "<span style=\"color:#33cc99\">Solution:</span> \n",
       "```python\n",
       "color = \"blue\"\n",
       "```"
      ],
      "text/plain": [
       "Solution: \n",
       "```python\n",
       "color = \"blue\"\n",
       "```"
      ]
     },
     "metadata": {},
     "output_type": "display_data"
    }
   ],
   "source": [
    "q0.hint()\n",
    "q0.solution()"
   ]
  },
  {
   "cell_type": "markdown",
   "id": "64a57d2c",
   "metadata": {
    "papermill": {
     "duration": 0.026535,
     "end_time": "2021-10-13T23:48:41.383076",
     "exception": false,
     "start_time": "2021-10-13T23:48:41.356541",
     "status": "completed"
    },
    "tags": []
   },
   "source": [
    "The upcoming questions work the same way. The only thing that will change are the question numbers. For the next question, you'll call `q1.check()`, `q1.hint()`, `q1.solution()`, for question 2, you'll call `q2.check()`, and so on."
   ]
  },
  {
   "cell_type": "markdown",
   "id": "b573ed26",
   "metadata": {
    "papermill": {
     "duration": 0.026484,
     "end_time": "2021-10-13T23:48:41.436567",
     "exception": false,
     "start_time": "2021-10-13T23:48:41.410083",
     "status": "completed"
    },
    "tags": []
   },
   "source": [
    "<hr/>\n",
    "\n",
    "# 1.\n",
    "\n",
    "Complete the code below. In case it's helpful, here is the table of available arithmetic operations:\n",
    "\n",
    "\n",
    "\n",
    "| Operator     | Name           | Description                                            |\n",
    "|--------------|----------------|--------------------------------------------------------|\n",
    "| ``a + b``    | Addition       | Sum of ``a`` and ``b``                                 |\n",
    "| ``a - b``    | Subtraction    | Difference of ``a`` and ``b``                          |\n",
    "| ``a * b``    | Multiplication | Product of ``a`` and ``b``                             |\n",
    "| ``a / b``    | True division  | Quotient of ``a`` and ``b``                            |\n",
    "| ``a // b``   | Floor division | Quotient of ``a`` and ``b``, removing fractional parts |\n",
    "| ``a % b``    | Modulus        | Integer remainder after division of ``a`` by ``b``     |\n",
    "| ``a ** b``   | Exponentiation | ``a`` raised to the power of ``b``                     |\n",
    "| ``-a``       | Negation       | The negative of ``a``                                  |\n",
    "\n",
    "<span style=\"display:none\"></span>\n"
   ]
  },
  {
   "cell_type": "code",
   "execution_count": 6,
   "id": "50b4a9b6",
   "metadata": {
    "execution": {
     "iopub.execute_input": "2021-10-13T23:48:41.497311Z",
     "iopub.status.busy": "2021-10-13T23:48:41.496531Z",
     "iopub.status.idle": "2021-10-13T23:48:41.505455Z",
     "shell.execute_reply": "2021-10-13T23:48:41.504611Z",
     "shell.execute_reply.started": "2021-10-13T22:07:10.370723Z"
    },
    "papermill": {
     "duration": 0.042483,
     "end_time": "2021-10-13T23:48:41.505647",
     "exception": false,
     "start_time": "2021-10-13T23:48:41.463164",
     "status": "completed"
    },
    "tags": []
   },
   "outputs": [
    {
     "data": {
      "application/javascript": [
       "parent.postMessage({\"jupyterEvent\": \"custom.exercise_interaction\", \"data\": {\"outcomeType\": 1, \"valueTowardsCompletion\": 0.25, \"interactionType\": 1, \"questionType\": 1, \"questionId\": \"1_CircleArea\", \"learnToolsVersion\": \"0.3.4\", \"failureMessage\": \"\", \"exceptionClass\": \"\", \"trace\": \"\"}}, \"*\")"
      ],
      "text/plain": [
       "<IPython.core.display.Javascript object>"
      ]
     },
     "metadata": {},
     "output_type": "display_data"
    },
    {
     "data": {
      "text/markdown": [
       "<span style=\"color:#33cc33\">Correct</span>"
      ],
      "text/plain": [
       "Correct"
      ]
     },
     "metadata": {},
     "output_type": "display_data"
    }
   ],
   "source": [
    "pi = 3.14159 # approximate\n",
    "diameter = 3\n",
    "\n",
    "# Create a variable called 'radius' equal to half the diameter\n",
    "radius = diameter / 2\n",
    "\n",
    "# Create a variable called 'area', using the formula for the area of a circle: pi times the radius squared\n",
    "area = pi * (radius ** 2)\n",
    "\n",
    "# Check your answer\n",
    "q1.check()"
   ]
  },
  {
   "cell_type": "code",
   "execution_count": 7,
   "id": "6c810f2c",
   "metadata": {
    "execution": {
     "iopub.execute_input": "2021-10-13T23:48:41.565074Z",
     "iopub.status.busy": "2021-10-13T23:48:41.564354Z",
     "iopub.status.idle": "2021-10-13T23:48:41.568478Z",
     "shell.execute_reply": "2021-10-13T23:48:41.567730Z"
    },
    "papermill": {
     "duration": 0.035766,
     "end_time": "2021-10-13T23:48:41.568646",
     "exception": false,
     "start_time": "2021-10-13T23:48:41.532880",
     "status": "completed"
    },
    "tags": []
   },
   "outputs": [],
   "source": [
    "# Uncomment and run the lines below if you need help.\n",
    "#q1.hint()\n",
    "#q1.solution()"
   ]
  },
  {
   "cell_type": "markdown",
   "id": "181dd628",
   "metadata": {
    "papermill": {
     "duration": 0.026522,
     "end_time": "2021-10-13T23:48:41.621738",
     "exception": false,
     "start_time": "2021-10-13T23:48:41.595216",
     "status": "completed"
    },
    "tags": []
   },
   "source": [
    "<hr/>\n",
    "\n",
    "# 2.\n",
    "\n",
    "Add code to the following cell to swap variables `a` and `b` (so that `a` refers to the object previously referred to by `b` and vice versa)."
   ]
  },
  {
   "cell_type": "code",
   "execution_count": 8,
   "id": "485a19c1",
   "metadata": {
    "execution": {
     "iopub.execute_input": "2021-10-13T23:48:41.686117Z",
     "iopub.status.busy": "2021-10-13T23:48:41.685341Z",
     "iopub.status.idle": "2021-10-13T23:48:41.692604Z",
     "shell.execute_reply": "2021-10-13T23:48:41.692033Z",
     "shell.execute_reply.started": "2021-10-13T22:08:16.010043Z"
    },
    "papermill": {
     "duration": 0.044183,
     "end_time": "2021-10-13T23:48:41.692813",
     "exception": false,
     "start_time": "2021-10-13T23:48:41.648630",
     "status": "completed"
    },
    "tags": []
   },
   "outputs": [
    {
     "data": {
      "application/javascript": [
       "parent.postMessage({\"jupyterEvent\": \"custom.exercise_interaction\", \"data\": {\"outcomeType\": 1, \"valueTowardsCompletion\": 0.25, \"interactionType\": 1, \"questionType\": 2, \"questionId\": \"2_VariableSwap\", \"learnToolsVersion\": \"0.3.4\", \"failureMessage\": \"\", \"exceptionClass\": \"\", \"trace\": \"\"}}, \"*\")"
      ],
      "text/plain": [
       "<IPython.core.display.Javascript object>"
      ]
     },
     "metadata": {},
     "output_type": "display_data"
    },
    {
     "data": {
      "text/markdown": [
       "<span style=\"color:#33cc33\">Correct:</span> \n",
       "\n",
       "The most straightforward solution is to use a third variable to temporarily store one of the old values. e.g.:\n",
       "\n",
       "    tmp = a\n",
       "    a = b\n",
       "    b = tmp\n",
       "\n",
       "If you've read lots of Python code, you might have seen the following trick to swap two variables in one line:\n",
       "\n",
       "    a, b = b, a\n",
       "\n",
       "We'll demystify this bit of Python magic later when we talk about *tuples*."
      ],
      "text/plain": [
       "Correct: \n",
       "\n",
       "The most straightforward solution is to use a third variable to temporarily store one of the old values. e.g.:\n",
       "\n",
       "    tmp = a\n",
       "    a = b\n",
       "    b = tmp\n",
       "\n",
       "If you've read lots of Python code, you might have seen the following trick to swap two variables in one line:\n",
       "\n",
       "    a, b = b, a\n",
       "\n",
       "We'll demystify this bit of Python magic later when we talk about *tuples*."
      ]
     },
     "metadata": {},
     "output_type": "display_data"
    }
   ],
   "source": [
    "########### Setup code - don't touch this part ######################\n",
    "# If you're curious, these are examples of lists. We'll talk about \n",
    "# them in depth a few lessons from now. For now, just know that they're\n",
    "# yet another type of Python object, like int or float.\n",
    "a = [1, 2, 3]\n",
    "b = [3, 2, 1]\n",
    "q2.store_original_ids()\n",
    "######################################################################\n",
    "\n",
    "# Your code goes here. Swap the values to which a and b refer.\n",
    "# If you get stuck, you can always uncomment one or both of the lines in\n",
    "# the next cell for a hint, or to peek at the solution.\n",
    "temp = a \n",
    "a = b \n",
    "b = temp\n",
    "\n",
    "######################################################################\n",
    "\n",
    "# Check your answer\n",
    "q2.check()"
   ]
  },
  {
   "cell_type": "code",
   "execution_count": 9,
   "id": "267b2b5a",
   "metadata": {
    "execution": {
     "iopub.execute_input": "2021-10-13T23:48:41.761405Z",
     "iopub.status.busy": "2021-10-13T23:48:41.760644Z",
     "iopub.status.idle": "2021-10-13T23:48:41.763914Z",
     "shell.execute_reply": "2021-10-13T23:48:41.763334Z"
    },
    "papermill": {
     "duration": 0.039176,
     "end_time": "2021-10-13T23:48:41.764065",
     "exception": false,
     "start_time": "2021-10-13T23:48:41.724889",
     "status": "completed"
    },
    "tags": []
   },
   "outputs": [],
   "source": [
    "#q2.hint()"
   ]
  },
  {
   "cell_type": "code",
   "execution_count": 10,
   "id": "6cafafa5",
   "metadata": {
    "execution": {
     "iopub.execute_input": "2021-10-13T23:48:41.828366Z",
     "iopub.status.busy": "2021-10-13T23:48:41.827607Z",
     "iopub.status.idle": "2021-10-13T23:48:41.830056Z",
     "shell.execute_reply": "2021-10-13T23:48:41.830590Z"
    },
    "papermill": {
     "duration": 0.037858,
     "end_time": "2021-10-13T23:48:41.830811",
     "exception": false,
     "start_time": "2021-10-13T23:48:41.792953",
     "status": "completed"
    },
    "tags": []
   },
   "outputs": [],
   "source": [
    "#q2.solution()"
   ]
  },
  {
   "cell_type": "markdown",
   "id": "e417d57f",
   "metadata": {
    "papermill": {
     "duration": 0.027268,
     "end_time": "2021-10-13T23:48:41.886607",
     "exception": false,
     "start_time": "2021-10-13T23:48:41.859339",
     "status": "completed"
    },
    "tags": []
   },
   "source": [
    "<hr/>\n",
    "\n",
    "# 3a.\n",
    "\n",
    "Add parentheses to the following expression so that it evaluates to 1."
   ]
  },
  {
   "cell_type": "code",
   "execution_count": 11,
   "id": "7e06c955",
   "metadata": {
    "execution": {
     "iopub.execute_input": "2021-10-13T23:48:41.951103Z",
     "iopub.status.busy": "2021-10-13T23:48:41.950331Z",
     "iopub.status.idle": "2021-10-13T23:48:41.956781Z",
     "shell.execute_reply": "2021-10-13T23:48:41.956218Z",
     "shell.execute_reply.started": "2021-10-13T22:10:01.844221Z"
    },
    "papermill": {
     "duration": 0.040606,
     "end_time": "2021-10-13T23:48:41.956953",
     "exception": false,
     "start_time": "2021-10-13T23:48:41.916347",
     "status": "completed"
    },
    "tags": []
   },
   "outputs": [
    {
     "data": {
      "text/plain": [
       "1"
      ]
     },
     "execution_count": 11,
     "metadata": {},
     "output_type": "execute_result"
    }
   ],
   "source": [
    "(5 - 3) // 2"
   ]
  },
  {
   "cell_type": "code",
   "execution_count": 12,
   "id": "bf7afd99",
   "metadata": {
    "execution": {
     "iopub.execute_input": "2021-10-13T23:48:42.021867Z",
     "iopub.status.busy": "2021-10-13T23:48:42.020898Z",
     "iopub.status.idle": "2021-10-13T23:48:42.025868Z",
     "shell.execute_reply": "2021-10-13T23:48:42.024772Z"
    },
    "papermill": {
     "duration": 0.04027,
     "end_time": "2021-10-13T23:48:42.026049",
     "exception": false,
     "start_time": "2021-10-13T23:48:41.985779",
     "status": "completed"
    },
    "tags": []
   },
   "outputs": [],
   "source": [
    "#q3.a.hint()"
   ]
  },
  {
   "cell_type": "code",
   "execution_count": 13,
   "id": "3894a200",
   "metadata": {
    "execution": {
     "iopub.execute_input": "2021-10-13T23:48:42.094166Z",
     "iopub.status.busy": "2021-10-13T23:48:42.093260Z",
     "iopub.status.idle": "2021-10-13T23:48:42.099255Z",
     "shell.execute_reply": "2021-10-13T23:48:42.100295Z",
     "shell.execute_reply.started": "2021-10-13T22:10:07.426346Z"
    },
    "papermill": {
     "duration": 0.042271,
     "end_time": "2021-10-13T23:48:42.100553",
     "exception": false,
     "start_time": "2021-10-13T23:48:42.058282",
     "status": "completed"
    },
    "tags": []
   },
   "outputs": [
    {
     "data": {
      "application/javascript": [
       "parent.postMessage({\"jupyterEvent\": \"custom.exercise_interaction\", \"data\": {\"interactionType\": 3, \"questionType\": 4, \"questionId\": \"3.1_ArithmeticParensEasy\", \"learnToolsVersion\": \"0.3.4\", \"valueTowardsCompletion\": 0.0, \"failureMessage\": \"\", \"exceptionClass\": \"\", \"trace\": \"\", \"outcomeType\": 4}}, \"*\")"
      ],
      "text/plain": [
       "<IPython.core.display.Javascript object>"
      ]
     },
     "metadata": {},
     "output_type": "display_data"
    },
    {
     "data": {
      "text/markdown": [
       "<span style=\"color:#33cc99\">Solution:</span> \n",
       "```python\n",
       "(5 - 3) // 2\n",
       "```"
      ],
      "text/plain": [
       "Solution: \n",
       "```python\n",
       "(5 - 3) // 2\n",
       "```"
      ]
     },
     "metadata": {},
     "output_type": "display_data"
    }
   ],
   "source": [
    "# Check your answer (Run this code cell to receive credit!)\n",
    "q3.a.solution()"
   ]
  },
  {
   "cell_type": "markdown",
   "id": "c15825db",
   "metadata": {
    "papermill": {
     "duration": 0.03196,
     "end_time": "2021-10-13T23:48:42.162871",
     "exception": false,
     "start_time": "2021-10-13T23:48:42.130911",
     "status": "completed"
    },
    "tags": []
   },
   "source": [
    "# 3b.  <span title=\"A bit spicy\" style=\"color: darkgreen \">🌶️</span>\n",
    "\n",
    "<small>Questions, like this one, marked a spicy pepper are a bit harder.</small>\n",
    "\n",
    "Add parentheses to the following expression so that it evaluates to 0."
   ]
  },
  {
   "cell_type": "code",
   "execution_count": 14,
   "id": "c3f3390c",
   "metadata": {
    "execution": {
     "iopub.execute_input": "2021-10-13T23:48:42.234013Z",
     "iopub.status.busy": "2021-10-13T23:48:42.233314Z",
     "iopub.status.idle": "2021-10-13T23:48:42.241126Z",
     "shell.execute_reply": "2021-10-13T23:48:42.240419Z",
     "shell.execute_reply.started": "2021-10-13T22:11:51.177669Z"
    },
    "papermill": {
     "duration": 0.046173,
     "end_time": "2021-10-13T23:48:42.241284",
     "exception": false,
     "start_time": "2021-10-13T23:48:42.195111",
     "status": "completed"
    },
    "tags": []
   },
   "outputs": [
    {
     "data": {
      "text/plain": [
       "0"
      ]
     },
     "execution_count": 14,
     "metadata": {},
     "output_type": "execute_result"
    }
   ],
   "source": [
    "(8 - (3 * 2)) - (1 + 1)"
   ]
  },
  {
   "cell_type": "code",
   "execution_count": 15,
   "id": "c7795d35",
   "metadata": {
    "execution": {
     "iopub.execute_input": "2021-10-13T23:48:42.314773Z",
     "iopub.status.busy": "2021-10-13T23:48:42.314057Z",
     "iopub.status.idle": "2021-10-13T23:48:42.316615Z",
     "shell.execute_reply": "2021-10-13T23:48:42.317205Z"
    },
    "papermill": {
     "duration": 0.04381,
     "end_time": "2021-10-13T23:48:42.317450",
     "exception": false,
     "start_time": "2021-10-13T23:48:42.273640",
     "status": "completed"
    },
    "tags": []
   },
   "outputs": [],
   "source": [
    "#q3.b.hint()"
   ]
  },
  {
   "cell_type": "code",
   "execution_count": 16,
   "id": "4688df86",
   "metadata": {
    "execution": {
     "iopub.execute_input": "2021-10-13T23:48:42.388095Z",
     "iopub.status.busy": "2021-10-13T23:48:42.387412Z",
     "iopub.status.idle": "2021-10-13T23:48:42.394484Z",
     "shell.execute_reply": "2021-10-13T23:48:42.394984Z",
     "shell.execute_reply.started": "2021-10-13T22:11:55.395711Z"
    },
    "papermill": {
     "duration": 0.042906,
     "end_time": "2021-10-13T23:48:42.395180",
     "exception": false,
     "start_time": "2021-10-13T23:48:42.352274",
     "status": "completed"
    },
    "tags": []
   },
   "outputs": [
    {
     "data": {
      "application/javascript": [
       "parent.postMessage({\"jupyterEvent\": \"custom.exercise_interaction\", \"data\": {\"interactionType\": 3, \"questionType\": 4, \"questionId\": \"3.2_ArithmeticParensHard\", \"learnToolsVersion\": \"0.3.4\", \"valueTowardsCompletion\": 0.0, \"failureMessage\": \"\", \"exceptionClass\": \"\", \"trace\": \"\", \"outcomeType\": 4}}, \"*\")"
      ],
      "text/plain": [
       "<IPython.core.display.Javascript object>"
      ]
     },
     "metadata": {},
     "output_type": "display_data"
    },
    {
     "data": {
      "text/markdown": [
       "<span style=\"color:#33cc99\">Solution:</span> `(8 - 3) * (2 - (1 + 1))` is one solution. There may be others."
      ],
      "text/plain": [
       "Solution: `(8 - 3) * (2 - (1 + 1))` is one solution. There may be others."
      ]
     },
     "metadata": {},
     "output_type": "display_data"
    }
   ],
   "source": [
    "# Check your answer (Run this code cell to receive credit!)\n",
    "q3.b.solution()"
   ]
  },
  {
   "cell_type": "markdown",
   "id": "d7b84bb5",
   "metadata": {
    "papermill": {
     "duration": 0.034444,
     "end_time": "2021-10-13T23:48:42.465347",
     "exception": false,
     "start_time": "2021-10-13T23:48:42.430903",
     "status": "completed"
    },
    "tags": []
   },
   "source": [
    "<hr/>\n",
    "\n",
    "# 4. \n",
    "Alice, Bob and Carol have agreed to pool their Halloween candy and split it evenly among themselves.\n",
    "For the sake of their friendship, any candies left over will be smashed. For example, if they collectively\n",
    "bring home 91 candies, they'll take 30 each and smash 1.\n",
    "\n",
    "Write an arithmetic expression below to calculate how many candies they must smash for a given haul."
   ]
  },
  {
   "cell_type": "code",
   "execution_count": 17,
   "id": "26ec1cd3",
   "metadata": {
    "execution": {
     "iopub.execute_input": "2021-10-13T23:48:42.546601Z",
     "iopub.status.busy": "2021-10-13T23:48:42.545847Z",
     "iopub.status.idle": "2021-10-13T23:48:42.550352Z",
     "shell.execute_reply": "2021-10-13T23:48:42.550870Z",
     "shell.execute_reply.started": "2021-10-13T22:14:34.455249Z"
    },
    "papermill": {
     "duration": 0.048971,
     "end_time": "2021-10-13T23:48:42.551076",
     "exception": false,
     "start_time": "2021-10-13T23:48:42.502105",
     "status": "completed"
    },
    "tags": []
   },
   "outputs": [
    {
     "data": {
      "application/javascript": [
       "parent.postMessage({\"jupyterEvent\": \"custom.exercise_interaction\", \"data\": {\"outcomeType\": 1, \"valueTowardsCompletion\": 0.25, \"interactionType\": 1, \"questionType\": 1, \"questionId\": \"4_CandySplitting\", \"learnToolsVersion\": \"0.3.4\", \"failureMessage\": \"\", \"exceptionClass\": \"\", \"trace\": \"\"}}, \"*\")"
      ],
      "text/plain": [
       "<IPython.core.display.Javascript object>"
      ]
     },
     "metadata": {},
     "output_type": "display_data"
    },
    {
     "data": {
      "text/markdown": [
       "<span style=\"color:#33cc33\">Correct</span>"
      ],
      "text/plain": [
       "Correct"
      ]
     },
     "metadata": {},
     "output_type": "display_data"
    }
   ],
   "source": [
    "# Variables representing the number of candies collected by alice, bob, and carol\n",
    "alice_candies = 121\n",
    "bob_candies = 77\n",
    "carol_candies = 109\n",
    "\n",
    "# Your code goes here! Replace the right-hand side of this assignment with an expression\n",
    "# involving alice_candies, bob_candies, and carol_candies\n",
    "to_smash = (alice_candies + bob_candies + carol_candies) % 3\n",
    "\n",
    "# Check your answer\n",
    "q4.check()"
   ]
  },
  {
   "cell_type": "code",
   "execution_count": 18,
   "id": "6103075a",
   "metadata": {
    "execution": {
     "iopub.execute_input": "2021-10-13T23:48:42.631673Z",
     "iopub.status.busy": "2021-10-13T23:48:42.630971Z",
     "iopub.status.idle": "2021-10-13T23:48:42.634751Z",
     "shell.execute_reply": "2021-10-13T23:48:42.634195Z"
    },
    "papermill": {
     "duration": 0.048012,
     "end_time": "2021-10-13T23:48:42.634911",
     "exception": false,
     "start_time": "2021-10-13T23:48:42.586899",
     "status": "completed"
    },
    "tags": []
   },
   "outputs": [],
   "source": [
    "#q4.hint()\n",
    "#q4.solution()"
   ]
  },
  {
   "cell_type": "markdown",
   "id": "ed7c894f",
   "metadata": {
    "papermill": {
     "duration": 0.036717,
     "end_time": "2021-10-13T23:48:42.707111",
     "exception": false,
     "start_time": "2021-10-13T23:48:42.670394",
     "status": "completed"
    },
    "tags": []
   },
   "source": [
    "# Keep Going\n",
    "\n",
    "Next up, you'll **[learn to write new functions and understand functions others write](https://www.kaggle.com/colinmorris/functions-and-getting-help)**. This will make you at least 10 times more productive as a Python programmer. "
   ]
  }
 ],
 "metadata": {
  "kernelspec": {
   "display_name": "Python 3",
   "language": "python",
   "name": "python3"
  },
  "language_info": {
   "codemirror_mode": {
    "name": "ipython",
    "version": 3
   },
   "file_extension": ".py",
   "mimetype": "text/x-python",
   "name": "python",
   "nbconvert_exporter": "python",
   "pygments_lexer": "ipython3",
   "version": "3.7.10"
  },
  "papermill": {
   "default_parameters": {},
   "duration": 15.16266,
   "end_time": "2021-10-13T23:48:44.035587",
   "environment_variables": {},
   "exception": null,
   "input_path": "__notebook__.ipynb",
   "output_path": "__notebook__.ipynb",
   "parameters": {},
   "start_time": "2021-10-13T23:48:28.872927",
   "version": "2.3.3"
  }
 },
 "nbformat": 4,
 "nbformat_minor": 5
}
