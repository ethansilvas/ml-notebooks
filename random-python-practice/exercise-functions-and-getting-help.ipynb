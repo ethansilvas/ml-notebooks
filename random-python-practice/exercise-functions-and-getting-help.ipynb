{
 "cells": [
  {
   "cell_type": "markdown",
   "id": "01d04d1b",
   "metadata": {
    "papermill": {
     "duration": 0.01508,
     "end_time": "2021-10-13T23:48:47.358035",
     "exception": false,
     "start_time": "2021-10-13T23:48:47.342955",
     "status": "completed"
    },
    "tags": []
   },
   "source": [
    "**This notebook is an exercise in the [Python](https://www.kaggle.com/learn/python) course.  You can reference the tutorial at [this link](https://www.kaggle.com/colinmorris/functions-and-getting-help).**\n",
    "\n",
    "---\n"
   ]
  },
  {
   "cell_type": "markdown",
   "id": "20ce4109",
   "metadata": {
    "papermill": {
     "duration": 0.013037,
     "end_time": "2021-10-13T23:48:47.386870",
     "exception": false,
     "start_time": "2021-10-13T23:48:47.373833",
     "status": "completed"
    },
    "tags": []
   },
   "source": [
    "Functions are powerful. Try writing some yourself.\n",
    "\n",
    "As before, don't forget to run the setup code below before jumping into question 1."
   ]
  },
  {
   "cell_type": "code",
   "execution_count": 1,
   "id": "527a4038",
   "metadata": {
    "_kg_hide-input": true,
    "_kg_hide-output": true,
    "execution": {
     "iopub.execute_input": "2021-10-13T23:48:47.426055Z",
     "iopub.status.busy": "2021-10-13T23:48:47.425234Z",
     "iopub.status.idle": "2021-10-13T23:48:47.466192Z",
     "shell.execute_reply": "2021-10-13T23:48:47.466938Z",
     "shell.execute_reply.started": "2021-10-13T23:17:50.861201Z"
    },
    "papermill": {
     "duration": 0.067105,
     "end_time": "2021-10-13T23:48:47.467357",
     "exception": false,
     "start_time": "2021-10-13T23:48:47.400252",
     "status": "completed"
    },
    "tags": []
   },
   "outputs": [
    {
     "name": "stdout",
     "output_type": "stream",
     "text": [
      "Setup complete.\n"
     ]
    }
   ],
   "source": [
    "# SETUP. You don't need to worry for now about what this code does or how it works.\n",
    "from learntools.core import binder; binder.bind(globals())\n",
    "from learntools.python.ex2 import *\n",
    "print('Setup complete.')"
   ]
  },
  {
   "cell_type": "markdown",
   "id": "a57f5391",
   "metadata": {
    "papermill": {
     "duration": 0.01328,
     "end_time": "2021-10-13T23:48:47.495630",
     "exception": false,
     "start_time": "2021-10-13T23:48:47.482350",
     "status": "completed"
    },
    "tags": []
   },
   "source": [
    "# 1.\n",
    "\n",
    "Complete the body of the following function according to its docstring.\n",
    "\n",
    "HINT: Python has a built-in function `round`."
   ]
  },
  {
   "cell_type": "code",
   "execution_count": 2,
   "id": "e6ac906e",
   "metadata": {
    "execution": {
     "iopub.execute_input": "2021-10-13T23:48:47.531615Z",
     "iopub.status.busy": "2021-10-13T23:48:47.530933Z",
     "iopub.status.idle": "2021-10-13T23:48:47.535052Z",
     "shell.execute_reply": "2021-10-13T23:48:47.535591Z",
     "shell.execute_reply.started": "2021-10-13T23:21:40.743404Z"
    },
    "papermill": {
     "duration": 0.026554,
     "end_time": "2021-10-13T23:48:47.535784",
     "exception": false,
     "start_time": "2021-10-13T23:48:47.509230",
     "status": "completed"
    },
    "tags": []
   },
   "outputs": [
    {
     "data": {
      "application/javascript": [
       "parent.postMessage({\"jupyterEvent\": \"custom.exercise_interaction\", \"data\": {\"outcomeType\": 1, \"valueTowardsCompletion\": 0.16666666666666666, \"interactionType\": 1, \"questionType\": 2, \"questionId\": \"1_RoundFunctionProblem\", \"learnToolsVersion\": \"0.3.4\", \"failureMessage\": \"\", \"exceptionClass\": \"\", \"trace\": \"\"}}, \"*\")"
      ],
      "text/plain": [
       "<IPython.core.display.Javascript object>"
      ]
     },
     "metadata": {},
     "output_type": "display_data"
    },
    {
     "data": {
      "text/markdown": [
       "<span style=\"color:#33cc33\">Correct</span>"
      ],
      "text/plain": [
       "Correct"
      ]
     },
     "metadata": {},
     "output_type": "display_data"
    }
   ],
   "source": [
    "def round_to_two_places(num):\n",
    "    \"\"\"Return the given number rounded to two decimal places. \n",
    "    \n",
    "    >>> round_to_two_places(3.14159)\n",
    "    3.14\n",
    "    \"\"\"\n",
    "    # Replace this body with your own code.\n",
    "    # (\"pass\" is a keyword that does literally nothing. We used it as a placeholder\n",
    "    # because after we begin a code block, Python requires at least one line of code)\n",
    "    return round(num, 2)\n",
    "\n",
    "# Check your answer\n",
    "q1.check()"
   ]
  },
  {
   "cell_type": "code",
   "execution_count": 3,
   "id": "cdcf24ab",
   "metadata": {
    "execution": {
     "iopub.execute_input": "2021-10-13T23:48:47.569842Z",
     "iopub.status.busy": "2021-10-13T23:48:47.569216Z",
     "iopub.status.idle": "2021-10-13T23:48:47.572181Z",
     "shell.execute_reply": "2021-10-13T23:48:47.571606Z"
    },
    "papermill": {
     "duration": 0.021656,
     "end_time": "2021-10-13T23:48:47.572330",
     "exception": false,
     "start_time": "2021-10-13T23:48:47.550674",
     "status": "completed"
    },
    "tags": []
   },
   "outputs": [],
   "source": [
    "# Uncomment the following for a hint\n",
    "#q1.hint()\n",
    "# Or uncomment the following to peek at the solution\n",
    "#q1.solution()"
   ]
  },
  {
   "cell_type": "markdown",
   "id": "c4930159",
   "metadata": {
    "papermill": {
     "duration": 0.014759,
     "end_time": "2021-10-13T23:48:47.602039",
     "exception": false,
     "start_time": "2021-10-13T23:48:47.587280",
     "status": "completed"
    },
    "tags": []
   },
   "source": [
    "# 2.\n",
    "The help for `round` says that `ndigits` (the second argument) may be negative.\n",
    "What do you think will happen when it is? Try some examples in the following cell."
   ]
  },
  {
   "cell_type": "code",
   "execution_count": 4,
   "id": "0c485b59",
   "metadata": {
    "execution": {
     "iopub.execute_input": "2021-10-13T23:48:47.636981Z",
     "iopub.status.busy": "2021-10-13T23:48:47.636324Z",
     "iopub.status.idle": "2021-10-13T23:48:47.641662Z",
     "shell.execute_reply": "2021-10-13T23:48:47.642177Z",
     "shell.execute_reply.started": "2021-10-13T23:36:21.332399Z"
    },
    "papermill": {
     "duration": 0.024341,
     "end_time": "2021-10-13T23:48:47.642359",
     "exception": false,
     "start_time": "2021-10-13T23:48:47.618018",
     "status": "completed"
    },
    "tags": []
   },
   "outputs": [
    {
     "name": "stdout",
     "output_type": "stream",
     "text": [
      "0.0\n",
      "0.0\n"
     ]
    }
   ],
   "source": [
    "# Put your test code here\n",
    "print(round(1.5, -1))\n",
    "print(round(5.1123123, -2))"
   ]
  },
  {
   "cell_type": "markdown",
   "id": "9f282b83",
   "metadata": {
    "papermill": {
     "duration": 0.015043,
     "end_time": "2021-10-13T23:48:47.673148",
     "exception": false,
     "start_time": "2021-10-13T23:48:47.658105",
     "status": "completed"
    },
    "tags": []
   },
   "source": [
    "Can you think of a case where this would be useful?  Once you're ready, run the code cell below to see the answer and to receive credit for completing the problem."
   ]
  },
  {
   "cell_type": "code",
   "execution_count": 5,
   "id": "5c836b60",
   "metadata": {
    "execution": {
     "iopub.execute_input": "2021-10-13T23:48:47.707727Z",
     "iopub.status.busy": "2021-10-13T23:48:47.706768Z",
     "iopub.status.idle": "2021-10-13T23:48:47.714010Z",
     "shell.execute_reply": "2021-10-13T23:48:47.714492Z",
     "shell.execute_reply.started": "2021-10-13T23:36:31.467295Z"
    },
    "papermill": {
     "duration": 0.026233,
     "end_time": "2021-10-13T23:48:47.714701",
     "exception": false,
     "start_time": "2021-10-13T23:48:47.688468",
     "status": "completed"
    },
    "tags": []
   },
   "outputs": [
    {
     "data": {
      "application/javascript": [
       "parent.postMessage({\"jupyterEvent\": \"custom.exercise_interaction\", \"data\": {\"interactionType\": 3, \"questionType\": 4, \"questionId\": \"2_RoundNdigitsProblem\", \"learnToolsVersion\": \"0.3.4\", \"valueTowardsCompletion\": 0.0, \"failureMessage\": \"\", \"exceptionClass\": \"\", \"trace\": \"\", \"outcomeType\": 4}}, \"*\")"
      ],
      "text/plain": [
       "<IPython.core.display.Javascript object>"
      ]
     },
     "metadata": {},
     "output_type": "display_data"
    },
    {
     "data": {
      "text/markdown": [
       "<span style=\"color:#33cc99\">Solution:</span> As you've seen, `ndigits=-1` rounds to the nearest 10, `ndigits=-2` rounds to the nearest 100 and so on. Where might this be useful? Suppose we're dealing with large numbers:\n",
       "\n",
       "> The area of Finland is 338,424 km²  \n",
       "> The area of Greenland is 2,166,086 km²\n",
       "\n",
       "We probably don't care whether it's really 338,424, or 338,425, or 338,177. All those digits of accuracy are just distracting. We can chop them off by calling `round()` with `ndigits=-3`:\n",
       "\n",
       "> The area of Finland is 338,000 km²  \n",
       "> The area of Greenland is 2,166,000 km²\n",
       "\n",
       "(We'll talk about how we would get the commas later when we talk about string formatting :))\n"
      ],
      "text/plain": [
       "Solution: As you've seen, `ndigits=-1` rounds to the nearest 10, `ndigits=-2` rounds to the nearest 100 and so on. Where might this be useful? Suppose we're dealing with large numbers:\n",
       "\n",
       "> The area of Finland is 338,424 km²  \n",
       "> The area of Greenland is 2,166,086 km²\n",
       "\n",
       "We probably don't care whether it's really 338,424, or 338,425, or 338,177. All those digits of accuracy are just distracting. We can chop them off by calling `round()` with `ndigits=-3`:\n",
       "\n",
       "> The area of Finland is 338,000 km²  \n",
       "> The area of Greenland is 2,166,000 km²\n",
       "\n",
       "(We'll talk about how we would get the commas later when we talk about string formatting :))"
      ]
     },
     "metadata": {},
     "output_type": "display_data"
    }
   ],
   "source": [
    "# Check your answer (Run this code cell to receive credit!)\n",
    "q2.solution()"
   ]
  },
  {
   "cell_type": "markdown",
   "id": "dcdf4706",
   "metadata": {
    "papermill": {
     "duration": 0.015948,
     "end_time": "2021-10-13T23:48:47.748434",
     "exception": false,
     "start_time": "2021-10-13T23:48:47.732486",
     "status": "completed"
    },
    "tags": []
   },
   "source": [
    "# 3.\n",
    "\n",
    "In the previous exercise, the candy-sharing friends Alice, Bob and Carol tried to split candies evenly. For the sake of their friendship, any candies left over would be smashed. For example, if they collectively bring home 91 candies, they'll take 30 each and smash 1.\n",
    "\n",
    "Below is a simple function that will calculate the number of candies to smash for *any* number of total candies.\n",
    "\n",
    "Modify it so that it optionally takes a second argument representing the number of friends the candies are being split between. If no second argument is provided, it should assume 3 friends, as before.\n",
    "\n",
    "Update the docstring to reflect this new behaviour."
   ]
  },
  {
   "cell_type": "code",
   "execution_count": 6,
   "id": "8d75d6db",
   "metadata": {
    "execution": {
     "iopub.execute_input": "2021-10-13T23:48:47.785016Z",
     "iopub.status.busy": "2021-10-13T23:48:47.784033Z",
     "iopub.status.idle": "2021-10-13T23:48:47.792900Z",
     "shell.execute_reply": "2021-10-13T23:48:47.793356Z",
     "shell.execute_reply.started": "2021-10-13T23:39:59.622825Z"
    },
    "papermill": {
     "duration": 0.028891,
     "end_time": "2021-10-13T23:48:47.793590",
     "exception": false,
     "start_time": "2021-10-13T23:48:47.764699",
     "status": "completed"
    },
    "tags": []
   },
   "outputs": [
    {
     "data": {
      "application/javascript": [
       "parent.postMessage({\"jupyterEvent\": \"custom.exercise_interaction\", \"data\": {\"outcomeType\": 1, \"valueTowardsCompletion\": 0.16666666666666666, \"interactionType\": 1, \"questionType\": 2, \"questionId\": \"3_CandySmashingFunctionProblem\", \"learnToolsVersion\": \"0.3.4\", \"failureMessage\": \"\", \"exceptionClass\": \"\", \"trace\": \"\"}}, \"*\")"
      ],
      "text/plain": [
       "<IPython.core.display.Javascript object>"
      ]
     },
     "metadata": {},
     "output_type": "display_data"
    },
    {
     "data": {
      "text/markdown": [
       "<span style=\"color:#33cc33\">Correct</span>"
      ],
      "text/plain": [
       "Correct"
      ]
     },
     "metadata": {},
     "output_type": "display_data"
    }
   ],
   "source": [
    "def to_smash(total_candies, num_friends=3):\n",
    "    \"\"\"Return the number of leftover candies that must be smashed after distributing\n",
    "    the given number of candies evenly between 3 friends.\n",
    "    \n",
    "    >>> to_smash(91)\n",
    "    1\n",
    "    \"\"\"\n",
    "    return total_candies % num_friends\n",
    "\n",
    "# Check your answer\n",
    "q3.check()"
   ]
  },
  {
   "cell_type": "code",
   "execution_count": 7,
   "id": "e3f30bd0",
   "metadata": {
    "execution": {
     "iopub.execute_input": "2021-10-13T23:48:47.832446Z",
     "iopub.status.busy": "2021-10-13T23:48:47.831743Z",
     "iopub.status.idle": "2021-10-13T23:48:47.836663Z",
     "shell.execute_reply": "2021-10-13T23:48:47.835994Z"
    },
    "papermill": {
     "duration": 0.025706,
     "end_time": "2021-10-13T23:48:47.836813",
     "exception": false,
     "start_time": "2021-10-13T23:48:47.811107",
     "status": "completed"
    },
    "tags": []
   },
   "outputs": [],
   "source": [
    "#q3.hint()"
   ]
  },
  {
   "cell_type": "code",
   "execution_count": 8,
   "id": "d1a55873",
   "metadata": {
    "execution": {
     "iopub.execute_input": "2021-10-13T23:48:47.877717Z",
     "iopub.status.busy": "2021-10-13T23:48:47.876874Z",
     "iopub.status.idle": "2021-10-13T23:48:47.879622Z",
     "shell.execute_reply": "2021-10-13T23:48:47.879123Z"
    },
    "papermill": {
     "duration": 0.024732,
     "end_time": "2021-10-13T23:48:47.879782",
     "exception": false,
     "start_time": "2021-10-13T23:48:47.855050",
     "status": "completed"
    },
    "tags": []
   },
   "outputs": [],
   "source": [
    "#q3.solution()"
   ]
  },
  {
   "cell_type": "markdown",
   "id": "1e6dc452",
   "metadata": {
    "papermill": {
     "duration": 0.017297,
     "end_time": "2021-10-13T23:48:47.914955",
     "exception": false,
     "start_time": "2021-10-13T23:48:47.897658",
     "status": "completed"
    },
    "tags": []
   },
   "source": [
    "# 4. (Optional)\n",
    "\n",
    "It may not be fun, but reading and understanding error messages will be an important part of your Python career.\n",
    "\n",
    "Each code cell below contains some commented buggy code. For each cell...\n",
    "\n",
    "1. Read the code and predict what you think will happen when it's run.\n",
    "2. Then uncomment the code and run it to see what happens. (**Tip**: In the kernel editor, you can highlight several lines and press `ctrl`+`/` to toggle commenting.)\n",
    "3. Fix the code (so that it accomplishes its intended purpose without throwing an exception)\n",
    "\n",
    "<!-- TODO: should this be autochecked? Delta is probably pretty small. -->"
   ]
  },
  {
   "cell_type": "code",
   "execution_count": 9,
   "id": "2b4a8746",
   "metadata": {
    "execution": {
     "iopub.execute_input": "2021-10-13T23:48:47.953152Z",
     "iopub.status.busy": "2021-10-13T23:48:47.952480Z",
     "iopub.status.idle": "2021-10-13T23:48:47.957767Z",
     "shell.execute_reply": "2021-10-13T23:48:47.958332Z",
     "shell.execute_reply.started": "2021-10-13T23:41:45.338119Z"
    },
    "papermill": {
     "duration": 0.025979,
     "end_time": "2021-10-13T23:48:47.958538",
     "exception": false,
     "start_time": "2021-10-13T23:48:47.932559",
     "status": "completed"
    },
    "tags": []
   },
   "outputs": [
    {
     "data": {
      "text/plain": [
       "10.0"
      ]
     },
     "execution_count": 9,
     "metadata": {},
     "output_type": "execute_result"
    }
   ],
   "source": [
    "round_to_two_places(9.9999)"
   ]
  },
  {
   "cell_type": "code",
   "execution_count": 10,
   "id": "bce67a69",
   "metadata": {
    "execution": {
     "iopub.execute_input": "2021-10-13T23:48:48.006461Z",
     "iopub.status.busy": "2021-10-13T23:48:48.005437Z",
     "iopub.status.idle": "2021-10-13T23:48:48.008842Z",
     "shell.execute_reply": "2021-10-13T23:48:48.009588Z",
     "shell.execute_reply.started": "2021-10-13T23:44:22.198086Z"
    },
    "papermill": {
     "duration": 0.033447,
     "end_time": "2021-10-13T23:48:48.009811",
     "exception": false,
     "start_time": "2021-10-13T23:48:47.976364",
     "status": "completed"
    },
    "tags": []
   },
   "outputs": [
    {
     "name": "stdout",
     "output_type": "stream",
     "text": [
      "5\n"
     ]
    }
   ],
   "source": [
    "x = -10\n",
    "y = 5\n",
    "# # Which of the two variables above has the smallest absolute value?\n",
    "smallest_abs = min(abs(x), abs(y))\n",
    "print(smallest_abs)"
   ]
  },
  {
   "cell_type": "code",
   "execution_count": 11,
   "id": "a5254f64",
   "metadata": {
    "execution": {
     "iopub.execute_input": "2021-10-13T23:48:48.063326Z",
     "iopub.status.busy": "2021-10-13T23:48:48.062378Z",
     "iopub.status.idle": "2021-10-13T23:48:48.069341Z",
     "shell.execute_reply": "2021-10-13T23:48:48.068833Z",
     "shell.execute_reply.started": "2021-10-13T23:45:40.162929Z"
    },
    "papermill": {
     "duration": 0.037423,
     "end_time": "2021-10-13T23:48:48.069480",
     "exception": false,
     "start_time": "2021-10-13T23:48:48.032057",
     "status": "completed"
    },
    "tags": []
   },
   "outputs": [
    {
     "name": "stdout",
     "output_type": "stream",
     "text": [
      "5\n"
     ]
    }
   ],
   "source": [
    "def f(x):\n",
    "    y = abs(x)\n",
    "    return y\n",
    "\n",
    "print(f(5))"
   ]
  },
  {
   "cell_type": "markdown",
   "id": "03ca362c",
   "metadata": {
    "papermill": {
     "duration": 0.022988,
     "end_time": "2021-10-13T23:48:48.114362",
     "exception": false,
     "start_time": "2021-10-13T23:48:48.091374",
     "status": "completed"
    },
    "tags": []
   },
   "source": [
    "# Keep Going\n",
    "\n",
    "Nice job with the code. Next up, you'll learn about *conditionals*, which you'll need to **[write interesting programs](https://www.kaggle.com/colinmorris/booleans-and-conditionals)**. "
   ]
  }
 ],
 "metadata": {
  "kernelspec": {
   "display_name": "Python 3",
   "language": "python",
   "name": "python3"
  },
  "language_info": {
   "codemirror_mode": {
    "name": "ipython",
    "version": 3
   },
   "file_extension": ".py",
   "mimetype": "text/x-python",
   "name": "python",
   "nbconvert_exporter": "python",
   "pygments_lexer": "ipython3",
   "version": "3.7.10"
  },
  "papermill": {
   "default_parameters": {},
   "duration": 10.827705,
   "end_time": "2021-10-13T23:48:49.829802",
   "environment_variables": {},
   "exception": null,
   "input_path": "__notebook__.ipynb",
   "output_path": "__notebook__.ipynb",
   "parameters": {},
   "start_time": "2021-10-13T23:48:39.002097",
   "version": "2.3.3"
  }
 },
 "nbformat": 4,
 "nbformat_minor": 5
}
