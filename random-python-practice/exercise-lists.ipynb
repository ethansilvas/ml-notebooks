{
 "cells": [
  {
   "cell_type": "markdown",
   "id": "00a45cdf",
   "metadata": {
    "papermill": {
     "duration": 0.018004,
     "end_time": "2021-10-15T23:41:47.775777",
     "exception": false,
     "start_time": "2021-10-15T23:41:47.757773",
     "status": "completed"
    },
    "tags": []
   },
   "source": [
    "**This notebook is an exercise in the [Python](https://www.kaggle.com/learn/python) course.  You can reference the tutorial at [this link](https://www.kaggle.com/colinmorris/lists).**\n",
    "\n",
    "---\n"
   ]
  },
  {
   "cell_type": "markdown",
   "id": "5edc565e",
   "metadata": {
    "papermill": {
     "duration": 0.01358,
     "end_time": "2021-10-15T23:41:47.803930",
     "exception": false,
     "start_time": "2021-10-15T23:41:47.790350",
     "status": "completed"
    },
    "tags": []
   },
   "source": [
    "Things get more interesting with lists. You'll apply your new knowledge to solve the questions below. Remember to run the following cell first."
   ]
  },
  {
   "cell_type": "code",
   "execution_count": 1,
   "id": "e3b5d5b4",
   "metadata": {
    "execution": {
     "iopub.execute_input": "2021-10-15T23:41:47.841723Z",
     "iopub.status.busy": "2021-10-15T23:41:47.841045Z",
     "iopub.status.idle": "2021-10-15T23:41:47.878688Z",
     "shell.execute_reply": "2021-10-15T23:41:47.879186Z",
     "shell.execute_reply.started": "2021-10-15T23:23:55.565052Z"
    },
    "papermill": {
     "duration": 0.062014,
     "end_time": "2021-10-15T23:41:47.879477",
     "exception": false,
     "start_time": "2021-10-15T23:41:47.817463",
     "status": "completed"
    },
    "tags": []
   },
   "outputs": [
    {
     "name": "stdout",
     "output_type": "stream",
     "text": [
      "Setup complete.\n"
     ]
    }
   ],
   "source": [
    "from learntools.core import binder; binder.bind(globals())\n",
    "from learntools.python.ex4 import *\n",
    "print('Setup complete.')"
   ]
  },
  {
   "cell_type": "markdown",
   "id": "10a9f02e",
   "metadata": {
    "papermill": {
     "duration": 0.013412,
     "end_time": "2021-10-15T23:41:47.907097",
     "exception": false,
     "start_time": "2021-10-15T23:41:47.893685",
     "status": "completed"
    },
    "tags": []
   },
   "source": [
    "# 1.\n",
    "\n",
    "Complete the function below according to its docstring."
   ]
  },
  {
   "cell_type": "code",
   "execution_count": 2,
   "id": "c30c7129",
   "metadata": {
    "execution": {
     "iopub.execute_input": "2021-10-15T23:41:47.949973Z",
     "iopub.status.busy": "2021-10-15T23:41:47.948933Z",
     "iopub.status.idle": "2021-10-15T23:41:47.957056Z",
     "shell.execute_reply": "2021-10-15T23:41:47.956467Z",
     "shell.execute_reply.started": "2021-10-15T23:24:40.896980Z"
    },
    "papermill": {
     "duration": 0.036366,
     "end_time": "2021-10-15T23:41:47.957209",
     "exception": false,
     "start_time": "2021-10-15T23:41:47.920843",
     "status": "completed"
    },
    "tags": []
   },
   "outputs": [
    {
     "data": {
      "application/javascript": [
       "parent.postMessage({\"jupyterEvent\": \"custom.exercise_interaction\", \"data\": {\"outcomeType\": 1, \"valueTowardsCompletion\": 0.2, \"interactionType\": 1, \"questionType\": 2, \"questionId\": \"1_SelectSecondItem\", \"learnToolsVersion\": \"0.3.4\", \"failureMessage\": \"\", \"exceptionClass\": \"\", \"trace\": \"\"}}, \"*\")"
      ],
      "text/plain": [
       "<IPython.core.display.Javascript object>"
      ]
     },
     "metadata": {},
     "output_type": "display_data"
    },
    {
     "data": {
      "text/markdown": [
       "<span style=\"color:#33cc33\">Correct</span>"
      ],
      "text/plain": [
       "Correct"
      ]
     },
     "metadata": {},
     "output_type": "display_data"
    }
   ],
   "source": [
    "def select_second(L):\n",
    "    \"\"\"Return the second element of the given list. If the list has no second\n",
    "    element, return None.\n",
    "    \"\"\"\n",
    "    if len(L) >= 2: \n",
    "        return L[1]\n",
    "    \n",
    "    return None\n",
    "\n",
    "# Check your answer\n",
    "q1.check()"
   ]
  },
  {
   "cell_type": "code",
   "execution_count": 3,
   "id": "b72fd2dd",
   "metadata": {
    "collapsed": true,
    "execution": {
     "iopub.execute_input": "2021-10-15T23:41:48.000317Z",
     "iopub.status.busy": "2021-10-15T23:41:47.999424Z",
     "iopub.status.idle": "2021-10-15T23:41:48.002707Z",
     "shell.execute_reply": "2021-10-15T23:41:48.001958Z"
    },
    "jupyter": {
     "outputs_hidden": true
    },
    "papermill": {
     "duration": 0.028635,
     "end_time": "2021-10-15T23:41:48.002919",
     "exception": false,
     "start_time": "2021-10-15T23:41:47.974284",
     "status": "completed"
    },
    "tags": []
   },
   "outputs": [],
   "source": [
    "#q1.hint()\n",
    "#q1.solution()"
   ]
  },
  {
   "cell_type": "markdown",
   "id": "0178824e",
   "metadata": {
    "papermill": {
     "duration": 0.019573,
     "end_time": "2021-10-15T23:41:48.039353",
     "exception": false,
     "start_time": "2021-10-15T23:41:48.019780",
     "status": "completed"
    },
    "tags": []
   },
   "source": [
    "# 2.\n",
    "\n",
    "You are analyzing sports teams.  Members of each team are stored in a list. The Coach is the first name in the list, the captain is the second name in the list, and other players are listed after that. \n",
    "These lists are stored in another list, which starts with the best team and proceeds through the list to the worst team last.  Complete the function below to select the **captain** of the worst team."
   ]
  },
  {
   "cell_type": "code",
   "execution_count": 4,
   "id": "41652694",
   "metadata": {
    "execution": {
     "iopub.execute_input": "2021-10-15T23:41:48.074190Z",
     "iopub.status.busy": "2021-10-15T23:41:48.073101Z",
     "iopub.status.idle": "2021-10-15T23:41:48.082392Z",
     "shell.execute_reply": "2021-10-15T23:41:48.081580Z",
     "shell.execute_reply.started": "2021-10-15T23:26:18.822336Z"
    },
    "papermill": {
     "duration": 0.028108,
     "end_time": "2021-10-15T23:41:48.082697",
     "exception": false,
     "start_time": "2021-10-15T23:41:48.054589",
     "status": "completed"
    },
    "tags": []
   },
   "outputs": [
    {
     "data": {
      "application/javascript": [
       "parent.postMessage({\"jupyterEvent\": \"custom.exercise_interaction\", \"data\": {\"outcomeType\": 1, \"valueTowardsCompletion\": 0.2, \"interactionType\": 1, \"questionType\": 2, \"questionId\": \"2_LosingTeamCaptain\", \"learnToolsVersion\": \"0.3.4\", \"failureMessage\": \"\", \"exceptionClass\": \"\", \"trace\": \"\"}}, \"*\")"
      ],
      "text/plain": [
       "<IPython.core.display.Javascript object>"
      ]
     },
     "metadata": {},
     "output_type": "display_data"
    },
    {
     "data": {
      "text/markdown": [
       "<span style=\"color:#33cc33\">Correct</span>"
      ],
      "text/plain": [
       "Correct"
      ]
     },
     "metadata": {},
     "output_type": "display_data"
    }
   ],
   "source": [
    "def losing_team_captain(teams):\n",
    "    \"\"\"Given a list of teams, where each team is a list of names, return the 2nd player (captain)\n",
    "    from the last listed team\n",
    "    \"\"\"\n",
    "    return teams[-1][1]\n",
    "\n",
    "# Check your answer\n",
    "q2.check()"
   ]
  },
  {
   "cell_type": "code",
   "execution_count": 5,
   "id": "2c4c36a9",
   "metadata": {
    "collapsed": true,
    "execution": {
     "iopub.execute_input": "2021-10-15T23:41:48.119826Z",
     "iopub.status.busy": "2021-10-15T23:41:48.119188Z",
     "iopub.status.idle": "2021-10-15T23:41:48.121731Z",
     "shell.execute_reply": "2021-10-15T23:41:48.122232Z"
    },
    "jupyter": {
     "outputs_hidden": true
    },
    "papermill": {
     "duration": 0.022231,
     "end_time": "2021-10-15T23:41:48.122414",
     "exception": false,
     "start_time": "2021-10-15T23:41:48.100183",
     "status": "completed"
    },
    "tags": []
   },
   "outputs": [],
   "source": [
    "#q2.hint()\n",
    "#q2.solution()"
   ]
  },
  {
   "cell_type": "markdown",
   "id": "e4a516a1",
   "metadata": {
    "papermill": {
     "duration": 0.016224,
     "end_time": "2021-10-15T23:41:48.155214",
     "exception": false,
     "start_time": "2021-10-15T23:41:48.138990",
     "status": "completed"
    },
    "tags": []
   },
   "source": [
    "# 3.\n",
    "\n",
    "The next iteration of Mario Kart will feature an extra-infuriating new item, the *Purple Shell*. When used, it warps the last place racer into first place and the first place racer into last place. Complete the function below to implement the Purple Shell's effect."
   ]
  },
  {
   "cell_type": "code",
   "execution_count": 6,
   "id": "cad94ce4",
   "metadata": {
    "execution": {
     "iopub.execute_input": "2021-10-15T23:41:48.192266Z",
     "iopub.status.busy": "2021-10-15T23:41:48.191622Z",
     "iopub.status.idle": "2021-10-15T23:41:48.199100Z",
     "shell.execute_reply": "2021-10-15T23:41:48.199676Z",
     "shell.execute_reply.started": "2021-10-15T23:27:39.012648Z"
    },
    "papermill": {
     "duration": 0.027509,
     "end_time": "2021-10-15T23:41:48.199848",
     "exception": false,
     "start_time": "2021-10-15T23:41:48.172339",
     "status": "completed"
    },
    "tags": []
   },
   "outputs": [
    {
     "data": {
      "application/javascript": [
       "parent.postMessage({\"jupyterEvent\": \"custom.exercise_interaction\", \"data\": {\"outcomeType\": 1, \"valueTowardsCompletion\": 0.2, \"interactionType\": 1, \"questionType\": 2, \"questionId\": \"3_PurpleShell\", \"learnToolsVersion\": \"0.3.4\", \"failureMessage\": \"\", \"exceptionClass\": \"\", \"trace\": \"\"}}, \"*\")"
      ],
      "text/plain": [
       "<IPython.core.display.Javascript object>"
      ]
     },
     "metadata": {},
     "output_type": "display_data"
    },
    {
     "data": {
      "text/markdown": [
       "<span style=\"color:#33cc33\">Correct</span>"
      ],
      "text/plain": [
       "Correct"
      ]
     },
     "metadata": {},
     "output_type": "display_data"
    }
   ],
   "source": [
    "def purple_shell(racers):\n",
    "    \"\"\"Given a list of racers, set the first place racer (at the front of the list) to last\n",
    "    place and vice versa.\n",
    "    \n",
    "    >>> r = [\"Mario\", \"Bowser\", \"Luigi\"]\n",
    "    >>> purple_shell(r)\n",
    "    >>> r\n",
    "    [\"Luigi\", \"Bowser\", \"Mario\"]\n",
    "    \"\"\"\n",
    "    racers[0], racers[-1] = racers[-1], racers[0]\n",
    "\n",
    "# Check your answer\n",
    "q3.check()"
   ]
  },
  {
   "cell_type": "code",
   "execution_count": 7,
   "id": "d883481d",
   "metadata": {
    "collapsed": true,
    "execution": {
     "iopub.execute_input": "2021-10-15T23:41:48.239235Z",
     "iopub.status.busy": "2021-10-15T23:41:48.238236Z",
     "iopub.status.idle": "2021-10-15T23:41:48.241239Z",
     "shell.execute_reply": "2021-10-15T23:41:48.240605Z"
    },
    "jupyter": {
     "outputs_hidden": true
    },
    "papermill": {
     "duration": 0.024389,
     "end_time": "2021-10-15T23:41:48.241379",
     "exception": false,
     "start_time": "2021-10-15T23:41:48.216990",
     "status": "completed"
    },
    "tags": []
   },
   "outputs": [],
   "source": [
    "#q3.hint()\n",
    "#q3.solution()"
   ]
  },
  {
   "cell_type": "markdown",
   "id": "355143bb",
   "metadata": {
    "papermill": {
     "duration": 0.017956,
     "end_time": "2021-10-15T23:41:48.276942",
     "exception": false,
     "start_time": "2021-10-15T23:41:48.258986",
     "status": "completed"
    },
    "tags": []
   },
   "source": [
    "# 4.\n",
    "\n",
    "What are the lengths of the following lists? Fill in the variable `lengths` with your predictions. (Try to make a prediction for each list *without* just calling `len()` on it.)"
   ]
  },
  {
   "cell_type": "code",
   "execution_count": 8,
   "id": "4493fdd3",
   "metadata": {
    "execution": {
     "iopub.execute_input": "2021-10-15T23:41:48.318242Z",
     "iopub.status.busy": "2021-10-15T23:41:48.317228Z",
     "iopub.status.idle": "2021-10-15T23:41:48.322862Z",
     "shell.execute_reply": "2021-10-15T23:41:48.323412Z",
     "shell.execute_reply.started": "2021-10-15T23:29:12.976264Z"
    },
    "papermill": {
     "duration": 0.029233,
     "end_time": "2021-10-15T23:41:48.323596",
     "exception": false,
     "start_time": "2021-10-15T23:41:48.294363",
     "status": "completed"
    },
    "tags": []
   },
   "outputs": [
    {
     "data": {
      "application/javascript": [
       "parent.postMessage({\"jupyterEvent\": \"custom.exercise_interaction\", \"data\": {\"outcomeType\": 1, \"valueTowardsCompletion\": 0.2, \"interactionType\": 1, \"questionType\": 1, \"questionId\": \"4_UnderstandLen\", \"learnToolsVersion\": \"0.3.4\", \"failureMessage\": \"\", \"exceptionClass\": \"\", \"trace\": \"\"}}, \"*\")"
      ],
      "text/plain": [
       "<IPython.core.display.Javascript object>"
      ]
     },
     "metadata": {},
     "output_type": "display_data"
    },
    {
     "data": {
      "text/markdown": [
       "<span style=\"color:#33cc33\">Correct:</span> \n",
       "\n",
       "\n",
       "- a: There are three items in this list. Nothing tricky yet.\n",
       "- b: The list `[2, 3]` counts as a single item. It has one item before it. So we have 2 items in the list\n",
       "- c: The empty list has 0 items\n",
       "- d: The expression is the same as the list `[2, 3]`, which has length 2."
      ],
      "text/plain": [
       "Correct: \n",
       "\n",
       "\n",
       "- a: There are three items in this list. Nothing tricky yet.\n",
       "- b: The list `[2, 3]` counts as a single item. It has one item before it. So we have 2 items in the list\n",
       "- c: The empty list has 0 items\n",
       "- d: The expression is the same as the list `[2, 3]`, which has length 2."
      ]
     },
     "metadata": {},
     "output_type": "display_data"
    }
   ],
   "source": [
    "a = [1, 2, 3]\n",
    "b = [1, [2, 3]]\n",
    "c = []\n",
    "d = [1, 2, 3][1:]\n",
    "\n",
    "# Put your predictions in the list below. Lengths should contain 4 numbers, the\n",
    "# first being the length of a, the second being the length of b and so on.\n",
    "lengths = [3, 2, 0, 2]\n",
    "\n",
    "# Check your answer\n",
    "q4.check()"
   ]
  },
  {
   "cell_type": "code",
   "execution_count": 9,
   "id": "cba6eb8e",
   "metadata": {
    "collapsed": true,
    "execution": {
     "iopub.execute_input": "2021-10-15T23:41:48.363737Z",
     "iopub.status.busy": "2021-10-15T23:41:48.363095Z",
     "iopub.status.idle": "2021-10-15T23:41:48.365713Z",
     "shell.execute_reply": "2021-10-15T23:41:48.366235Z"
    },
    "jupyter": {
     "outputs_hidden": true
    },
    "papermill": {
     "duration": 0.024439,
     "end_time": "2021-10-15T23:41:48.366397",
     "exception": false,
     "start_time": "2021-10-15T23:41:48.341958",
     "status": "completed"
    },
    "tags": []
   },
   "outputs": [],
   "source": [
    "# line below provides some explanation\n",
    "#q4.solution()"
   ]
  },
  {
   "cell_type": "markdown",
   "id": "165c50b0",
   "metadata": {
    "papermill": {
     "duration": 0.018203,
     "end_time": "2021-10-15T23:41:48.403331",
     "exception": false,
     "start_time": "2021-10-15T23:41:48.385128",
     "status": "completed"
    },
    "tags": []
   },
   "source": [
    "# 5. <span title=\"A bit spicy\" style=\"color: darkgreen \">🌶️</span>\n",
    "\n",
    "We're using lists to record people who attended our party and what order they arrived in. For example, the following list represents a party with 7 guests, in which Adela showed up first and Ford was the last to arrive:\n",
    "\n",
    "    party_attendees = ['Adela', 'Fleda', 'Owen', 'May', 'Mona', 'Gilbert', 'Ford']\n",
    "\n",
    "A guest is considered 'fashionably late' if they arrived after at least half of the party's guests. However, they must not be the very last guest (that's taking it too far). In the above example, Mona and Gilbert are the only guests who were fashionably late.\n",
    "\n",
    "Complete the function below which takes a list of party attendees as well as a person, and tells us whether that person is fashionably late."
   ]
  },
  {
   "cell_type": "code",
   "execution_count": 10,
   "id": "7a400513",
   "metadata": {
    "execution": {
     "iopub.execute_input": "2021-10-15T23:41:48.443376Z",
     "iopub.status.busy": "2021-10-15T23:41:48.442704Z",
     "iopub.status.idle": "2021-10-15T23:41:48.449756Z",
     "shell.execute_reply": "2021-10-15T23:41:48.450342Z",
     "shell.execute_reply.started": "2021-10-15T23:40:31.166790Z"
    },
    "papermill": {
     "duration": 0.028727,
     "end_time": "2021-10-15T23:41:48.450506",
     "exception": false,
     "start_time": "2021-10-15T23:41:48.421779",
     "status": "completed"
    },
    "tags": []
   },
   "outputs": [
    {
     "data": {
      "application/javascript": [
       "parent.postMessage({\"jupyterEvent\": \"custom.exercise_interaction\", \"data\": {\"outcomeType\": 1, \"valueTowardsCompletion\": 0.2, \"interactionType\": 1, \"questionType\": 2, \"questionId\": \"5_FashionablyLate\", \"learnToolsVersion\": \"0.3.4\", \"failureMessage\": \"\", \"exceptionClass\": \"\", \"trace\": \"\"}}, \"*\")"
      ],
      "text/plain": [
       "<IPython.core.display.Javascript object>"
      ]
     },
     "metadata": {},
     "output_type": "display_data"
    },
    {
     "data": {
      "text/markdown": [
       "<span style=\"color:#33cc33\">Correct</span>"
      ],
      "text/plain": [
       "Correct"
      ]
     },
     "metadata": {},
     "output_type": "display_data"
    }
   ],
   "source": [
    "def fashionably_late(arrivals, name):\n",
    "    \"\"\"Given an ordered list of arrivals to the party and a name, return whether the guest with that\n",
    "    name was fashionably late.\n",
    "    \"\"\"\n",
    "    index_of_name = arrivals.index(name)\n",
    "    num_of_indices = len(arrivals) - 1\n",
    "    \n",
    "    return index_of_name > (num_of_indices / 2) and index_of_name < num_of_indices\n",
    "\n",
    "# Check your answer\n",
    "q5.check()"
   ]
  },
  {
   "cell_type": "code",
   "execution_count": 11,
   "id": "88205729",
   "metadata": {
    "execution": {
     "iopub.execute_input": "2021-10-15T23:41:48.493887Z",
     "iopub.status.busy": "2021-10-15T23:41:48.493229Z",
     "iopub.status.idle": "2021-10-15T23:41:48.495653Z",
     "shell.execute_reply": "2021-10-15T23:41:48.496106Z",
     "shell.execute_reply.started": "2021-10-15T23:41:08.751304Z"
    },
    "papermill": {
     "duration": 0.026251,
     "end_time": "2021-10-15T23:41:48.496277",
     "exception": false,
     "start_time": "2021-10-15T23:41:48.470026",
     "status": "completed"
    },
    "tags": []
   },
   "outputs": [],
   "source": [
    "#q5.hint()\n",
    "#q5.solution()"
   ]
  },
  {
   "cell_type": "markdown",
   "id": "af5ecfec",
   "metadata": {
    "papermill": {
     "duration": 0.018841,
     "end_time": "2021-10-15T23:41:48.534648",
     "exception": false,
     "start_time": "2021-10-15T23:41:48.515807",
     "status": "completed"
    },
    "tags": []
   },
   "source": [
    "# Keep Going\n",
    "\n",
    "That's it for lists and tuples! Now you have the baseline knowledge to **[learn about loops](https://www.kaggle.com/colinmorris/loops-and-list-comprehensions)**, which is where lists and tuples get really interesting. "
   ]
  }
 ],
 "metadata": {
  "kernelspec": {
   "display_name": "Python 3",
   "language": "python",
   "name": "python3"
  },
  "language_info": {
   "codemirror_mode": {
    "name": "ipython",
    "version": 3
   },
   "file_extension": ".py",
   "mimetype": "text/x-python",
   "name": "python",
   "nbconvert_exporter": "python",
   "pygments_lexer": "ipython3",
   "version": "3.7.10"
  },
  "papermill": {
   "default_parameters": {},
   "duration": 10.472319,
   "end_time": "2021-10-15T23:41:49.164414",
   "environment_variables": {},
   "exception": null,
   "input_path": "__notebook__.ipynb",
   "output_path": "__notebook__.ipynb",
   "parameters": {},
   "start_time": "2021-10-15T23:41:38.692095",
   "version": "2.3.3"
  }
 },
 "nbformat": 4,
 "nbformat_minor": 5
}
