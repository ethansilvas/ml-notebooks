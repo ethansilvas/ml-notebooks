{
 "cells": [
  {
   "cell_type": "markdown",
   "id": "f779c7c0",
   "metadata": {
    "papermill": {
     "duration": 0.02096,
     "end_time": "2021-10-17T00:15:19.947863",
     "exception": false,
     "start_time": "2021-10-17T00:15:19.926903",
     "status": "completed"
    },
    "tags": []
   },
   "source": [
    "**This notebook is an exercise in the [Python](https://www.kaggle.com/learn/python) course.  You can reference the tutorial at [this link](https://www.kaggle.com/colinmorris/strings-and-dictionaries).**\n",
    "\n",
    "---\n"
   ]
  },
  {
   "cell_type": "markdown",
   "id": "c4fbd88d",
   "metadata": {
    "papermill": {
     "duration": 0.016619,
     "end_time": "2021-10-17T00:15:19.981813",
     "exception": false,
     "start_time": "2021-10-17T00:15:19.965194",
     "status": "completed"
    },
    "tags": []
   },
   "source": [
    "You are almost done with the course. Nice job!\n",
    "\n",
    "We have a couple more interesting problems for you before you go. \n",
    "\n",
    "As always, run the setup code below before working on the questions."
   ]
  },
  {
   "cell_type": "code",
   "execution_count": 1,
   "id": "aa54d029",
   "metadata": {
    "execution": {
     "iopub.execute_input": "2021-10-17T00:15:20.027147Z",
     "iopub.status.busy": "2021-10-17T00:15:20.026060Z",
     "iopub.status.idle": "2021-10-17T00:15:20.086459Z",
     "shell.execute_reply": "2021-10-17T00:15:20.085704Z",
     "shell.execute_reply.started": "2021-10-17T00:12:18.478335Z"
    },
    "papermill": {
     "duration": 0.087182,
     "end_time": "2021-10-17T00:15:20.086643",
     "exception": false,
     "start_time": "2021-10-17T00:15:19.999461",
     "status": "completed"
    },
    "tags": []
   },
   "outputs": [
    {
     "name": "stdout",
     "output_type": "stream",
     "text": [
      "Setup complete.\n"
     ]
    }
   ],
   "source": [
    "from learntools.core import binder; binder.bind(globals())\n",
    "from learntools.python.ex6 import *\n",
    "print('Setup complete.')"
   ]
  },
  {
   "cell_type": "markdown",
   "id": "29b68ba3",
   "metadata": {
    "papermill": {
     "duration": 0.020832,
     "end_time": "2021-10-17T00:15:20.127324",
     "exception": false,
     "start_time": "2021-10-17T00:15:20.106492",
     "status": "completed"
    },
    "tags": []
   },
   "source": [
    "Let's start with a string lightning round to warm up. What are the lengths of the strings below?\n",
    "\n",
    "For each of the five strings below, predict what `len()` would return when passed that string. Use the variable `length` to record your answer, then run the cell to check whether you were right.  \n",
    "\n",
    "# 0a."
   ]
  },
  {
   "cell_type": "code",
   "execution_count": 2,
   "id": "10b4be1a",
   "metadata": {
    "execution": {
     "iopub.execute_input": "2021-10-17T00:15:20.171140Z",
     "iopub.status.busy": "2021-10-17T00:15:20.167741Z",
     "iopub.status.idle": "2021-10-17T00:15:20.176566Z",
     "shell.execute_reply": "2021-10-17T00:15:20.175746Z",
     "shell.execute_reply.started": "2021-10-17T00:12:18.536875Z"
    },
    "papermill": {
     "duration": 0.031638,
     "end_time": "2021-10-17T00:15:20.176727",
     "exception": false,
     "start_time": "2021-10-17T00:15:20.145089",
     "status": "completed"
    },
    "tags": []
   },
   "outputs": [
    {
     "data": {
      "application/javascript": [
       "parent.postMessage({\"jupyterEvent\": \"custom.exercise_interaction\", \"data\": {\"outcomeType\": 1, \"valueTowardsCompletion\": 0.3333333333333333, \"interactionType\": 1, \"questionType\": 1, \"questionId\": \"0.1_ZA\", \"learnToolsVersion\": \"0.3.4\", \"failureMessage\": \"\", \"exceptionClass\": \"\", \"trace\": \"\"}}, \"*\")"
      ],
      "text/plain": [
       "<IPython.core.display.Javascript object>"
      ]
     },
     "metadata": {},
     "output_type": "display_data"
    },
    {
     "data": {
      "text/markdown": [
       "<span style=\"color:#33cc33\">Correct:</span> \n",
       "\n",
       "The empty string has length zero. Note that the empty string is also the only string that Python considers as False when converting to boolean."
      ],
      "text/plain": [
       "Correct: \n",
       "\n",
       "The empty string has length zero. Note that the empty string is also the only string that Python considers as False when converting to boolean."
      ]
     },
     "metadata": {},
     "output_type": "display_data"
    }
   ],
   "source": [
    "a = \"\"\n",
    "length = 0\n",
    "q0.a.check()"
   ]
  },
  {
   "cell_type": "markdown",
   "id": "4fbc7ad7",
   "metadata": {
    "papermill": {
     "duration": 0.018897,
     "end_time": "2021-10-17T00:15:20.215175",
     "exception": false,
     "start_time": "2021-10-17T00:15:20.196278",
     "status": "completed"
    },
    "tags": []
   },
   "source": [
    "# 0b."
   ]
  },
  {
   "cell_type": "code",
   "execution_count": 3,
   "id": "61c129d0",
   "metadata": {
    "execution": {
     "iopub.execute_input": "2021-10-17T00:15:20.256076Z",
     "iopub.status.busy": "2021-10-17T00:15:20.255400Z",
     "iopub.status.idle": "2021-10-17T00:15:20.262432Z",
     "shell.execute_reply": "2021-10-17T00:15:20.261850Z",
     "shell.execute_reply.started": "2021-10-17T00:12:18.550362Z"
    },
    "papermill": {
     "duration": 0.028741,
     "end_time": "2021-10-17T00:15:20.262585",
     "exception": false,
     "start_time": "2021-10-17T00:15:20.233844",
     "status": "completed"
    },
    "tags": []
   },
   "outputs": [
    {
     "data": {
      "application/javascript": [
       "parent.postMessage({\"jupyterEvent\": \"custom.exercise_interaction\", \"data\": {\"outcomeType\": 1, \"valueTowardsCompletion\": 0.3333333333333333, \"interactionType\": 1, \"questionType\": 1, \"questionId\": \"0.2_ZB\", \"learnToolsVersion\": \"0.3.4\", \"failureMessage\": \"\", \"exceptionClass\": \"\", \"trace\": \"\"}}, \"*\")"
      ],
      "text/plain": [
       "<IPython.core.display.Javascript object>"
      ]
     },
     "metadata": {},
     "output_type": "display_data"
    },
    {
     "data": {
      "text/markdown": [
       "<span style=\"color:#33cc33\">Correct:</span> \n",
       "\n",
       "Keep in mind Python includes spaces (and punctuation) when counting string length."
      ],
      "text/plain": [
       "Correct: \n",
       "\n",
       "Keep in mind Python includes spaces (and punctuation) when counting string length."
      ]
     },
     "metadata": {},
     "output_type": "display_data"
    }
   ],
   "source": [
    "b = \"it's ok\"\n",
    "length = 7\n",
    "q0.b.check()"
   ]
  },
  {
   "cell_type": "markdown",
   "id": "60a048f4",
   "metadata": {
    "papermill": {
     "duration": 0.019392,
     "end_time": "2021-10-17T00:15:20.301798",
     "exception": false,
     "start_time": "2021-10-17T00:15:20.282406",
     "status": "completed"
    },
    "tags": []
   },
   "source": [
    "# 0c."
   ]
  },
  {
   "cell_type": "code",
   "execution_count": 4,
   "id": "35b78f02",
   "metadata": {
    "execution": {
     "iopub.execute_input": "2021-10-17T00:15:20.345134Z",
     "iopub.status.busy": "2021-10-17T00:15:20.344442Z",
     "iopub.status.idle": "2021-10-17T00:15:20.351496Z",
     "shell.execute_reply": "2021-10-17T00:15:20.350838Z",
     "shell.execute_reply.started": "2021-10-17T00:12:18.564557Z"
    },
    "papermill": {
     "duration": 0.029923,
     "end_time": "2021-10-17T00:15:20.351656",
     "exception": false,
     "start_time": "2021-10-17T00:15:20.321733",
     "status": "completed"
    },
    "tags": []
   },
   "outputs": [
    {
     "data": {
      "application/javascript": [
       "parent.postMessage({\"jupyterEvent\": \"custom.exercise_interaction\", \"data\": {\"outcomeType\": 1, \"valueTowardsCompletion\": 0.3333333333333333, \"interactionType\": 1, \"questionType\": 1, \"questionId\": \"0.3_ZC\", \"learnToolsVersion\": \"0.3.4\", \"failureMessage\": \"\", \"exceptionClass\": \"\", \"trace\": \"\"}}, \"*\")"
      ],
      "text/plain": [
       "<IPython.core.display.Javascript object>"
      ]
     },
     "metadata": {},
     "output_type": "display_data"
    },
    {
     "data": {
      "text/markdown": [
       "<span style=\"color:#33cc33\">Correct:</span> \n",
       "\n",
       "Even though we use different syntax to create it, the string `c` is identical to `b`. In particular, note that the backslash is not part of the string, so it doesn't contribute to its length."
      ],
      "text/plain": [
       "Correct: \n",
       "\n",
       "Even though we use different syntax to create it, the string `c` is identical to `b`. In particular, note that the backslash is not part of the string, so it doesn't contribute to its length."
      ]
     },
     "metadata": {},
     "output_type": "display_data"
    }
   ],
   "source": [
    "c = 'it\\'s ok'\n",
    "length = 7\n",
    "q0.c.check()"
   ]
  },
  {
   "cell_type": "markdown",
   "id": "a0f13783",
   "metadata": {
    "papermill": {
     "duration": 0.020967,
     "end_time": "2021-10-17T00:15:20.393810",
     "exception": false,
     "start_time": "2021-10-17T00:15:20.372843",
     "status": "completed"
    },
    "tags": []
   },
   "source": [
    "# 0d."
   ]
  },
  {
   "cell_type": "code",
   "execution_count": 5,
   "id": "36b04af7",
   "metadata": {
    "execution": {
     "iopub.execute_input": "2021-10-17T00:15:20.439774Z",
     "iopub.status.busy": "2021-10-17T00:15:20.439066Z",
     "iopub.status.idle": "2021-10-17T00:15:20.446213Z",
     "shell.execute_reply": "2021-10-17T00:15:20.446862Z",
     "shell.execute_reply.started": "2021-10-17T00:12:18.574948Z"
    },
    "papermill": {
     "duration": 0.032142,
     "end_time": "2021-10-17T00:15:20.447046",
     "exception": false,
     "start_time": "2021-10-17T00:15:20.414904",
     "status": "completed"
    },
    "tags": []
   },
   "outputs": [
    {
     "data": {
      "application/javascript": [
       "parent.postMessage({\"jupyterEvent\": \"custom.exercise_interaction\", \"data\": {\"outcomeType\": 1, \"valueTowardsCompletion\": 0.3333333333333333, \"interactionType\": 1, \"questionType\": 1, \"questionId\": \"0.4_ZD\", \"learnToolsVersion\": \"0.3.4\", \"failureMessage\": \"\", \"exceptionClass\": \"\", \"trace\": \"\"}}, \"*\")"
      ],
      "text/plain": [
       "<IPython.core.display.Javascript object>"
      ]
     },
     "metadata": {},
     "output_type": "display_data"
    },
    {
     "data": {
      "text/markdown": [
       "<span style=\"color:#33cc33\">Correct:</span> \n",
       "\n",
       "The fact that this string was created using triple-quote syntax doesn't make any difference in terms of its content or length. This string is exactly the same as `'hey'`."
      ],
      "text/plain": [
       "Correct: \n",
       "\n",
       "The fact that this string was created using triple-quote syntax doesn't make any difference in terms of its content or length. This string is exactly the same as `'hey'`."
      ]
     },
     "metadata": {},
     "output_type": "display_data"
    }
   ],
   "source": [
    "d = \"\"\"hey\"\"\"\n",
    "length = 3\n",
    "q0.d.check()"
   ]
  },
  {
   "cell_type": "markdown",
   "id": "7181333f",
   "metadata": {
    "papermill": {
     "duration": 0.022005,
     "end_time": "2021-10-17T00:15:20.491390",
     "exception": false,
     "start_time": "2021-10-17T00:15:20.469385",
     "status": "completed"
    },
    "tags": []
   },
   "source": [
    "# 0e."
   ]
  },
  {
   "cell_type": "code",
   "execution_count": 6,
   "id": "8c5ec39e",
   "metadata": {
    "execution": {
     "iopub.execute_input": "2021-10-17T00:15:20.539511Z",
     "iopub.status.busy": "2021-10-17T00:15:20.538788Z",
     "iopub.status.idle": "2021-10-17T00:15:20.545197Z",
     "shell.execute_reply": "2021-10-17T00:15:20.545811Z",
     "shell.execute_reply.started": "2021-10-17T00:12:18.588978Z"
    },
    "papermill": {
     "duration": 0.032369,
     "end_time": "2021-10-17T00:15:20.545986",
     "exception": false,
     "start_time": "2021-10-17T00:15:20.513617",
     "status": "completed"
    },
    "tags": []
   },
   "outputs": [
    {
     "data": {
      "application/javascript": [
       "parent.postMessage({\"jupyterEvent\": \"custom.exercise_interaction\", \"data\": {\"outcomeType\": 1, \"valueTowardsCompletion\": 0.3333333333333333, \"interactionType\": 1, \"questionType\": 1, \"questionId\": \"0.5_ZE\", \"learnToolsVersion\": \"0.3.4\", \"failureMessage\": \"\", \"exceptionClass\": \"\", \"trace\": \"\"}}, \"*\")"
      ],
      "text/plain": [
       "<IPython.core.display.Javascript object>"
      ]
     },
     "metadata": {},
     "output_type": "display_data"
    },
    {
     "data": {
      "text/markdown": [
       "<span style=\"color:#33cc33\">Correct:</span> \n",
       "\n",
       "The newline character is just a single character! (Even though we represent it to Python using a combination of two characters.)"
      ],
      "text/plain": [
       "Correct: \n",
       "\n",
       "The newline character is just a single character! (Even though we represent it to Python using a combination of two characters.)"
      ]
     },
     "metadata": {},
     "output_type": "display_data"
    }
   ],
   "source": [
    "e = '\\n'\n",
    "length = 1\n",
    "q0.e.check()"
   ]
  },
  {
   "cell_type": "markdown",
   "id": "9d77b1ba",
   "metadata": {
    "papermill": {
     "duration": 0.022394,
     "end_time": "2021-10-17T00:15:20.591165",
     "exception": false,
     "start_time": "2021-10-17T00:15:20.568771",
     "status": "completed"
    },
    "tags": []
   },
   "source": [
    "# 1.\n",
    "\n",
    "There is a saying that \"Data scientists spend 80% of their time cleaning data, and 20% of their time complaining about cleaning data.\" Let's see if you can write a function to help clean US zip code data. Given a string, it should return whether or not that string represents a valid zip code. For our purposes, a valid zip code is any string consisting of exactly 5 digits.\n",
    "\n",
    "HINT: `str` has a method that will be useful here. Use `help(str)` to review a list of string methods."
   ]
  },
  {
   "cell_type": "code",
   "execution_count": 7,
   "id": "a8c9408e",
   "metadata": {
    "execution": {
     "iopub.execute_input": "2021-10-17T00:15:20.643336Z",
     "iopub.status.busy": "2021-10-17T00:15:20.642279Z",
     "iopub.status.idle": "2021-10-17T00:15:20.649054Z",
     "shell.execute_reply": "2021-10-17T00:15:20.649594Z",
     "shell.execute_reply.started": "2021-10-17T00:12:18.604349Z"
    },
    "papermill": {
     "duration": 0.035575,
     "end_time": "2021-10-17T00:15:20.649780",
     "exception": false,
     "start_time": "2021-10-17T00:15:20.614205",
     "status": "completed"
    },
    "tags": []
   },
   "outputs": [
    {
     "data": {
      "application/javascript": [
       "parent.postMessage({\"jupyterEvent\": \"custom.exercise_interaction\", \"data\": {\"outcomeType\": 1, \"valueTowardsCompletion\": 0.3333333333333333, \"interactionType\": 1, \"questionType\": 2, \"questionId\": \"1_ZipValidator\", \"learnToolsVersion\": \"0.3.4\", \"failureMessage\": \"\", \"exceptionClass\": \"\", \"trace\": \"\"}}, \"*\")"
      ],
      "text/plain": [
       "<IPython.core.display.Javascript object>"
      ]
     },
     "metadata": {},
     "output_type": "display_data"
    },
    {
     "data": {
      "text/markdown": [
       "<span style=\"color:#33cc33\">Correct</span>"
      ],
      "text/plain": [
       "Correct"
      ]
     },
     "metadata": {},
     "output_type": "display_data"
    }
   ],
   "source": [
    "def is_valid_zip(zip_code):\n",
    "    \"\"\"Returns whether the input string is a valid (5 digit) zip code\n",
    "    \"\"\"\n",
    "    return zip_code.isdigit() and len(zip_code) == 5\n",
    "\n",
    "# Check your answer\n",
    "q1.check()"
   ]
  },
  {
   "cell_type": "code",
   "execution_count": 8,
   "id": "3c6b5c95",
   "metadata": {
    "execution": {
     "iopub.execute_input": "2021-10-17T00:15:20.703164Z",
     "iopub.status.busy": "2021-10-17T00:15:20.702106Z",
     "iopub.status.idle": "2021-10-17T00:15:20.705195Z",
     "shell.execute_reply": "2021-10-17T00:15:20.704619Z",
     "shell.execute_reply.started": "2021-10-17T00:12:18.615161Z"
    },
    "papermill": {
     "duration": 0.031455,
     "end_time": "2021-10-17T00:15:20.705379",
     "exception": false,
     "start_time": "2021-10-17T00:15:20.673924",
     "status": "completed"
    },
    "tags": []
   },
   "outputs": [],
   "source": [
    "#q1.hint()\n",
    "#q1.solution()"
   ]
  },
  {
   "cell_type": "markdown",
   "id": "ba49be03",
   "metadata": {
    "papermill": {
     "duration": 0.023792,
     "end_time": "2021-10-17T00:15:20.753814",
     "exception": false,
     "start_time": "2021-10-17T00:15:20.730022",
     "status": "completed"
    },
    "tags": []
   },
   "source": [
    "# 2.\n",
    "\n",
    "A researcher has gathered thousands of news articles. But she wants to focus her attention on articles including a specific word. Complete the function below to help her filter her list of articles.\n",
    "\n",
    "Your function should meet the following criteria:\n",
    "\n",
    "- Do not include documents where the keyword string shows up only as a part of a larger word. For example, if she were looking for the keyword “closed”, you would not include the string “enclosed.” \n",
    "- She does not want you to distinguish upper case from lower case letters. So the phrase “Closed the case.” would be included when the keyword is “closed”\n",
    "- Do not let periods or commas affect what is matched. “It is closed.” would be included when the keyword is “closed”. But you can assume there are no other types of punctuation."
   ]
  },
  {
   "cell_type": "code",
   "execution_count": 9,
   "id": "34c36f89",
   "metadata": {
    "execution": {
     "iopub.execute_input": "2021-10-17T00:15:20.806378Z",
     "iopub.status.busy": "2021-10-17T00:15:20.805638Z",
     "iopub.status.idle": "2021-10-17T00:15:20.816818Z",
     "shell.execute_reply": "2021-10-17T00:15:20.817411Z",
     "shell.execute_reply.started": "2021-10-17T00:12:18.622828Z"
    },
    "papermill": {
     "duration": 0.039358,
     "end_time": "2021-10-17T00:15:20.817599",
     "exception": false,
     "start_time": "2021-10-17T00:15:20.778241",
     "status": "completed"
    },
    "tags": []
   },
   "outputs": [
    {
     "data": {
      "application/javascript": [
       "parent.postMessage({\"jupyterEvent\": \"custom.exercise_interaction\", \"data\": {\"outcomeType\": 1, \"valueTowardsCompletion\": 0.3333333333333333, \"interactionType\": 1, \"questionType\": 2, \"questionId\": \"2_WordSearch\", \"learnToolsVersion\": \"0.3.4\", \"failureMessage\": \"\", \"exceptionClass\": \"\", \"trace\": \"\"}}, \"*\")"
      ],
      "text/plain": [
       "<IPython.core.display.Javascript object>"
      ]
     },
     "metadata": {},
     "output_type": "display_data"
    },
    {
     "data": {
      "text/markdown": [
       "<span style=\"color:#33cc33\">Correct</span>"
      ],
      "text/plain": [
       "Correct"
      ]
     },
     "metadata": {},
     "output_type": "display_data"
    }
   ],
   "source": [
    "def word_search(doc_list, keyword):\n",
    "    \"\"\"\n",
    "    Takes a list of documents (each document is a string) and a keyword. \n",
    "    Returns list of the index values into the original list for all documents \n",
    "    containing the keyword.\n",
    "\n",
    "    Example:\n",
    "    doc_list = [\"The Learn Python Challenge Casino.\", \"They bought a car\", \"Casinoville\"]\n",
    "    >>> word_search(doc_list, 'casino')\n",
    "    >>> [0]\n",
    "    \n",
    "    This implementation is a lot more complex than the provided solution but \n",
    "    I tried to get find a solution with the best possible O(n)\n",
    "    \"\"\"\n",
    "    results = []\n",
    "    \n",
    "    doc_string = \" | \".join(doc_list)    # join all docs to loop through each character; O(n + m) n = len(doc_list), m = len(doc_string)\n",
    "    current_word = ''                    # keep track of the current word to compare to keyword to\n",
    "    doc_list_index = 0                   # keep track of what index of doc_list the current word is in\n",
    "    index_added = False                  # make sure that the same indices are not added twice\n",
    "    \n",
    "    # loop through each char in the doc_string\n",
    "    for char_index in range(len(doc_string)):\n",
    "        current_char = doc_string[char_index]\n",
    "        \n",
    "        if current_char is ' ' or char_index == (len(doc_string) - 1):\n",
    "            # once we hit whitespace or the end of the doc_string, compare the current word to keyword and reset all tracker variables\n",
    "            if current_word == keyword and not index_added:\n",
    "                results.append(doc_list_index)\n",
    "                index_added = True\n",
    "            \n",
    "            current_word = ''\n",
    "        elif current_char == '|':\n",
    "            # since we did join() on '|' we increment the doc_list_index \n",
    "            doc_list_index += 1\n",
    "            index_added = False\n",
    "        elif current_char is not ',' and current_char is not '.':\n",
    "            # add any character that is not a ',' or '.' \n",
    "            # this will include any characters like '?' because if it has these characters then the current_word will not be a match\n",
    "            current_word += current_char.lower()\n",
    "    \n",
    "    return results\n",
    "\n",
    "# Check your answer\n",
    "q2.check()"
   ]
  },
  {
   "cell_type": "code",
   "execution_count": 10,
   "id": "b6746d67",
   "metadata": {
    "execution": {
     "iopub.execute_input": "2021-10-17T00:15:20.871480Z",
     "iopub.status.busy": "2021-10-17T00:15:20.870771Z",
     "iopub.status.idle": "2021-10-17T00:15:20.877872Z",
     "shell.execute_reply": "2021-10-17T00:15:20.877153Z",
     "shell.execute_reply.started": "2021-10-17T00:12:18.644062Z"
    },
    "papermill": {
     "duration": 0.035313,
     "end_time": "2021-10-17T00:15:20.878035",
     "exception": false,
     "start_time": "2021-10-17T00:15:20.842722",
     "status": "completed"
    },
    "tags": []
   },
   "outputs": [
    {
     "data": {
      "application/javascript": [
       "parent.postMessage({\"jupyterEvent\": \"custom.exercise_interaction\", \"data\": {\"interactionType\": 3, \"questionType\": 2, \"questionId\": \"2_WordSearch\", \"learnToolsVersion\": \"0.3.4\", \"valueTowardsCompletion\": 0.0, \"failureMessage\": \"\", \"exceptionClass\": \"\", \"trace\": \"\", \"outcomeType\": 4}}, \"*\")"
      ],
      "text/plain": [
       "<IPython.core.display.Javascript object>"
      ]
     },
     "metadata": {},
     "output_type": "display_data"
    },
    {
     "data": {
      "text/markdown": [
       "<span style=\"color:#33cc99\">Solution:</span> \n",
       "```python\n",
       "def word_search(documents, keyword):\n",
       "    # list to hold the indices of matching documents\n",
       "    indices = [] \n",
       "    # Iterate through the indices (i) and elements (doc) of documents\n",
       "    for i, doc in enumerate(documents):\n",
       "        # Split the string doc into a list of words (according to whitespace)\n",
       "        tokens = doc.split()\n",
       "        # Make a transformed list where we 'normalize' each word to facilitate matching.\n",
       "        # Periods and commas are removed from the end of each word, and it's set to all lowercase.\n",
       "        normalized = [token.rstrip('.,').lower() for token in tokens]\n",
       "        # Is there a match? If so, update the list of matching indices.\n",
       "        if keyword.lower() in normalized:\n",
       "            indices.append(i)\n",
       "    return indices\n",
       "```"
      ],
      "text/plain": [
       "Solution: \n",
       "```python\n",
       "def word_search(documents, keyword):\n",
       "    # list to hold the indices of matching documents\n",
       "    indices = [] \n",
       "    # Iterate through the indices (i) and elements (doc) of documents\n",
       "    for i, doc in enumerate(documents):\n",
       "        # Split the string doc into a list of words (according to whitespace)\n",
       "        tokens = doc.split()\n",
       "        # Make a transformed list where we 'normalize' each word to facilitate matching.\n",
       "        # Periods and commas are removed from the end of each word, and it's set to all lowercase.\n",
       "        normalized = [token.rstrip('.,').lower() for token in tokens]\n",
       "        # Is there a match? If so, update the list of matching indices.\n",
       "        if keyword.lower() in normalized:\n",
       "            indices.append(i)\n",
       "    return indices\n",
       "```"
      ]
     },
     "metadata": {},
     "output_type": "display_data"
    }
   ],
   "source": [
    "#q2.hint()\n",
    "q2.solution()"
   ]
  },
  {
   "cell_type": "markdown",
   "id": "d4b85abe",
   "metadata": {
    "papermill": {
     "duration": 0.025843,
     "end_time": "2021-10-17T00:15:20.930169",
     "exception": false,
     "start_time": "2021-10-17T00:15:20.904326",
     "status": "completed"
    },
    "tags": []
   },
   "source": [
    "# 3.\n",
    "\n",
    "Now the researcher wants to supply multiple keywords to search for. Complete the function below to help her.\n",
    "\n",
    "(You're encouraged to use the `word_search` function you just wrote when implementing this function. Reusing code in this way makes your programs more robust and readable - and it saves typing!)"
   ]
  },
  {
   "cell_type": "code",
   "execution_count": 11,
   "id": "5d6cc1b9",
   "metadata": {
    "execution": {
     "iopub.execute_input": "2021-10-17T00:15:20.990432Z",
     "iopub.status.busy": "2021-10-17T00:15:20.989632Z",
     "iopub.status.idle": "2021-10-17T00:15:20.993614Z",
     "shell.execute_reply": "2021-10-17T00:15:20.994165Z",
     "shell.execute_reply.started": "2021-10-17T00:12:29.403506Z"
    },
    "papermill": {
     "duration": 0.038003,
     "end_time": "2021-10-17T00:15:20.994387",
     "exception": false,
     "start_time": "2021-10-17T00:15:20.956384",
     "status": "completed"
    },
    "tags": []
   },
   "outputs": [
    {
     "data": {
      "application/javascript": [
       "parent.postMessage({\"jupyterEvent\": \"custom.exercise_interaction\", \"data\": {\"outcomeType\": 1, \"valueTowardsCompletion\": 0.3333333333333333, \"interactionType\": 1, \"questionType\": 2, \"questionId\": \"3_MultiWordSearch\", \"learnToolsVersion\": \"0.3.4\", \"failureMessage\": \"\", \"exceptionClass\": \"\", \"trace\": \"\"}}, \"*\")"
      ],
      "text/plain": [
       "<IPython.core.display.Javascript object>"
      ]
     },
     "metadata": {},
     "output_type": "display_data"
    },
    {
     "data": {
      "text/markdown": [
       "<span style=\"color:#33cc33\">Correct</span>"
      ],
      "text/plain": [
       "Correct"
      ]
     },
     "metadata": {},
     "output_type": "display_data"
    }
   ],
   "source": [
    "def multi_word_search(doc_list, keywords):\n",
    "    \"\"\"\n",
    "    Takes list of documents (each document is a string) and a list of keywords.  \n",
    "    Returns a dictionary where each key is a keyword, and the value is a list of indices\n",
    "    (from doc_list) of the documents containing that keyword\n",
    "\n",
    "    >>> doc_list = [\"The Learn Python Challenge Casino.\", \"They bought a car and a casino\", \"Casinoville\"]\n",
    "    >>> keywords = ['casino', 'they']\n",
    "    >>> multi_word_search(doc_list, keywords)\n",
    "    {'casino': [0, 1], 'they': [1]}\n",
    "    \"\"\"\n",
    "    results_dict = {}\n",
    "    \n",
    "    for keyword in keywords:\n",
    "        results_dict[keyword] = word_search(doc_list, keyword)\n",
    "        \n",
    "    return results_dict\n",
    "\n",
    "# Check your answer\n",
    "q3.check()"
   ]
  },
  {
   "cell_type": "code",
   "execution_count": 12,
   "id": "eaa398a5",
   "metadata": {
    "execution": {
     "iopub.execute_input": "2021-10-17T00:15:21.052721Z",
     "iopub.status.busy": "2021-10-17T00:15:21.052045Z",
     "iopub.status.idle": "2021-10-17T00:15:21.055286Z",
     "shell.execute_reply": "2021-10-17T00:15:21.055860Z",
     "shell.execute_reply.started": "2021-10-17T00:12:18.672872Z"
    },
    "papermill": {
     "duration": 0.034301,
     "end_time": "2021-10-17T00:15:21.056027",
     "exception": false,
     "start_time": "2021-10-17T00:15:21.021726",
     "status": "completed"
    },
    "tags": []
   },
   "outputs": [],
   "source": [
    "#q3.solution()"
   ]
  },
  {
   "cell_type": "markdown",
   "id": "b618f511",
   "metadata": {
    "papermill": {
     "duration": 0.028348,
     "end_time": "2021-10-17T00:15:21.111558",
     "exception": false,
     "start_time": "2021-10-17T00:15:21.083210",
     "status": "completed"
    },
    "tags": []
   },
   "source": [
    "# Keep Going\n",
    "\n",
    "You've learned a lot. But even the best programmers rely heavily on \"libraries\" of code from other programmers. You'll learn about that in **[the last lesson](https://www.kaggle.com/colinmorris/working-with-external-libraries)**.\n"
   ]
  }
 ],
 "metadata": {
  "kernelspec": {
   "display_name": "Python 3",
   "language": "python",
   "name": "python3"
  },
  "language_info": {
   "codemirror_mode": {
    "name": "ipython",
    "version": 3
   },
   "file_extension": ".py",
   "mimetype": "text/x-python",
   "name": "python",
   "nbconvert_exporter": "python",
   "pygments_lexer": "ipython3",
   "version": "3.7.10"
  },
  "papermill": {
   "default_parameters": {},
   "duration": 11.748368,
   "end_time": "2021-10-17T00:15:21.758819",
   "environment_variables": {},
   "exception": null,
   "input_path": "__notebook__.ipynb",
   "output_path": "__notebook__.ipynb",
   "parameters": {},
   "start_time": "2021-10-17T00:15:10.010451",
   "version": "2.3.3"
  }
 },
 "nbformat": 4,
 "nbformat_minor": 5
}
