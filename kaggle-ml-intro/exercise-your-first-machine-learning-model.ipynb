{
 "cells": [
  {
   "cell_type": "markdown",
   "id": "8dabf269",
   "metadata": {
    "papermill": {
     "duration": 0.015571,
     "end_time": "2021-09-29T23:51:38.557880",
     "exception": false,
     "start_time": "2021-09-29T23:51:38.542309",
     "status": "completed"
    },
    "tags": []
   },
   "source": [
    "**This notebook is an exercise in the [Introduction to Machine Learning](https://www.kaggle.com/learn/intro-to-machine-learning) course.  You can reference the tutorial at [this link](https://www.kaggle.com/dansbecker/your-first-machine-learning-model).**\n",
    "\n",
    "---\n"
   ]
  },
  {
   "cell_type": "markdown",
   "id": "e26cb81a",
   "metadata": {
    "papermill": {
     "duration": 0.014179,
     "end_time": "2021-09-29T23:51:38.586914",
     "exception": false,
     "start_time": "2021-09-29T23:51:38.572735",
     "status": "completed"
    },
    "tags": []
   },
   "source": [
    "## Recap\n",
    "So far, you have loaded your data and reviewed it with the following code. Run this cell to set up your coding environment where the previous step left off."
   ]
  },
  {
   "cell_type": "code",
   "execution_count": 1,
   "id": "a10c5ee0",
   "metadata": {
    "execution": {
     "iopub.execute_input": "2021-09-29T23:51:38.619846Z",
     "iopub.status.busy": "2021-09-29T23:51:38.618690Z",
     "iopub.status.idle": "2021-09-29T23:51:39.750039Z",
     "shell.execute_reply": "2021-09-29T23:51:39.748857Z",
     "shell.execute_reply.started": "2021-09-29T23:35:21.84621Z"
    },
    "papermill": {
     "duration": 1.148939,
     "end_time": "2021-09-29T23:51:39.750222",
     "exception": false,
     "start_time": "2021-09-29T23:51:38.601283",
     "status": "completed"
    },
    "tags": []
   },
   "outputs": [
    {
     "name": "stdout",
     "output_type": "stream",
     "text": [
      "Setup Complete\n"
     ]
    }
   ],
   "source": [
    "# Code you have previously used to load data\n",
    "import pandas as pd\n",
    "\n",
    "# Path of the file to read\n",
    "iowa_file_path = '../input/home-data-for-ml-course/train.csv'\n",
    "\n",
    "home_data = pd.read_csv(iowa_file_path)\n",
    "\n",
    "# Set up code checking\n",
    "from learntools.core import binder\n",
    "binder.bind(globals())\n",
    "from learntools.machine_learning.ex3 import *\n",
    "\n",
    "print(\"Setup Complete\")"
   ]
  },
  {
   "cell_type": "markdown",
   "id": "765735b6",
   "metadata": {
    "papermill": {
     "duration": 0.02327,
     "end_time": "2021-09-29T23:51:39.794803",
     "exception": false,
     "start_time": "2021-09-29T23:51:39.771533",
     "status": "completed"
    },
    "tags": []
   },
   "source": [
    "# Exercises\n",
    "\n",
    "## Step 1: Specify Prediction Target\n",
    "Select the target variable, which corresponds to the sales price. Save this to a new variable called `y`. You'll need to print a list of the columns to find the name of the column you need.\n"
   ]
  },
  {
   "cell_type": "code",
   "execution_count": 2,
   "id": "9d223039",
   "metadata": {
    "execution": {
     "iopub.execute_input": "2021-09-29T23:51:39.837406Z",
     "iopub.status.busy": "2021-09-29T23:51:39.836290Z",
     "iopub.status.idle": "2021-09-29T23:51:39.840768Z",
     "shell.execute_reply": "2021-09-29T23:51:39.841273Z",
     "shell.execute_reply.started": "2021-09-29T23:36:29.979192Z"
    },
    "papermill": {
     "duration": 0.027758,
     "end_time": "2021-09-29T23:51:39.841442",
     "exception": false,
     "start_time": "2021-09-29T23:51:39.813684",
     "status": "completed"
    },
    "tags": []
   },
   "outputs": [
    {
     "data": {
      "text/plain": [
       "Index(['Id', 'MSSubClass', 'MSZoning', 'LotFrontage', 'LotArea', 'Street',\n",
       "       'Alley', 'LotShape', 'LandContour', 'Utilities', 'LotConfig',\n",
       "       'LandSlope', 'Neighborhood', 'Condition1', 'Condition2', 'BldgType',\n",
       "       'HouseStyle', 'OverallQual', 'OverallCond', 'YearBuilt', 'YearRemodAdd',\n",
       "       'RoofStyle', 'RoofMatl', 'Exterior1st', 'Exterior2nd', 'MasVnrType',\n",
       "       'MasVnrArea', 'ExterQual', 'ExterCond', 'Foundation', 'BsmtQual',\n",
       "       'BsmtCond', 'BsmtExposure', 'BsmtFinType1', 'BsmtFinSF1',\n",
       "       'BsmtFinType2', 'BsmtFinSF2', 'BsmtUnfSF', 'TotalBsmtSF', 'Heating',\n",
       "       'HeatingQC', 'CentralAir', 'Electrical', '1stFlrSF', '2ndFlrSF',\n",
       "       'LowQualFinSF', 'GrLivArea', 'BsmtFullBath', 'BsmtHalfBath', 'FullBath',\n",
       "       'HalfBath', 'BedroomAbvGr', 'KitchenAbvGr', 'KitchenQual',\n",
       "       'TotRmsAbvGrd', 'Functional', 'Fireplaces', 'FireplaceQu', 'GarageType',\n",
       "       'GarageYrBlt', 'GarageFinish', 'GarageCars', 'GarageArea', 'GarageQual',\n",
       "       'GarageCond', 'PavedDrive', 'WoodDeckSF', 'OpenPorchSF',\n",
       "       'EnclosedPorch', '3SsnPorch', 'ScreenPorch', 'PoolArea', 'PoolQC',\n",
       "       'Fence', 'MiscFeature', 'MiscVal', 'MoSold', 'YrSold', 'SaleType',\n",
       "       'SaleCondition', 'SalePrice'],\n",
       "      dtype='object')"
      ]
     },
     "execution_count": 2,
     "metadata": {},
     "output_type": "execute_result"
    }
   ],
   "source": [
    "# print the list of columns in the dataset to find the name of the prediction target\n",
    "home_data.columns"
   ]
  },
  {
   "cell_type": "code",
   "execution_count": 3,
   "id": "ee430634",
   "metadata": {
    "execution": {
     "iopub.execute_input": "2021-09-29T23:51:39.886240Z",
     "iopub.status.busy": "2021-09-29T23:51:39.885532Z",
     "iopub.status.idle": "2021-09-29T23:51:39.890029Z",
     "shell.execute_reply": "2021-09-29T23:51:39.890613Z",
     "shell.execute_reply.started": "2021-09-29T23:37:13.627851Z"
    },
    "papermill": {
     "duration": 0.032679,
     "end_time": "2021-09-29T23:51:39.890786",
     "exception": false,
     "start_time": "2021-09-29T23:51:39.858107",
     "status": "completed"
    },
    "tags": []
   },
   "outputs": [
    {
     "data": {
      "application/javascript": [
       "parent.postMessage({\"jupyterEvent\": \"custom.exercise_interaction\", \"data\": {\"outcomeType\": 1, \"valueTowardsCompletion\": 0.25, \"interactionType\": 1, \"questionType\": 2, \"questionId\": \"1_SetTarget\", \"learnToolsVersion\": \"0.3.4\", \"failureMessage\": \"\", \"exceptionClass\": \"\", \"trace\": \"\"}}, \"*\")"
      ],
      "text/plain": [
       "<IPython.core.display.Javascript object>"
      ]
     },
     "metadata": {},
     "output_type": "display_data"
    },
    {
     "data": {
      "text/markdown": [
       "<span style=\"color:#33cc33\">Correct</span>"
      ],
      "text/plain": [
       "Correct"
      ]
     },
     "metadata": {},
     "output_type": "display_data"
    }
   ],
   "source": [
    "y = home_data.SalePrice\n",
    "\n",
    "# Check your answer\n",
    "step_1.check()"
   ]
  },
  {
   "cell_type": "code",
   "execution_count": 4,
   "id": "30ef38ea",
   "metadata": {
    "collapsed": true,
    "execution": {
     "iopub.execute_input": "2021-09-29T23:51:39.926489Z",
     "iopub.status.busy": "2021-09-29T23:51:39.925902Z",
     "iopub.status.idle": "2021-09-29T23:51:39.928695Z",
     "shell.execute_reply": "2021-09-29T23:51:39.929267Z"
    },
    "jupyter": {
     "outputs_hidden": true
    },
    "papermill": {
     "duration": 0.022328,
     "end_time": "2021-09-29T23:51:39.929427",
     "exception": false,
     "start_time": "2021-09-29T23:51:39.907099",
     "status": "completed"
    },
    "tags": []
   },
   "outputs": [],
   "source": [
    "# The lines below will show you a hint or the solution.\n",
    "# step_1.hint() \n",
    "# step_1.solution()"
   ]
  },
  {
   "cell_type": "markdown",
   "id": "e3bccf63",
   "metadata": {
    "papermill": {
     "duration": 0.016059,
     "end_time": "2021-09-29T23:51:39.962360",
     "exception": false,
     "start_time": "2021-09-29T23:51:39.946301",
     "status": "completed"
    },
    "tags": []
   },
   "source": [
    "## Step 2: Create X\n",
    "Now you will create a DataFrame called `X` holding the predictive features.\n",
    "\n",
    "Since you want only some columns from the original data, you'll first create a list with the names of the columns you want in `X`.\n",
    "\n",
    "You'll use just the following columns in the list (you can copy and paste the whole list to save some typing, though you'll still need to add quotes):\n",
    "    * LotArea\n",
    "    * YearBuilt\n",
    "    * 1stFlrSF\n",
    "    * 2ndFlrSF\n",
    "    * FullBath\n",
    "    * BedroomAbvGr\n",
    "    * TotRmsAbvGrd\n",
    "\n",
    "After you've created that list of features, use it to create the DataFrame that you'll use to fit the model."
   ]
  },
  {
   "cell_type": "code",
   "execution_count": 5,
   "id": "e3eeb489",
   "metadata": {
    "execution": {
     "iopub.execute_input": "2021-09-29T23:51:39.999342Z",
     "iopub.status.busy": "2021-09-29T23:51:39.998716Z",
     "iopub.status.idle": "2021-09-29T23:51:40.011021Z",
     "shell.execute_reply": "2021-09-29T23:51:40.011615Z",
     "shell.execute_reply.started": "2021-09-29T23:39:44.381257Z"
    },
    "papermill": {
     "duration": 0.032012,
     "end_time": "2021-09-29T23:51:40.011795",
     "exception": false,
     "start_time": "2021-09-29T23:51:39.979783",
     "status": "completed"
    },
    "tags": []
   },
   "outputs": [
    {
     "data": {
      "application/javascript": [
       "parent.postMessage({\"jupyterEvent\": \"custom.exercise_interaction\", \"data\": {\"outcomeType\": 1, \"valueTowardsCompletion\": 0.25, \"interactionType\": 1, \"questionType\": 2, \"questionId\": \"2_SelectPredictionData\", \"learnToolsVersion\": \"0.3.4\", \"failureMessage\": \"\", \"exceptionClass\": \"\", \"trace\": \"\"}}, \"*\")"
      ],
      "text/plain": [
       "<IPython.core.display.Javascript object>"
      ]
     },
     "metadata": {},
     "output_type": "display_data"
    },
    {
     "data": {
      "text/markdown": [
       "<span style=\"color:#33cc33\">Correct</span>"
      ],
      "text/plain": [
       "Correct"
      ]
     },
     "metadata": {},
     "output_type": "display_data"
    }
   ],
   "source": [
    "# Create the list of features below\n",
    "feature_names = ['LotArea', 'YearBuilt', '1stFlrSF', '2ndFlrSF', 'FullBath', 'BedroomAbvGr', 'TotRmsAbvGrd']\n",
    "\n",
    "# Select data corresponding to features in feature_names\n",
    "X = home_data[feature_names]\n",
    "\n",
    "# Check your answer\n",
    "step_2.check()"
   ]
  },
  {
   "cell_type": "code",
   "execution_count": 6,
   "id": "f02f35ef",
   "metadata": {
    "collapsed": true,
    "execution": {
     "iopub.execute_input": "2021-09-29T23:51:40.050174Z",
     "iopub.status.busy": "2021-09-29T23:51:40.049472Z",
     "iopub.status.idle": "2021-09-29T23:51:40.052288Z",
     "shell.execute_reply": "2021-09-29T23:51:40.052961Z"
    },
    "jupyter": {
     "outputs_hidden": true
    },
    "papermill": {
     "duration": 0.023957,
     "end_time": "2021-09-29T23:51:40.053132",
     "exception": false,
     "start_time": "2021-09-29T23:51:40.029175",
     "status": "completed"
    },
    "tags": []
   },
   "outputs": [],
   "source": [
    "# step_2.hint()\n",
    "# step_2.solution()"
   ]
  },
  {
   "cell_type": "markdown",
   "id": "c8f8b19b",
   "metadata": {
    "papermill": {
     "duration": 0.017407,
     "end_time": "2021-09-29T23:51:40.088813",
     "exception": false,
     "start_time": "2021-09-29T23:51:40.071406",
     "status": "completed"
    },
    "tags": []
   },
   "source": [
    "## Review Data\n",
    "Before building a model, take a quick look at **X** to verify it looks sensible"
   ]
  },
  {
   "cell_type": "code",
   "execution_count": 7,
   "id": "71c98a5e",
   "metadata": {
    "execution": {
     "iopub.execute_input": "2021-09-29T23:51:40.135203Z",
     "iopub.status.busy": "2021-09-29T23:51:40.134505Z",
     "iopub.status.idle": "2021-09-29T23:51:40.165026Z",
     "shell.execute_reply": "2021-09-29T23:51:40.164410Z",
     "shell.execute_reply.started": "2021-09-29T23:40:26.324144Z"
    },
    "papermill": {
     "duration": 0.058788,
     "end_time": "2021-09-29T23:51:40.165173",
     "exception": false,
     "start_time": "2021-09-29T23:51:40.106385",
     "status": "completed"
    },
    "tags": []
   },
   "outputs": [
    {
     "name": "stdout",
     "output_type": "stream",
     "text": [
      "             LotArea    YearBuilt     1stFlrSF     2ndFlrSF     FullBath  \\\n",
      "count    1460.000000  1460.000000  1460.000000  1460.000000  1460.000000   \n",
      "mean    10516.828082  1971.267808  1162.626712   346.992466     1.565068   \n",
      "std      9981.264932    30.202904   386.587738   436.528436     0.550916   \n",
      "min      1300.000000  1872.000000   334.000000     0.000000     0.000000   \n",
      "25%      7553.500000  1954.000000   882.000000     0.000000     1.000000   \n",
      "50%      9478.500000  1973.000000  1087.000000     0.000000     2.000000   \n",
      "75%     11601.500000  2000.000000  1391.250000   728.000000     2.000000   \n",
      "max    215245.000000  2010.000000  4692.000000  2065.000000     3.000000   \n",
      "\n",
      "       BedroomAbvGr  TotRmsAbvGrd  \n",
      "count   1460.000000   1460.000000  \n",
      "mean       2.866438      6.517808  \n",
      "std        0.815778      1.625393  \n",
      "min        0.000000      2.000000  \n",
      "25%        2.000000      5.000000  \n",
      "50%        3.000000      6.000000  \n",
      "75%        3.000000      7.000000  \n",
      "max        8.000000     14.000000  \n",
      "   LotArea  YearBuilt  1stFlrSF  2ndFlrSF  FullBath  BedroomAbvGr  \\\n",
      "0     8450       2003       856       854         2             3   \n",
      "1     9600       1976      1262         0         2             3   \n",
      "2    11250       2001       920       866         2             3   \n",
      "3     9550       1915       961       756         1             3   \n",
      "4    14260       2000      1145      1053         2             4   \n",
      "\n",
      "   TotRmsAbvGrd  \n",
      "0             8  \n",
      "1             6  \n",
      "2             6  \n",
      "3             7  \n",
      "4             9  \n"
     ]
    }
   ],
   "source": [
    "# Review data\n",
    "# print description or statistics from X\n",
    "print(X.describe())\n",
    "\n",
    "# print the top few lines\n",
    "print(X.head())"
   ]
  },
  {
   "cell_type": "markdown",
   "id": "6ffbf606",
   "metadata": {
    "papermill": {
     "duration": 0.01793,
     "end_time": "2021-09-29T23:51:40.201085",
     "exception": false,
     "start_time": "2021-09-29T23:51:40.183155",
     "status": "completed"
    },
    "tags": []
   },
   "source": [
    "## Step 3: Specify and Fit Model\n",
    "Create a `DecisionTreeRegressor` and save it iowa_model. Ensure you've done the relevant import from sklearn to run this command.\n",
    "\n",
    "Then fit the model you just created using the data in `X` and `y` that you saved above."
   ]
  },
  {
   "cell_type": "code",
   "execution_count": 8,
   "id": "410c3bdd",
   "metadata": {
    "execution": {
     "iopub.execute_input": "2021-09-29T23:51:40.249678Z",
     "iopub.status.busy": "2021-09-29T23:51:40.248961Z",
     "iopub.status.idle": "2021-09-29T23:51:40.270246Z",
     "shell.execute_reply": "2021-09-29T23:51:40.270792Z",
     "shell.execute_reply.started": "2021-09-29T23:44:26.767428Z"
    },
    "papermill": {
     "duration": 0.047829,
     "end_time": "2021-09-29T23:51:40.270974",
     "exception": false,
     "start_time": "2021-09-29T23:51:40.223145",
     "status": "completed"
    },
    "tags": []
   },
   "outputs": [
    {
     "data": {
      "application/javascript": [
       "parent.postMessage({\"jupyterEvent\": \"custom.exercise_interaction\", \"data\": {\"outcomeType\": 1, \"valueTowardsCompletion\": 0.25, \"interactionType\": 1, \"questionType\": 2, \"questionId\": \"3_CreateModel\", \"learnToolsVersion\": \"0.3.4\", \"failureMessage\": \"\", \"exceptionClass\": \"\", \"trace\": \"\"}}, \"*\")"
      ],
      "text/plain": [
       "<IPython.core.display.Javascript object>"
      ]
     },
     "metadata": {},
     "output_type": "display_data"
    },
    {
     "data": {
      "text/markdown": [
       "<span style=\"color:#33cc33\">Correct</span>"
      ],
      "text/plain": [
       "Correct"
      ]
     },
     "metadata": {},
     "output_type": "display_data"
    }
   ],
   "source": [
    "from sklearn.tree import DecisionTreeRegressor\n",
    "#specify the model. \n",
    "#For model reproducibility, set a numeric value for random_state when specifying the model\n",
    "iowa_model = DecisionTreeRegressor(random_state=1)\n",
    "\n",
    "# Fit the model\n",
    "iowa_model.fit(X, y)\n",
    "\n",
    "# Check your answer\n",
    "step_3.check()"
   ]
  },
  {
   "cell_type": "code",
   "execution_count": 9,
   "id": "e8b55b7e",
   "metadata": {
    "collapsed": true,
    "execution": {
     "iopub.execute_input": "2021-09-29T23:51:40.314675Z",
     "iopub.status.busy": "2021-09-29T23:51:40.313681Z",
     "iopub.status.idle": "2021-09-29T23:51:40.317895Z",
     "shell.execute_reply": "2021-09-29T23:51:40.318387Z"
    },
    "jupyter": {
     "outputs_hidden": true
    },
    "papermill": {
     "duration": 0.028138,
     "end_time": "2021-09-29T23:51:40.318550",
     "exception": false,
     "start_time": "2021-09-29T23:51:40.290412",
     "status": "completed"
    },
    "tags": []
   },
   "outputs": [],
   "source": [
    "# step_3.hint()\n",
    "# step_3.solution()"
   ]
  },
  {
   "cell_type": "markdown",
   "id": "4f59abf5",
   "metadata": {
    "papermill": {
     "duration": 0.018552,
     "end_time": "2021-09-29T23:51:40.356354",
     "exception": false,
     "start_time": "2021-09-29T23:51:40.337802",
     "status": "completed"
    },
    "tags": []
   },
   "source": [
    "## Step 4: Make Predictions\n",
    "Make predictions with the model's `predict` command using `X` as the data. Save the results to a variable called `predictions`."
   ]
  },
  {
   "cell_type": "code",
   "execution_count": 10,
   "id": "41937d02",
   "metadata": {
    "execution": {
     "iopub.execute_input": "2021-09-29T23:51:40.400694Z",
     "iopub.status.busy": "2021-09-29T23:51:40.397323Z",
     "iopub.status.idle": "2021-09-29T23:51:40.411411Z",
     "shell.execute_reply": "2021-09-29T23:51:40.410896Z",
     "shell.execute_reply.started": "2021-09-29T23:45:43.017318Z"
    },
    "papermill": {
     "duration": 0.036104,
     "end_time": "2021-09-29T23:51:40.411546",
     "exception": false,
     "start_time": "2021-09-29T23:51:40.375442",
     "status": "completed"
    },
    "tags": []
   },
   "outputs": [
    {
     "name": "stdout",
     "output_type": "stream",
     "text": [
      "[208500. 181500. 223500. ... 266500. 142125. 147500.]\n"
     ]
    },
    {
     "data": {
      "application/javascript": [
       "parent.postMessage({\"jupyterEvent\": \"custom.exercise_interaction\", \"data\": {\"outcomeType\": 1, \"valueTowardsCompletion\": 0.25, \"interactionType\": 1, \"questionType\": 2, \"questionId\": \"4_MakePredictions\", \"learnToolsVersion\": \"0.3.4\", \"failureMessage\": \"\", \"exceptionClass\": \"\", \"trace\": \"\"}}, \"*\")"
      ],
      "text/plain": [
       "<IPython.core.display.Javascript object>"
      ]
     },
     "metadata": {},
     "output_type": "display_data"
    },
    {
     "data": {
      "text/markdown": [
       "<span style=\"color:#33cc33\">Correct</span>"
      ],
      "text/plain": [
       "Correct"
      ]
     },
     "metadata": {},
     "output_type": "display_data"
    }
   ],
   "source": [
    "predictions = iowa_model.predict(X)\n",
    "print(predictions)\n",
    "\n",
    "# Check your answer\n",
    "step_4.check()"
   ]
  },
  {
   "cell_type": "code",
   "execution_count": 11,
   "id": "d40c04c7",
   "metadata": {
    "collapsed": true,
    "execution": {
     "iopub.execute_input": "2021-09-29T23:51:40.454775Z",
     "iopub.status.busy": "2021-09-29T23:51:40.454186Z",
     "iopub.status.idle": "2021-09-29T23:51:40.457125Z",
     "shell.execute_reply": "2021-09-29T23:51:40.457634Z"
    },
    "jupyter": {
     "outputs_hidden": true
    },
    "papermill": {
     "duration": 0.026013,
     "end_time": "2021-09-29T23:51:40.457789",
     "exception": false,
     "start_time": "2021-09-29T23:51:40.431776",
     "status": "completed"
    },
    "tags": []
   },
   "outputs": [],
   "source": [
    "# step_4.hint()\n",
    "# step_4.solution()"
   ]
  },
  {
   "cell_type": "markdown",
   "id": "b6539424",
   "metadata": {
    "papermill": {
     "duration": 0.020923,
     "end_time": "2021-09-29T23:51:40.499183",
     "exception": false,
     "start_time": "2021-09-29T23:51:40.478260",
     "status": "completed"
    },
    "tags": []
   },
   "source": [
    "## Think About Your Results\n",
    "\n",
    "Use the `head` method to compare the top few predictions to the actual home values (in `y`) for those same homes. Anything surprising?\n"
   ]
  },
  {
   "cell_type": "code",
   "execution_count": 12,
   "id": "b340383a",
   "metadata": {
    "execution": {
     "iopub.execute_input": "2021-09-29T23:51:40.542896Z",
     "iopub.status.busy": "2021-09-29T23:51:40.542247Z",
     "iopub.status.idle": "2021-09-29T23:51:40.550851Z",
     "shell.execute_reply": "2021-09-29T23:51:40.551405Z",
     "shell.execute_reply.started": "2021-09-29T23:46:42.727252Z"
    },
    "papermill": {
     "duration": 0.032079,
     "end_time": "2021-09-29T23:51:40.551578",
     "exception": false,
     "start_time": "2021-09-29T23:51:40.519499",
     "status": "completed"
    },
    "tags": []
   },
   "outputs": [
    {
     "name": "stdout",
     "output_type": "stream",
     "text": [
      "[208500. 181500. 223500. 140000. 250000.]\n",
      "0       208500\n",
      "1       181500\n",
      "2       223500\n",
      "3       140000\n",
      "4       250000\n",
      "         ...  \n",
      "1455    175000\n",
      "1456    210000\n",
      "1457    266500\n",
      "1458    142125\n",
      "1459    147500\n",
      "Name: SalePrice, Length: 1460, dtype: int64\n"
     ]
    }
   ],
   "source": [
    "# You can write code in this cell\n",
    "head_predictions = iowa_model.predict(X.head())\n",
    "print(head_predictions)\n",
    "print(y)"
   ]
  },
  {
   "cell_type": "markdown",
   "id": "2af1f9d2",
   "metadata": {
    "papermill": {
     "duration": 0.020582,
     "end_time": "2021-09-29T23:51:40.593667",
     "exception": false,
     "start_time": "2021-09-29T23:51:40.573085",
     "status": "completed"
    },
    "tags": []
   },
   "source": [
    "It's natural to ask how accurate the model's predictions will be and how you can improve that. That will be you're next step.\n",
    "\n",
    "# Keep Going\n",
    "\n",
    "You are ready for **[Model Validation](https://www.kaggle.com/dansbecker/model-validation).**\n"
   ]
  }
 ],
 "metadata": {
  "kernelspec": {
   "display_name": "Python 3",
   "language": "python",
   "name": "python3"
  },
  "language_info": {
   "codemirror_mode": {
    "name": "ipython",
    "version": 3
   },
   "file_extension": ".py",
   "mimetype": "text/x-python",
   "name": "python",
   "nbconvert_exporter": "python",
   "pygments_lexer": "ipython3",
   "version": "3.7.10"
  },
  "papermill": {
   "default_parameters": {},
   "duration": 11.66635,
   "end_time": "2021-09-29T23:51:41.943204",
   "environment_variables": {},
   "exception": null,
   "input_path": "__notebook__.ipynb",
   "output_path": "__notebook__.ipynb",
   "parameters": {},
   "start_time": "2021-09-29T23:51:30.276854",
   "version": "2.3.3"
  }
 },
 "nbformat": 4,
 "nbformat_minor": 5
}
