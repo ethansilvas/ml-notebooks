{
 "cells": [
  {
   "cell_type": "markdown",
   "id": "62a74669",
   "metadata": {
    "papermill": {
     "duration": 0.013881,
     "end_time": "2021-09-30T23:48:57.947882",
     "exception": false,
     "start_time": "2021-09-30T23:48:57.934001",
     "status": "completed"
    },
    "tags": []
   },
   "source": [
    "**This notebook is an exercise in the [Introduction to Machine Learning](https://www.kaggle.com/learn/intro-to-machine-learning) course.  You can reference the tutorial at [this link](https://www.kaggle.com/dansbecker/model-validation).**\n",
    "\n",
    "---\n"
   ]
  },
  {
   "cell_type": "markdown",
   "id": "b03b60c0",
   "metadata": {
    "papermill": {
     "duration": 0.012486,
     "end_time": "2021-09-30T23:48:57.973627",
     "exception": false,
     "start_time": "2021-09-30T23:48:57.961141",
     "status": "completed"
    },
    "tags": []
   },
   "source": [
    "## Recap\n",
    "You've built a model. In this exercise you will test how good your model is.\n",
    "\n",
    "Run the cell below to set up your coding environment where the previous exercise left off."
   ]
  },
  {
   "cell_type": "code",
   "execution_count": 1,
   "id": "669fa4b9",
   "metadata": {
    "execution": {
     "iopub.execute_input": "2021-09-30T23:48:58.012869Z",
     "iopub.status.busy": "2021-09-30T23:48:58.012152Z",
     "iopub.status.idle": "2021-09-30T23:48:59.222383Z",
     "shell.execute_reply": "2021-09-30T23:48:59.221312Z",
     "shell.execute_reply.started": "2021-09-30T22:24:25.630403Z"
    },
    "papermill": {
     "duration": 1.236267,
     "end_time": "2021-09-30T23:48:59.222572",
     "exception": false,
     "start_time": "2021-09-30T23:48:57.986305",
     "status": "completed"
    },
    "tags": []
   },
   "outputs": [
    {
     "name": "stdout",
     "output_type": "stream",
     "text": [
      "First in-sample predictions: [208500. 181500. 223500. 140000. 250000.]\n",
      "Actual target values for those homes: [208500, 181500, 223500, 140000, 250000]\n",
      "Setup Complete\n"
     ]
    }
   ],
   "source": [
    "# Code you have previously used to load data\n",
    "import pandas as pd\n",
    "from sklearn.tree import DecisionTreeRegressor\n",
    "\n",
    "# Path of the file to read\n",
    "iowa_file_path = '../input/home-data-for-ml-course/train.csv'\n",
    "\n",
    "home_data = pd.read_csv(iowa_file_path)\n",
    "y = home_data.SalePrice\n",
    "feature_columns = ['LotArea', 'YearBuilt', '1stFlrSF', '2ndFlrSF', 'FullBath', 'BedroomAbvGr', 'TotRmsAbvGrd']\n",
    "X = home_data[feature_columns]\n",
    "\n",
    "# Specify Model\n",
    "iowa_model = DecisionTreeRegressor()\n",
    "# Fit Model\n",
    "iowa_model.fit(X, y)\n",
    "\n",
    "print(\"First in-sample predictions:\", iowa_model.predict(X.head()))\n",
    "print(\"Actual target values for those homes:\", y.head().tolist())\n",
    "\n",
    "# Set up code checking\n",
    "from learntools.core import binder\n",
    "binder.bind(globals())\n",
    "from learntools.machine_learning.ex4 import *\n",
    "print(\"Setup Complete\")"
   ]
  },
  {
   "cell_type": "markdown",
   "id": "274595db",
   "metadata": {
    "papermill": {
     "duration": 0.012813,
     "end_time": "2021-09-30T23:48:59.248770",
     "exception": false,
     "start_time": "2021-09-30T23:48:59.235957",
     "status": "completed"
    },
    "tags": []
   },
   "source": [
    "# Exercises\n",
    "\n",
    "## Step 1: Split Your Data\n",
    "Use the `train_test_split` function to split up your data.\n",
    "\n",
    "Give it the argument `random_state=1` so the `check` functions know what to expect when verifying your code.\n",
    "\n",
    "Recall, your features are loaded in the DataFrame **X** and your target is loaded in **y**.\n"
   ]
  },
  {
   "cell_type": "code",
   "execution_count": 2,
   "id": "e05ce20d",
   "metadata": {
    "execution": {
     "iopub.execute_input": "2021-09-30T23:48:59.283761Z",
     "iopub.status.busy": "2021-09-30T23:48:59.282733Z",
     "iopub.status.idle": "2021-09-30T23:48:59.294701Z",
     "shell.execute_reply": "2021-09-30T23:48:59.294082Z",
     "shell.execute_reply.started": "2021-09-30T22:27:13.131820Z"
    },
    "papermill": {
     "duration": 0.032939,
     "end_time": "2021-09-30T23:48:59.294830",
     "exception": false,
     "start_time": "2021-09-30T23:48:59.261891",
     "status": "completed"
    },
    "tags": []
   },
   "outputs": [
    {
     "data": {
      "application/javascript": [
       "parent.postMessage({\"jupyterEvent\": \"custom.exercise_interaction\", \"data\": {\"outcomeType\": 1, \"valueTowardsCompletion\": 0.25, \"interactionType\": 1, \"questionType\": 2, \"questionId\": \"1_SplitData\", \"learnToolsVersion\": \"0.3.4\", \"failureMessage\": \"\", \"exceptionClass\": \"\", \"trace\": \"\"}}, \"*\")"
      ],
      "text/plain": [
       "<IPython.core.display.Javascript object>"
      ]
     },
     "metadata": {},
     "output_type": "display_data"
    },
    {
     "data": {
      "text/markdown": [
       "<span style=\"color:#33cc33\">Correct</span>"
      ],
      "text/plain": [
       "Correct"
      ]
     },
     "metadata": {},
     "output_type": "display_data"
    }
   ],
   "source": [
    "# Import the train_test_split function and uncomment\n",
    "from sklearn.model_selection import train_test_split\n",
    "\n",
    "# fill in and uncomment\n",
    "train_X, val_X, train_y, val_y = train_test_split(X, y, random_state=1)\n",
    "\n",
    "# Check your answer\n",
    "step_1.check()"
   ]
  },
  {
   "cell_type": "code",
   "execution_count": 3,
   "id": "9ff0e1de",
   "metadata": {
    "execution": {
     "iopub.execute_input": "2021-09-30T23:48:59.326598Z",
     "iopub.status.busy": "2021-09-30T23:48:59.325659Z",
     "iopub.status.idle": "2021-09-30T23:48:59.328797Z",
     "shell.execute_reply": "2021-09-30T23:48:59.329230Z"
    },
    "papermill": {
     "duration": 0.0206,
     "end_time": "2021-09-30T23:48:59.329413",
     "exception": false,
     "start_time": "2021-09-30T23:48:59.308813",
     "status": "completed"
    },
    "tags": []
   },
   "outputs": [],
   "source": [
    "# The lines below will show you a hint or the solution.\n",
    "# step_1.hint() \n",
    "# step_1.solution()\n"
   ]
  },
  {
   "cell_type": "markdown",
   "id": "2c3e5048",
   "metadata": {
    "papermill": {
     "duration": 0.013675,
     "end_time": "2021-09-30T23:48:59.357193",
     "exception": false,
     "start_time": "2021-09-30T23:48:59.343518",
     "status": "completed"
    },
    "tags": []
   },
   "source": [
    "## Step 2: Specify and Fit the Model\n",
    "\n",
    "Create a `DecisionTreeRegressor` model and fit it to the relevant data.\n",
    "Set `random_state` to 1 again when creating the model."
   ]
  },
  {
   "cell_type": "code",
   "execution_count": 4,
   "id": "73d246f1",
   "metadata": {
    "execution": {
     "iopub.execute_input": "2021-09-30T23:48:59.393152Z",
     "iopub.status.busy": "2021-09-30T23:48:59.388710Z",
     "iopub.status.idle": "2021-09-30T23:48:59.416994Z",
     "shell.execute_reply": "2021-09-30T23:48:59.417506Z",
     "shell.execute_reply.started": "2021-09-30T22:30:27.081202Z"
    },
    "papermill": {
     "duration": 0.046019,
     "end_time": "2021-09-30T23:48:59.417698",
     "exception": false,
     "start_time": "2021-09-30T23:48:59.371679",
     "status": "completed"
    },
    "tags": []
   },
   "outputs": [
    {
     "name": "stdout",
     "output_type": "stream",
     "text": [
      "[186500. 184000. 130000.  92000. 164500. 220000. 335000. 144152. 215000.\n",
      " 262000.]\n",
      "[186500. 184000. 130000.  92000. 164500. 220000. 335000. 144152. 215000.\n",
      " 262000.]\n"
     ]
    },
    {
     "data": {
      "application/javascript": [
       "parent.postMessage({\"jupyterEvent\": \"custom.exercise_interaction\", \"data\": {\"outcomeType\": 1, \"valueTowardsCompletion\": 0.25, \"interactionType\": 1, \"questionType\": 2, \"questionId\": \"2_FitModelWithTrain\", \"learnToolsVersion\": \"0.3.4\", \"failureMessage\": \"\", \"exceptionClass\": \"\", \"trace\": \"\"}}, \"*\")"
      ],
      "text/plain": [
       "<IPython.core.display.Javascript object>"
      ]
     },
     "metadata": {},
     "output_type": "display_data"
    },
    {
     "data": {
      "text/markdown": [
       "<span style=\"color:#33cc33\">Correct</span>"
      ],
      "text/plain": [
       "Correct"
      ]
     },
     "metadata": {},
     "output_type": "display_data"
    }
   ],
   "source": [
    "# You imported DecisionTreeRegressor in your last exercise\n",
    "# and that code has been copied to the setup code above. So, no need to\n",
    "# import it again\n",
    "\n",
    "# Specify the model\n",
    "iowa_model = DecisionTreeRegressor(random_state=1)\n",
    "\n",
    "# Fit iowa_model with the training data.\n",
    "iowa_model.fit(train_X, train_y)\n",
    "\n",
    "# Check your answer\n",
    "step_2.check()"
   ]
  },
  {
   "cell_type": "code",
   "execution_count": 5,
   "id": "8defa31e",
   "metadata": {
    "execution": {
     "iopub.execute_input": "2021-09-30T23:48:59.453488Z",
     "iopub.status.busy": "2021-09-30T23:48:59.452793Z",
     "iopub.status.idle": "2021-09-30T23:48:59.454649Z",
     "shell.execute_reply": "2021-09-30T23:48:59.455281Z"
    },
    "papermill": {
     "duration": 0.021932,
     "end_time": "2021-09-30T23:48:59.455447",
     "exception": false,
     "start_time": "2021-09-30T23:48:59.433515",
     "status": "completed"
    },
    "tags": []
   },
   "outputs": [],
   "source": [
    "# step_2.hint()\n",
    "# step_2.solution()"
   ]
  },
  {
   "cell_type": "markdown",
   "id": "655d4e95",
   "metadata": {
    "papermill": {
     "duration": 0.015783,
     "end_time": "2021-09-30T23:48:59.487126",
     "exception": false,
     "start_time": "2021-09-30T23:48:59.471343",
     "status": "completed"
    },
    "tags": []
   },
   "source": [
    "## Step 3: Make Predictions with Validation data\n"
   ]
  },
  {
   "cell_type": "code",
   "execution_count": 6,
   "id": "46f90248",
   "metadata": {
    "execution": {
     "iopub.execute_input": "2021-09-30T23:48:59.523719Z",
     "iopub.status.busy": "2021-09-30T23:48:59.523021Z",
     "iopub.status.idle": "2021-09-30T23:48:59.532589Z",
     "shell.execute_reply": "2021-09-30T23:48:59.533090Z",
     "shell.execute_reply.started": "2021-09-30T22:32:06.604204Z"
    },
    "papermill": {
     "duration": 0.028976,
     "end_time": "2021-09-30T23:48:59.533274",
     "exception": false,
     "start_time": "2021-09-30T23:48:59.504298",
     "status": "completed"
    },
    "tags": []
   },
   "outputs": [
    {
     "data": {
      "application/javascript": [
       "parent.postMessage({\"jupyterEvent\": \"custom.exercise_interaction\", \"data\": {\"outcomeType\": 1, \"valueTowardsCompletion\": 0.25, \"interactionType\": 1, \"questionType\": 2, \"questionId\": \"3_ValPreds\", \"learnToolsVersion\": \"0.3.4\", \"failureMessage\": \"\", \"exceptionClass\": \"\", \"trace\": \"\"}}, \"*\")"
      ],
      "text/plain": [
       "<IPython.core.display.Javascript object>"
      ]
     },
     "metadata": {},
     "output_type": "display_data"
    },
    {
     "data": {
      "text/markdown": [
       "<span style=\"color:#33cc33\">Correct</span>"
      ],
      "text/plain": [
       "Correct"
      ]
     },
     "metadata": {},
     "output_type": "display_data"
    }
   ],
   "source": [
    "# Predict with all validation observations\n",
    "val_predictions = iowa_model.predict(val_X)\n",
    "\n",
    "# Check your answer\n",
    "step_3.check()"
   ]
  },
  {
   "cell_type": "code",
   "execution_count": 7,
   "id": "77201204",
   "metadata": {
    "execution": {
     "iopub.execute_input": "2021-09-30T23:48:59.570329Z",
     "iopub.status.busy": "2021-09-30T23:48:59.569663Z",
     "iopub.status.idle": "2021-09-30T23:48:59.572124Z",
     "shell.execute_reply": "2021-09-30T23:48:59.572663Z"
    },
    "papermill": {
     "duration": 0.022937,
     "end_time": "2021-09-30T23:48:59.572822",
     "exception": false,
     "start_time": "2021-09-30T23:48:59.549885",
     "status": "completed"
    },
    "tags": []
   },
   "outputs": [],
   "source": [
    "# step_3.hint()\n",
    "# step_3.solution()"
   ]
  },
  {
   "cell_type": "markdown",
   "id": "8b375739",
   "metadata": {
    "papermill": {
     "duration": 0.016218,
     "end_time": "2021-09-30T23:48:59.605765",
     "exception": false,
     "start_time": "2021-09-30T23:48:59.589547",
     "status": "completed"
    },
    "tags": []
   },
   "source": [
    "Inspect your predictions and actual values from validation data."
   ]
  },
  {
   "cell_type": "code",
   "execution_count": 8,
   "id": "ff9762a7",
   "metadata": {
    "collapsed": true,
    "execution": {
     "iopub.execute_input": "2021-09-30T23:48:59.642276Z",
     "iopub.status.busy": "2021-09-30T23:48:59.641646Z",
     "iopub.status.idle": "2021-09-30T23:48:59.650343Z",
     "shell.execute_reply": "2021-09-30T23:48:59.649390Z",
     "shell.execute_reply.started": "2021-09-30T22:36:19.029042Z"
    },
    "jupyter": {
     "outputs_hidden": true
    },
    "papermill": {
     "duration": 0.028159,
     "end_time": "2021-09-30T23:48:59.650599",
     "exception": false,
     "start_time": "2021-09-30T23:48:59.622440",
     "status": "completed"
    },
    "tags": []
   },
   "outputs": [
    {
     "name": "stdout",
     "output_type": "stream",
     "text": [
      "[186500. 184000. 130000.  92000. 164500.]\n",
      "[231500, 179500, 122000, 84500, 142000]\n"
     ]
    }
   ],
   "source": [
    "# print the top few validation predictions\n",
    "print(iowa_model.predict(val_X.head()))\n",
    "\n",
    "# print the top few actual prices from validation data\n",
    "print(val_y.head().tolist())"
   ]
  },
  {
   "cell_type": "markdown",
   "id": "7a1c8d6b",
   "metadata": {
    "papermill": {
     "duration": 0.016528,
     "end_time": "2021-09-30T23:48:59.685163",
     "exception": false,
     "start_time": "2021-09-30T23:48:59.668635",
     "status": "completed"
    },
    "tags": []
   },
   "source": [
    "What do you notice that is different from what you saw with in-sample predictions (which are printed after the top code cell in this page).\n",
    "\n",
    "Do you remember why validation predictions differ from in-sample (or training) predictions? This is an important idea from the last lesson.\n",
    "\n",
    "\n",
    "Answer: The in-sample predictions were completely accurate while these validation predictions are at least 10k off because our model is reacting to unseen data. There is likely some sort of pattern that the model noticed in the training data that it used on the validation data despite it possibly not being accurate for the validation, or any other unseen, data. \n",
    "\n",
    "\n",
    "## Step 4: Calculate the Mean Absolute Error in Validation Data\n"
   ]
  },
  {
   "cell_type": "code",
   "execution_count": 9,
   "id": "598f0369",
   "metadata": {
    "execution": {
     "iopub.execute_input": "2021-09-30T23:48:59.722554Z",
     "iopub.status.busy": "2021-09-30T23:48:59.721911Z",
     "iopub.status.idle": "2021-09-30T23:48:59.732595Z",
     "shell.execute_reply": "2021-09-30T23:48:59.731936Z",
     "shell.execute_reply.started": "2021-09-30T22:38:39.474063Z"
    },
    "papermill": {
     "duration": 0.030611,
     "end_time": "2021-09-30T23:48:59.732735",
     "exception": false,
     "start_time": "2021-09-30T23:48:59.702124",
     "status": "completed"
    },
    "tags": []
   },
   "outputs": [
    {
     "name": "stdout",
     "output_type": "stream",
     "text": [
      "29652.931506849316\n"
     ]
    },
    {
     "data": {
      "application/javascript": [
       "parent.postMessage({\"jupyterEvent\": \"custom.exercise_interaction\", \"data\": {\"outcomeType\": 1, \"valueTowardsCompletion\": 0.25, \"interactionType\": 1, \"questionType\": 1, \"questionId\": \"4_MAE\", \"learnToolsVersion\": \"0.3.4\", \"failureMessage\": \"\", \"exceptionClass\": \"\", \"trace\": \"\"}}, \"*\")"
      ],
      "text/plain": [
       "<IPython.core.display.Javascript object>"
      ]
     },
     "metadata": {},
     "output_type": "display_data"
    },
    {
     "data": {
      "text/markdown": [
       "<span style=\"color:#33cc33\">Correct</span>"
      ],
      "text/plain": [
       "Correct"
      ]
     },
     "metadata": {},
     "output_type": "display_data"
    }
   ],
   "source": [
    "from sklearn.metrics import mean_absolute_error\n",
    "val_mae = mean_absolute_error(val_y, val_predictions)\n",
    "\n",
    "# uncomment following line to see the validation_mae\n",
    "print(val_mae)\n",
    "\n",
    "# Check your answer\n",
    "step_4.check()"
   ]
  },
  {
   "cell_type": "code",
   "execution_count": 10,
   "id": "f1596e52",
   "metadata": {
    "execution": {
     "iopub.execute_input": "2021-09-30T23:48:59.776224Z",
     "iopub.status.busy": "2021-09-30T23:48:59.775576Z",
     "iopub.status.idle": "2021-09-30T23:48:59.784513Z",
     "shell.execute_reply": "2021-09-30T23:48:59.783864Z",
     "shell.execute_reply.started": "2021-09-30T22:46:04.876858Z"
    },
    "papermill": {
     "duration": 0.033431,
     "end_time": "2021-09-30T23:48:59.784662",
     "exception": false,
     "start_time": "2021-09-30T23:48:59.751231",
     "status": "completed"
    },
    "tags": []
   },
   "outputs": [
    {
     "name": "stdout",
     "output_type": "stream",
     "text": [
      "count      1460.000000\n",
      "mean     180921.195890\n",
      "std       79442.502883\n",
      "min       34900.000000\n",
      "25%      129975.000000\n",
      "50%      163000.000000\n",
      "75%      214000.000000\n",
      "max      755000.000000\n",
      "Name: SalePrice, dtype: float64\n"
     ]
    }
   ],
   "source": [
    "# step_4.hint()\n",
    "# step_4.solution()\n",
    "print(y.describe())"
   ]
  },
  {
   "cell_type": "markdown",
   "id": "200f20bd",
   "metadata": {
    "papermill": {
     "duration": 0.018508,
     "end_time": "2021-09-30T23:48:59.822128",
     "exception": false,
     "start_time": "2021-09-30T23:48:59.803620",
     "status": "completed"
    },
    "tags": []
   },
   "source": [
    "Is that MAE good?  There isn't a general rule for what values are good that applies across applications. But you'll see how to use (and improve) this number in the next step.\n",
    "\n",
    "Answer: We can look at the average home price and see that it is 180,921 dollars, which when looking at the 29,652 dollars MAE, we can see that the MAE is 16% of the average home price compared to the 25% we saw in the lesson. This isn't ideal, especially since money is involved, but considering this is the very first iteration of our model it isn't too bad at all. \n",
    "\n",
    "\n",
    "# Keep Going\n",
    "\n",
    "You are ready for **[Underfitting and Overfitting](https://www.kaggle.com/dansbecker/underfitting-and-overfitting).**\n"
   ]
  }
 ],
 "metadata": {
  "kernelspec": {
   "display_name": "Python 3",
   "language": "python",
   "name": "python3"
  },
  "language_info": {
   "codemirror_mode": {
    "name": "ipython",
    "version": 3
   },
   "file_extension": ".py",
   "mimetype": "text/x-python",
   "name": "python",
   "nbconvert_exporter": "python",
   "pygments_lexer": "ipython3",
   "version": "3.7.10"
  },
  "papermill": {
   "default_parameters": {},
   "duration": 10.778945,
   "end_time": "2021-09-30T23:49:00.450907",
   "environment_variables": {},
   "exception": null,
   "input_path": "__notebook__.ipynb",
   "output_path": "__notebook__.ipynb",
   "parameters": {},
   "start_time": "2021-09-30T23:48:49.671962",
   "version": "2.3.3"
  }
 },
 "nbformat": 4,
 "nbformat_minor": 5
}
