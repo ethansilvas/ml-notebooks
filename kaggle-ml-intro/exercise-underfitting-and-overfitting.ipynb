{
 "cells": [
  {
   "cell_type": "markdown",
   "id": "2c3192de",
   "metadata": {
    "papermill": {
     "duration": 0.009959,
     "end_time": "2021-10-04T01:30:14.735679",
     "exception": false,
     "start_time": "2021-10-04T01:30:14.725720",
     "status": "completed"
    },
    "tags": []
   },
   "source": [
    "**This notebook is an exercise in the [Introduction to Machine Learning](https://www.kaggle.com/learn/intro-to-machine-learning) course.  You can reference the tutorial at [this link](https://www.kaggle.com/dansbecker/underfitting-and-overfitting).**\n",
    "\n",
    "---\n"
   ]
  },
  {
   "cell_type": "markdown",
   "id": "623ef6c9",
   "metadata": {
    "papermill": {
     "duration": 0.009225,
     "end_time": "2021-10-04T01:30:14.754402",
     "exception": false,
     "start_time": "2021-10-04T01:30:14.745177",
     "status": "completed"
    },
    "tags": []
   },
   "source": [
    "## Recap\n",
    "You've built your first model, and now it's time to optimize the size of the tree to make better predictions. Run this cell to set up your coding environment where the previous step left off."
   ]
  },
  {
   "cell_type": "code",
   "execution_count": 1,
   "id": "9faf3ec6",
   "metadata": {
    "execution": {
     "iopub.execute_input": "2021-10-04T01:30:14.777663Z",
     "iopub.status.busy": "2021-10-04T01:30:14.776394Z",
     "iopub.status.idle": "2021-10-04T01:30:16.059998Z",
     "shell.execute_reply": "2021-10-04T01:30:16.060856Z",
     "shell.execute_reply.started": "2021-10-04T01:27:21.387469Z"
    },
    "papermill": {
     "duration": 1.297919,
     "end_time": "2021-10-04T01:30:16.061287",
     "exception": false,
     "start_time": "2021-10-04T01:30:14.763368",
     "status": "completed"
    },
    "tags": []
   },
   "outputs": [
    {
     "name": "stdout",
     "output_type": "stream",
     "text": [
      "Validation MAE: 29,653\n",
      "\n",
      "Setup complete\n"
     ]
    }
   ],
   "source": [
    "# Code you have previously used to load data\n",
    "import pandas as pd\n",
    "from sklearn.metrics import mean_absolute_error\n",
    "from sklearn.model_selection import train_test_split\n",
    "from sklearn.tree import DecisionTreeRegressor\n",
    "\n",
    "\n",
    "# Path of the file to read\n",
    "iowa_file_path = '../input/home-data-for-ml-course/train.csv'\n",
    "\n",
    "home_data = pd.read_csv(iowa_file_path)\n",
    "# Create target object and call it y\n",
    "y = home_data.SalePrice\n",
    "# Create X\n",
    "features = ['LotArea', 'YearBuilt', '1stFlrSF', '2ndFlrSF', 'FullBath', 'BedroomAbvGr', 'TotRmsAbvGrd']\n",
    "X = home_data[features]\n",
    "\n",
    "# Split into validation and training data\n",
    "train_X, val_X, train_y, val_y = train_test_split(X, y, random_state=1)\n",
    "\n",
    "# Specify Model\n",
    "iowa_model = DecisionTreeRegressor(random_state=1)\n",
    "# Fit Model\n",
    "iowa_model.fit(train_X, train_y)\n",
    "\n",
    "# Make validation predictions and calculate mean absolute error\n",
    "val_predictions = iowa_model.predict(val_X)\n",
    "val_mae = mean_absolute_error(val_predictions, val_y)\n",
    "print(\"Validation MAE: {:,.0f}\".format(val_mae))\n",
    "\n",
    "# Set up code checking\n",
    "from learntools.core import binder\n",
    "binder.bind(globals())\n",
    "from learntools.machine_learning.ex5 import *\n",
    "print(\"\\nSetup complete\")"
   ]
  },
  {
   "cell_type": "markdown",
   "id": "9486f1f8",
   "metadata": {
    "papermill": {
     "duration": 0.009123,
     "end_time": "2021-10-04T01:30:16.080960",
     "exception": false,
     "start_time": "2021-10-04T01:30:16.071837",
     "status": "completed"
    },
    "tags": []
   },
   "source": [
    "# Exercises\n",
    "You could write the function `get_mae` yourself. For now, we'll supply it. This is the same function you read about in the previous lesson. Just run the cell below."
   ]
  },
  {
   "cell_type": "code",
   "execution_count": 2,
   "id": "bbdd5ce9",
   "metadata": {
    "execution": {
     "iopub.execute_input": "2021-10-04T01:30:16.106784Z",
     "iopub.status.busy": "2021-10-04T01:30:16.106066Z",
     "iopub.status.idle": "2021-10-04T01:30:16.109354Z",
     "shell.execute_reply": "2021-10-04T01:30:16.108673Z",
     "shell.execute_reply.started": "2021-10-04T01:27:25.471952Z"
    },
    "papermill": {
     "duration": 0.019232,
     "end_time": "2021-10-04T01:30:16.109511",
     "exception": false,
     "start_time": "2021-10-04T01:30:16.090279",
     "status": "completed"
    },
    "tags": []
   },
   "outputs": [],
   "source": [
    "def get_mae(max_leaf_nodes, train_X, val_X, train_y, val_y):\n",
    "    model = DecisionTreeRegressor(max_leaf_nodes=max_leaf_nodes, random_state=0)\n",
    "    model.fit(train_X, train_y)\n",
    "    preds_val = model.predict(val_X)\n",
    "    mae = mean_absolute_error(val_y, preds_val)\n",
    "    return(mae)"
   ]
  },
  {
   "cell_type": "markdown",
   "id": "1ca42b47",
   "metadata": {
    "papermill": {
     "duration": 0.009054,
     "end_time": "2021-10-04T01:30:16.127957",
     "exception": false,
     "start_time": "2021-10-04T01:30:16.118903",
     "status": "completed"
    },
    "tags": []
   },
   "source": [
    "## Step 1: Compare Different Tree Sizes\n",
    "Write a loop that tries the following values for *max_leaf_nodes* from a set of possible values.\n",
    "\n",
    "Call the *get_mae* function on each value of max_leaf_nodes. Store the output in some way that allows you to select the value of `max_leaf_nodes` that gives the most accurate model on your data."
   ]
  },
  {
   "cell_type": "code",
   "execution_count": 3,
   "id": "119fd604",
   "metadata": {
    "execution": {
     "iopub.execute_input": "2021-10-04T01:30:16.157817Z",
     "iopub.status.busy": "2021-10-04T01:30:16.156270Z",
     "iopub.status.idle": "2021-10-04T01:30:16.208619Z",
     "shell.execute_reply": "2021-10-04T01:30:16.207526Z",
     "shell.execute_reply.started": "2021-10-04T01:27:28.493531Z"
    },
    "papermill": {
     "duration": 0.071534,
     "end_time": "2021-10-04T01:30:16.208791",
     "exception": false,
     "start_time": "2021-10-04T01:30:16.137257",
     "status": "completed"
    },
    "tags": []
   },
   "outputs": [
    {
     "name": "stdout",
     "output_type": "stream",
     "text": [
      "100 27282.50803885739\n"
     ]
    },
    {
     "data": {
      "application/javascript": [
       "parent.postMessage({\"jupyterEvent\": \"custom.exercise_interaction\", \"data\": {\"outcomeType\": 1, \"valueTowardsCompletion\": 0.5, \"interactionType\": 1, \"questionType\": 1, \"questionId\": \"1_BestTreeSize\", \"learnToolsVersion\": \"0.3.4\", \"failureMessage\": \"\", \"exceptionClass\": \"\", \"trace\": \"\"}}, \"*\")"
      ],
      "text/plain": [
       "<IPython.core.display.Javascript object>"
      ]
     },
     "metadata": {},
     "output_type": "display_data"
    },
    {
     "data": {
      "text/markdown": [
       "<span style=\"color:#33cc33\">Correct</span>"
      ],
      "text/plain": [
       "Correct"
      ]
     },
     "metadata": {},
     "output_type": "display_data"
    }
   ],
   "source": [
    "candidate_max_leaf_nodes = [5, 25, 50, 100, 250, 500]\n",
    "\n",
    "# Store the best value of max_leaf_nodes (it will be either 5, 25, 50, 100, 250 or 500)\n",
    "best_tree_size = 1\n",
    "# create variable to compare mae\n",
    "best_mae = None\n",
    "\n",
    "# Write loop to find the ideal tree size from candidate_max_leaf_nodes\n",
    "for max_leaf_nodes in candidate_max_leaf_nodes: \n",
    "    current_mae = get_mae(max_leaf_nodes, train_X, val_X, train_y, val_y)\n",
    "    \n",
    "    if (best_mae is None) or (best_mae is not None and current_mae < best_mae): \n",
    "        best_mae = current_mae \n",
    "        best_tree_size = max_leaf_nodes\n",
    "        \n",
    "print(best_tree_size, best_mae)\n",
    "\n",
    "# Check your answer\n",
    "step_1.check()"
   ]
  },
  {
   "cell_type": "code",
   "execution_count": 4,
   "id": "afc5bd55",
   "metadata": {
    "execution": {
     "iopub.execute_input": "2021-10-04T01:30:16.235085Z",
     "iopub.status.busy": "2021-10-04T01:30:16.234377Z",
     "iopub.status.idle": "2021-10-04T01:30:16.236948Z",
     "shell.execute_reply": "2021-10-04T01:30:16.236319Z"
    },
    "papermill": {
     "duration": 0.016971,
     "end_time": "2021-10-04T01:30:16.237100",
     "exception": false,
     "start_time": "2021-10-04T01:30:16.220129",
     "status": "completed"
    },
    "tags": []
   },
   "outputs": [],
   "source": [
    "# The lines below will show you a hint or the solution.\n",
    "# step_1.hint() \n",
    "# step_1.solution()"
   ]
  },
  {
   "cell_type": "markdown",
   "id": "646708e2",
   "metadata": {
    "papermill": {
     "duration": 0.010362,
     "end_time": "2021-10-04T01:30:16.258225",
     "exception": false,
     "start_time": "2021-10-04T01:30:16.247863",
     "status": "completed"
    },
    "tags": []
   },
   "source": [
    "## Step 2: Fit Model Using All Data\n",
    "You know the best tree size. If you were going to deploy this model in practice, you would make it even more accurate by using all of the data and keeping that tree size.  That is, you don't need to hold out the validation data now that you've made all your modeling decisions."
   ]
  },
  {
   "cell_type": "code",
   "execution_count": 5,
   "id": "1a29162d",
   "metadata": {
    "execution": {
     "iopub.execute_input": "2021-10-04T01:30:16.283610Z",
     "iopub.status.busy": "2021-10-04T01:30:16.282828Z",
     "iopub.status.idle": "2021-10-04T01:30:16.300605Z",
     "shell.execute_reply": "2021-10-04T01:30:16.300061Z",
     "shell.execute_reply.started": "2021-10-04T01:27:45.760070Z"
    },
    "papermill": {
     "duration": 0.0318,
     "end_time": "2021-10-04T01:30:16.300757",
     "exception": false,
     "start_time": "2021-10-04T01:30:16.268957",
     "status": "completed"
    },
    "tags": []
   },
   "outputs": [
    {
     "data": {
      "application/javascript": [
       "parent.postMessage({\"jupyterEvent\": \"custom.exercise_interaction\", \"data\": {\"outcomeType\": 1, \"valueTowardsCompletion\": 0.5, \"interactionType\": 1, \"questionType\": 2, \"questionId\": \"2_FitModelWithAllData\", \"learnToolsVersion\": \"0.3.4\", \"failureMessage\": \"\", \"exceptionClass\": \"\", \"trace\": \"\"}}, \"*\")"
      ],
      "text/plain": [
       "<IPython.core.display.Javascript object>"
      ]
     },
     "metadata": {},
     "output_type": "display_data"
    },
    {
     "data": {
      "text/markdown": [
       "<span style=\"color:#33cc33\">Correct</span>"
      ],
      "text/plain": [
       "Correct"
      ]
     },
     "metadata": {},
     "output_type": "display_data"
    }
   ],
   "source": [
    "# Fill in argument to make optimal size and uncomment\n",
    "final_model = DecisionTreeRegressor(max_leaf_nodes=best_tree_size)\n",
    "\n",
    "# fit the final model and uncomment the next two lines\n",
    "final_model.fit(X, y)\n",
    "\n",
    "# Check your answer\n",
    "step_2.check()"
   ]
  },
  {
   "cell_type": "code",
   "execution_count": 6,
   "id": "ef5ac90a",
   "metadata": {
    "execution": {
     "iopub.execute_input": "2021-10-04T01:30:16.329224Z",
     "iopub.status.busy": "2021-10-04T01:30:16.328356Z",
     "iopub.status.idle": "2021-10-04T01:30:16.330996Z",
     "shell.execute_reply": "2021-10-04T01:30:16.331544Z"
    },
    "papermill": {
     "duration": 0.019112,
     "end_time": "2021-10-04T01:30:16.331722",
     "exception": false,
     "start_time": "2021-10-04T01:30:16.312610",
     "status": "completed"
    },
    "tags": []
   },
   "outputs": [],
   "source": [
    "# step_2.hint()\n",
    "# step_2.solution()"
   ]
  },
  {
   "cell_type": "markdown",
   "id": "d3f15f76",
   "metadata": {
    "papermill": {
     "duration": 0.01149,
     "end_time": "2021-10-04T01:30:16.355198",
     "exception": false,
     "start_time": "2021-10-04T01:30:16.343708",
     "status": "completed"
    },
    "tags": []
   },
   "source": [
    "You've tuned this model and improved your results. But we are still using Decision Tree models, which are not very sophisticated by modern machine learning standards. In the next step you will learn to use Random Forests to improve your models even more.\n",
    "\n",
    "# Keep Going\n",
    "\n",
    "You are ready for **[Random Forests](https://www.kaggle.com/dansbecker/random-forests).**\n"
   ]
  }
 ],
 "metadata": {
  "kernelspec": {
   "display_name": "Python 3",
   "language": "python",
   "name": "python3"
  },
  "language_info": {
   "codemirror_mode": {
    "name": "ipython",
    "version": 3
   },
   "file_extension": ".py",
   "mimetype": "text/x-python",
   "name": "python",
   "nbconvert_exporter": "python",
   "pygments_lexer": "ipython3",
   "version": "3.7.10"
  },
  "papermill": {
   "default_parameters": {},
   "duration": 12.832621,
   "end_time": "2021-10-04T01:30:17.884121",
   "environment_variables": {},
   "exception": null,
   "input_path": "__notebook__.ipynb",
   "output_path": "__notebook__.ipynb",
   "parameters": {},
   "start_time": "2021-10-04T01:30:05.051500",
   "version": "2.3.3"
  }
 },
 "nbformat": 4,
 "nbformat_minor": 5
}
